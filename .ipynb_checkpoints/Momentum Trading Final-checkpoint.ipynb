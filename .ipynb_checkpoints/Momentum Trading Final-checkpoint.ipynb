{
 "cells": [
  {
   "cell_type": "markdown",
   "metadata": {},
   "source": [
    "### Import Section"
   ]
  },
  {
   "cell_type": "code",
   "execution_count": 2,
   "metadata": {},
   "outputs": [],
   "source": [
    "import pandas as pd\n",
    "import numpy as np\n",
    "import matplotlib.pyplot as plt\n",
    "import seaborn as sns\n",
    "import plotly.express as px\n",
    "import yfinance as yf\n",
    "import scipy.stats as stats\n",
    "import datetime\n",
    "import time\n",
    "import requests\n",
    "import io\n",
    "\n",
    "from statsmodels import regression\n",
    "import statsmodels.api as sm\n",
    "import scipy.stats as stats\n",
    "import scipy.spatial.distance as distance\n",
    "import matplotlib.pyplot as plt\n",
    "%matplotlib inline\n",
    "import pandas as pd\n",
    "import numpy as np\n",
    "import auquanToolbox.dataloader as dl\n",
    "import warnings\n",
    "warnings.filterwarnings('ignore')"
   ]
  },
  {
   "cell_type": "markdown",
   "metadata": {},
   "source": [
    "### Downloading Data"
   ]
  },
  {
   "cell_type": "code",
   "execution_count": 3,
   "metadata": {},
   "outputs": [],
   "source": [
    "df_sp_500 = pd.read_csv('constituents.csv')\n",
    "symbol_list=list(df_sp_500.Symbol)"
   ]
  },
  {
   "cell_type": "code",
   "execution_count": 4,
   "metadata": {},
   "outputs": [],
   "source": [
    "Symbols= symbol_list"
   ]
  },
  {
   "cell_type": "code",
   "execution_count": 9,
   "metadata": {},
   "outputs": [],
   "source": [
    "def download_data(start,end):\n",
    "    stock_final = pd.DataFrame()\n",
    "    # iterate over each symbol\n",
    "    for i in Symbols:  \n",
    "\n",
    "        # print the symbol which is being downloaded\n",
    "        print( str(Symbols.index(i)) + str(' : ') + i, sep=',', end=',', flush=True)  \n",
    "\n",
    "        try:\n",
    "            # download the stock price \n",
    "            stock = []\n",
    "            stock = yf.download(i,start=start, end=end, progress=False)\n",
    "            # append the individual stock prices \n",
    "            if len(stock) == 0:\n",
    "                None\n",
    "            else:\n",
    "                stock['Name']=i\n",
    "                stock_final = stock_final.append(stock,sort=False)\n",
    "        except Exception:\n",
    "            None\n",
    "    return stock_final"
   ]
  },
  {
   "cell_type": "markdown",
   "metadata": {},
   "source": [
    "### Train Test split"
   ]
  },
  {
   "cell_type": "code",
   "execution_count": 10,
   "metadata": {},
   "outputs": [],
   "source": [
    "train_start = datetime.datetime(2014,1,1)\n",
    "train_end = datetime.datetime(2019,1,1)\n",
    "test_start = datetime.datetime(2019,1,1)\n",
    "test_end = datetime.datetime(2021,6,1)"
   ]
  },
  {
   "cell_type": "code",
   "execution_count": null,
   "metadata": {},
   "outputs": [],
   "source": [
    "df_train = download_data(train_start,train_end)\n",
    "df_test = download_data(test_start,test_end)"
   ]
  },
  {
   "cell_type": "code",
   "execution_count": 15,
   "metadata": {},
   "outputs": [
    {
     "data": {
      "text/html": [
       "<div>\n",
       "<style scoped>\n",
       "    .dataframe tbody tr th:only-of-type {\n",
       "        vertical-align: middle;\n",
       "    }\n",
       "\n",
       "    .dataframe tbody tr th {\n",
       "        vertical-align: top;\n",
       "    }\n",
       "\n",
       "    .dataframe thead th {\n",
       "        text-align: right;\n",
       "    }\n",
       "</style>\n",
       "<table border=\"1\" class=\"dataframe\">\n",
       "  <thead>\n",
       "    <tr style=\"text-align: right;\">\n",
       "      <th></th>\n",
       "      <th>Open</th>\n",
       "      <th>High</th>\n",
       "      <th>Low</th>\n",
       "      <th>Close</th>\n",
       "      <th>Adj Close</th>\n",
       "      <th>Volume</th>\n",
       "      <th>Name</th>\n",
       "    </tr>\n",
       "    <tr>\n",
       "      <th>Date</th>\n",
       "      <th></th>\n",
       "      <th></th>\n",
       "      <th></th>\n",
       "      <th></th>\n",
       "      <th></th>\n",
       "      <th></th>\n",
       "      <th></th>\n",
       "    </tr>\n",
       "  </thead>\n",
       "  <tbody>\n",
       "    <tr>\n",
       "      <th>2013-12-31</th>\n",
       "      <td>140.000000</td>\n",
       "      <td>140.429993</td>\n",
       "      <td>139.479996</td>\n",
       "      <td>140.250000</td>\n",
       "      <td>113.568527</td>\n",
       "      <td>1846500</td>\n",
       "      <td>MMM</td>\n",
       "    </tr>\n",
       "    <tr>\n",
       "      <th>2014-01-02</th>\n",
       "      <td>138.050003</td>\n",
       "      <td>139.000000</td>\n",
       "      <td>137.610001</td>\n",
       "      <td>138.130005</td>\n",
       "      <td>111.851845</td>\n",
       "      <td>3052100</td>\n",
       "      <td>MMM</td>\n",
       "    </tr>\n",
       "    <tr>\n",
       "      <th>2014-01-03</th>\n",
       "      <td>138.369995</td>\n",
       "      <td>138.880005</td>\n",
       "      <td>138.029999</td>\n",
       "      <td>138.449997</td>\n",
       "      <td>112.110909</td>\n",
       "      <td>2133300</td>\n",
       "      <td>MMM</td>\n",
       "    </tr>\n",
       "    <tr>\n",
       "      <th>2014-01-06</th>\n",
       "      <td>138.750000</td>\n",
       "      <td>139.289993</td>\n",
       "      <td>137.479996</td>\n",
       "      <td>137.630005</td>\n",
       "      <td>111.446899</td>\n",
       "      <td>2712100</td>\n",
       "      <td>MMM</td>\n",
       "    </tr>\n",
       "    <tr>\n",
       "      <th>2014-01-07</th>\n",
       "      <td>137.449997</td>\n",
       "      <td>138.199997</td>\n",
       "      <td>137.130005</td>\n",
       "      <td>137.649994</td>\n",
       "      <td>111.463104</td>\n",
       "      <td>2525500</td>\n",
       "      <td>MMM</td>\n",
       "    </tr>\n",
       "  </tbody>\n",
       "</table>\n",
       "</div>"
      ],
      "text/plain": [
       "                  Open        High         Low       Close   Adj Close  \\\n",
       "Date                                                                     \n",
       "2013-12-31  140.000000  140.429993  139.479996  140.250000  113.568527   \n",
       "2014-01-02  138.050003  139.000000  137.610001  138.130005  111.851845   \n",
       "2014-01-03  138.369995  138.880005  138.029999  138.449997  112.110909   \n",
       "2014-01-06  138.750000  139.289993  137.479996  137.630005  111.446899   \n",
       "2014-01-07  137.449997  138.199997  137.130005  137.649994  111.463104   \n",
       "\n",
       "             Volume Name  \n",
       "Date                      \n",
       "2013-12-31  1846500  MMM  \n",
       "2014-01-02  3052100  MMM  \n",
       "2014-01-03  2133300  MMM  \n",
       "2014-01-06  2712100  MMM  \n",
       "2014-01-07  2525500  MMM  "
      ]
     },
     "execution_count": 15,
     "metadata": {},
     "output_type": "execute_result"
    }
   ],
   "source": [
    "df_train.head()"
   ]
  },
  {
   "cell_type": "code",
   "execution_count": 16,
   "metadata": {},
   "outputs": [
    {
     "name": "stdout",
     "output_type": "stream",
     "text": [
      "<class 'pandas.core.frame.DataFrame'>\n",
      "DatetimeIndex: 618387 entries, 2013-12-31 to 2018-12-31\n",
      "Data columns (total 7 columns):\n",
      " #   Column     Non-Null Count   Dtype  \n",
      "---  ------     --------------   -----  \n",
      " 0   Open       618387 non-null  float64\n",
      " 1   High       618387 non-null  float64\n",
      " 2   Low        618387 non-null  float64\n",
      " 3   Close      618387 non-null  float64\n",
      " 4   Adj Close  618387 non-null  float64\n",
      " 5   Volume     618387 non-null  int64  \n",
      " 6   Name       618387 non-null  object \n",
      "dtypes: float64(5), int64(1), object(1)\n",
      "memory usage: 37.7+ MB\n"
     ]
    }
   ],
   "source": [
    "df_train.info()"
   ]
  },
  {
   "cell_type": "code",
   "execution_count": 17,
   "metadata": {},
   "outputs": [
    {
     "data": {
      "text/html": [
       "<div>\n",
       "<style scoped>\n",
       "    .dataframe tbody tr th:only-of-type {\n",
       "        vertical-align: middle;\n",
       "    }\n",
       "\n",
       "    .dataframe tbody tr th {\n",
       "        vertical-align: top;\n",
       "    }\n",
       "\n",
       "    .dataframe thead th {\n",
       "        text-align: right;\n",
       "    }\n",
       "</style>\n",
       "<table border=\"1\" class=\"dataframe\">\n",
       "  <thead>\n",
       "    <tr style=\"text-align: right;\">\n",
       "      <th></th>\n",
       "      <th>Open</th>\n",
       "      <th>High</th>\n",
       "      <th>Low</th>\n",
       "      <th>Close</th>\n",
       "      <th>Adj Close</th>\n",
       "      <th>Volume</th>\n",
       "      <th>Name</th>\n",
       "    </tr>\n",
       "    <tr>\n",
       "      <th>Date</th>\n",
       "      <th></th>\n",
       "      <th></th>\n",
       "      <th></th>\n",
       "      <th></th>\n",
       "      <th></th>\n",
       "      <th></th>\n",
       "      <th></th>\n",
       "    </tr>\n",
       "  </thead>\n",
       "  <tbody>\n",
       "    <tr>\n",
       "      <th>2018-12-31</th>\n",
       "      <td>190.339996</td>\n",
       "      <td>191.649994</td>\n",
       "      <td>188.500000</td>\n",
       "      <td>190.539993</td>\n",
       "      <td>174.972015</td>\n",
       "      <td>1804400.0</td>\n",
       "      <td>MMM</td>\n",
       "    </tr>\n",
       "    <tr>\n",
       "      <th>2019-01-02</th>\n",
       "      <td>187.820007</td>\n",
       "      <td>190.990005</td>\n",
       "      <td>186.699997</td>\n",
       "      <td>190.949997</td>\n",
       "      <td>175.348480</td>\n",
       "      <td>2475200.0</td>\n",
       "      <td>MMM</td>\n",
       "    </tr>\n",
       "    <tr>\n",
       "      <th>2019-01-03</th>\n",
       "      <td>188.279999</td>\n",
       "      <td>188.279999</td>\n",
       "      <td>182.889999</td>\n",
       "      <td>183.759995</td>\n",
       "      <td>168.745956</td>\n",
       "      <td>3358200.0</td>\n",
       "      <td>MMM</td>\n",
       "    </tr>\n",
       "    <tr>\n",
       "      <th>2019-01-04</th>\n",
       "      <td>186.750000</td>\n",
       "      <td>191.979996</td>\n",
       "      <td>186.029999</td>\n",
       "      <td>191.320007</td>\n",
       "      <td>175.688278</td>\n",
       "      <td>2995100.0</td>\n",
       "      <td>MMM</td>\n",
       "    </tr>\n",
       "    <tr>\n",
       "      <th>2019-01-07</th>\n",
       "      <td>191.360001</td>\n",
       "      <td>192.300003</td>\n",
       "      <td>188.660004</td>\n",
       "      <td>190.880005</td>\n",
       "      <td>175.284241</td>\n",
       "      <td>2162200.0</td>\n",
       "      <td>MMM</td>\n",
       "    </tr>\n",
       "  </tbody>\n",
       "</table>\n",
       "</div>"
      ],
      "text/plain": [
       "                  Open        High         Low       Close   Adj Close  \\\n",
       "Date                                                                     \n",
       "2018-12-31  190.339996  191.649994  188.500000  190.539993  174.972015   \n",
       "2019-01-02  187.820007  190.990005  186.699997  190.949997  175.348480   \n",
       "2019-01-03  188.279999  188.279999  182.889999  183.759995  168.745956   \n",
       "2019-01-04  186.750000  191.979996  186.029999  191.320007  175.688278   \n",
       "2019-01-07  191.360001  192.300003  188.660004  190.880005  175.284241   \n",
       "\n",
       "               Volume Name  \n",
       "Date                        \n",
       "2018-12-31  1804400.0  MMM  \n",
       "2019-01-02  2475200.0  MMM  \n",
       "2019-01-03  3358200.0  MMM  \n",
       "2019-01-04  2995100.0  MMM  \n",
       "2019-01-07  2162200.0  MMM  "
      ]
     },
     "execution_count": 17,
     "metadata": {},
     "output_type": "execute_result"
    }
   ],
   "source": [
    "df_test.head()"
   ]
  },
  {
   "cell_type": "code",
   "execution_count": 18,
   "metadata": {},
   "outputs": [
    {
     "name": "stdout",
     "output_type": "stream",
     "text": [
      "<class 'pandas.core.frame.DataFrame'>\n",
      "DatetimeIndex: 304061 entries, 2018-12-31 to 2021-05-28\n",
      "Data columns (total 7 columns):\n",
      " #   Column     Non-Null Count   Dtype  \n",
      "---  ------     --------------   -----  \n",
      " 0   Open       304057 non-null  float64\n",
      " 1   High       304057 non-null  float64\n",
      " 2   Low        304057 non-null  float64\n",
      " 3   Close      304057 non-null  float64\n",
      " 4   Adj Close  304057 non-null  float64\n",
      " 5   Volume     304057 non-null  float64\n",
      " 6   Name       304061 non-null  object \n",
      "dtypes: float64(6), object(1)\n",
      "memory usage: 18.6+ MB\n"
     ]
    }
   ],
   "source": [
    "df_test.info()"
   ]
  },
  {
   "cell_type": "code",
   "execution_count": 13,
   "metadata": {},
   "outputs": [],
   "source": [
    "#Saving the data\n",
    "#df_train.to_csv('s&p500_data_train.csv',index=True)\n",
    "#df_test.to_csv('s&p500_data_test.csv',index=True)"
   ]
  },
  {
   "cell_type": "code",
   "execution_count": 30,
   "metadata": {},
   "outputs": [],
   "source": [
    "#stock_final.to_csv('s&p500_data.csv',index=True)"
   ]
  },
  {
   "cell_type": "code",
   "execution_count": 115,
   "metadata": {},
   "outputs": [],
   "source": [
    "stock_final = pd.read_csv('s&p500_data_train.csv',parse_dates=['Date'])"
   ]
  },
  {
   "cell_type": "code",
   "execution_count": 116,
   "metadata": {},
   "outputs": [],
   "source": [
    "df = stock_final.drop(['Open', 'High', 'Low', 'Close', 'Volume'],axis=1)"
   ]
  },
  {
   "cell_type": "code",
   "execution_count": 117,
   "metadata": {
    "scrolled": true
   },
   "outputs": [
    {
     "data": {
      "text/html": [
       "<div>\n",
       "<style scoped>\n",
       "    .dataframe tbody tr th:only-of-type {\n",
       "        vertical-align: middle;\n",
       "    }\n",
       "\n",
       "    .dataframe tbody tr th {\n",
       "        vertical-align: top;\n",
       "    }\n",
       "\n",
       "    .dataframe thead th {\n",
       "        text-align: right;\n",
       "    }\n",
       "</style>\n",
       "<table border=\"1\" class=\"dataframe\">\n",
       "  <thead>\n",
       "    <tr style=\"text-align: right;\">\n",
       "      <th></th>\n",
       "      <th>Date</th>\n",
       "      <th>Adj Close</th>\n",
       "      <th>Name</th>\n",
       "    </tr>\n",
       "  </thead>\n",
       "  <tbody>\n",
       "    <tr>\n",
       "      <th>0</th>\n",
       "      <td>2013-12-31</td>\n",
       "      <td>113.568527</td>\n",
       "      <td>MMM</td>\n",
       "    </tr>\n",
       "    <tr>\n",
       "      <th>1</th>\n",
       "      <td>2014-01-02</td>\n",
       "      <td>111.851845</td>\n",
       "      <td>MMM</td>\n",
       "    </tr>\n",
       "    <tr>\n",
       "      <th>2</th>\n",
       "      <td>2014-01-03</td>\n",
       "      <td>112.110909</td>\n",
       "      <td>MMM</td>\n",
       "    </tr>\n",
       "    <tr>\n",
       "      <th>3</th>\n",
       "      <td>2014-01-06</td>\n",
       "      <td>111.446899</td>\n",
       "      <td>MMM</td>\n",
       "    </tr>\n",
       "    <tr>\n",
       "      <th>4</th>\n",
       "      <td>2014-01-07</td>\n",
       "      <td>111.463104</td>\n",
       "      <td>MMM</td>\n",
       "    </tr>\n",
       "  </tbody>\n",
       "</table>\n",
       "</div>"
      ],
      "text/plain": [
       "        Date   Adj Close Name\n",
       "0 2013-12-31  113.568527  MMM\n",
       "1 2014-01-02  111.851845  MMM\n",
       "2 2014-01-03  112.110909  MMM\n",
       "3 2014-01-06  111.446899  MMM\n",
       "4 2014-01-07  111.463104  MMM"
      ]
     },
     "execution_count": 117,
     "metadata": {},
     "output_type": "execute_result"
    }
   ],
   "source": [
    "df.head()"
   ]
  },
  {
   "cell_type": "code",
   "execution_count": 118,
   "metadata": {},
   "outputs": [],
   "source": [
    "df.reset_index(inplace=True)\n",
    "df = df.pivot(index='Date', columns='Name', values='Adj Close')"
   ]
  },
  {
   "cell_type": "code",
   "execution_count": 119,
   "metadata": {
    "scrolled": true
   },
   "outputs": [
    {
     "data": {
      "text/html": [
       "<div>\n",
       "<style scoped>\n",
       "    .dataframe tbody tr th:only-of-type {\n",
       "        vertical-align: middle;\n",
       "    }\n",
       "\n",
       "    .dataframe tbody tr th {\n",
       "        vertical-align: top;\n",
       "    }\n",
       "\n",
       "    .dataframe thead th {\n",
       "        text-align: right;\n",
       "    }\n",
       "</style>\n",
       "<table border=\"1\" class=\"dataframe\">\n",
       "  <thead>\n",
       "    <tr style=\"text-align: right;\">\n",
       "      <th>Name</th>\n",
       "      <th>A</th>\n",
       "      <th>AAL</th>\n",
       "      <th>AAP</th>\n",
       "      <th>AAPL</th>\n",
       "      <th>ABBV</th>\n",
       "      <th>ABC</th>\n",
       "      <th>ABMD</th>\n",
       "      <th>ABT</th>\n",
       "      <th>ACN</th>\n",
       "      <th>ADBE</th>\n",
       "      <th>...</th>\n",
       "      <th>XEL</th>\n",
       "      <th>XLNX</th>\n",
       "      <th>XOM</th>\n",
       "      <th>XRAY</th>\n",
       "      <th>XYL</th>\n",
       "      <th>YUM</th>\n",
       "      <th>ZBH</th>\n",
       "      <th>ZBRA</th>\n",
       "      <th>ZION</th>\n",
       "      <th>ZTS</th>\n",
       "    </tr>\n",
       "    <tr>\n",
       "      <th>Date</th>\n",
       "      <th></th>\n",
       "      <th></th>\n",
       "      <th></th>\n",
       "      <th></th>\n",
       "      <th></th>\n",
       "      <th></th>\n",
       "      <th></th>\n",
       "      <th></th>\n",
       "      <th></th>\n",
       "      <th></th>\n",
       "      <th></th>\n",
       "      <th></th>\n",
       "      <th></th>\n",
       "      <th></th>\n",
       "      <th></th>\n",
       "      <th></th>\n",
       "      <th></th>\n",
       "      <th></th>\n",
       "      <th></th>\n",
       "      <th></th>\n",
       "      <th></th>\n",
       "    </tr>\n",
       "  </thead>\n",
       "  <tbody>\n",
       "    <tr>\n",
       "      <th>2013-12-31</th>\n",
       "      <td>38.247646</td>\n",
       "      <td>23.804220</td>\n",
       "      <td>108.574318</td>\n",
       "      <td>17.819059</td>\n",
       "      <td>38.783775</td>\n",
       "      <td>62.277599</td>\n",
       "      <td>26.740000</td>\n",
       "      <td>33.028294</td>\n",
       "      <td>71.508987</td>\n",
       "      <td>59.880001</td>\n",
       "      <td>...</td>\n",
       "      <td>22.132151</td>\n",
       "      <td>39.482224</td>\n",
       "      <td>72.806999</td>\n",
       "      <td>46.201324</td>\n",
       "      <td>31.320330</td>\n",
       "      <td>47.024837</td>\n",
       "      <td>87.869392</td>\n",
       "      <td>54.080002</td>\n",
       "      <td>26.307463</td>\n",
       "      <td>30.937725</td>\n",
       "    </tr>\n",
       "    <tr>\n",
       "      <th>2014-01-02</th>\n",
       "      <td>37.592243</td>\n",
       "      <td>23.907927</td>\n",
       "      <td>107.652184</td>\n",
       "      <td>17.568451</td>\n",
       "      <td>38.174229</td>\n",
       "      <td>61.905617</td>\n",
       "      <td>26.850000</td>\n",
       "      <td>32.942123</td>\n",
       "      <td>70.560982</td>\n",
       "      <td>59.290001</td>\n",
       "      <td>...</td>\n",
       "      <td>21.791540</td>\n",
       "      <td>39.525215</td>\n",
       "      <td>71.763840</td>\n",
       "      <td>45.705753</td>\n",
       "      <td>30.922037</td>\n",
       "      <td>46.701431</td>\n",
       "      <td>86.973610</td>\n",
       "      <td>53.180000</td>\n",
       "      <td>26.035259</td>\n",
       "      <td>30.625414</td>\n",
       "    </tr>\n",
       "    <tr>\n",
       "      <th>2014-01-03</th>\n",
       "      <td>38.067078</td>\n",
       "      <td>25.020357</td>\n",
       "      <td>110.732445</td>\n",
       "      <td>17.182550</td>\n",
       "      <td>38.409229</td>\n",
       "      <td>61.949898</td>\n",
       "      <td>27.059999</td>\n",
       "      <td>33.295418</td>\n",
       "      <td>70.795822</td>\n",
       "      <td>59.160000</td>\n",
       "      <td>...</td>\n",
       "      <td>21.783617</td>\n",
       "      <td>39.224277</td>\n",
       "      <td>71.591171</td>\n",
       "      <td>45.924946</td>\n",
       "      <td>31.202660</td>\n",
       "      <td>46.993744</td>\n",
       "      <td>87.350807</td>\n",
       "      <td>53.580002</td>\n",
       "      <td>26.219656</td>\n",
       "      <td>30.332031</td>\n",
       "    </tr>\n",
       "    <tr>\n",
       "      <th>2014-01-06</th>\n",
       "      <td>37.879810</td>\n",
       "      <td>25.482304</td>\n",
       "      <td>109.672997</td>\n",
       "      <td>17.276245</td>\n",
       "      <td>37.006523</td>\n",
       "      <td>61.728436</td>\n",
       "      <td>27.299999</td>\n",
       "      <td>33.734875</td>\n",
       "      <td>70.047867</td>\n",
       "      <td>58.119999</td>\n",
       "      <td>...</td>\n",
       "      <td>21.664799</td>\n",
       "      <td>39.052319</td>\n",
       "      <td>71.699089</td>\n",
       "      <td>45.648575</td>\n",
       "      <td>31.148344</td>\n",
       "      <td>46.956436</td>\n",
       "      <td>87.916550</td>\n",
       "      <td>53.400002</td>\n",
       "      <td>26.035259</td>\n",
       "      <td>30.265789</td>\n",
       "    </tr>\n",
       "    <tr>\n",
       "      <th>2014-01-07</th>\n",
       "      <td>38.421539</td>\n",
       "      <td>25.369177</td>\n",
       "      <td>111.026726</td>\n",
       "      <td>17.152693</td>\n",
       "      <td>37.079971</td>\n",
       "      <td>62.401627</td>\n",
       "      <td>27.620001</td>\n",
       "      <td>33.476364</td>\n",
       "      <td>70.900169</td>\n",
       "      <td>58.970001</td>\n",
       "      <td>...</td>\n",
       "      <td>22.037098</td>\n",
       "      <td>39.138302</td>\n",
       "      <td>72.713493</td>\n",
       "      <td>46.353794</td>\n",
       "      <td>31.238863</td>\n",
       "      <td>47.615696</td>\n",
       "      <td>89.670349</td>\n",
       "      <td>53.950001</td>\n",
       "      <td>26.114286</td>\n",
       "      <td>30.379347</td>\n",
       "    </tr>\n",
       "  </tbody>\n",
       "</table>\n",
       "<p>5 rows × 496 columns</p>\n",
       "</div>"
      ],
      "text/plain": [
       "Name                A        AAL         AAP       AAPL       ABBV        ABC  \\\n",
       "Date                                                                            \n",
       "2013-12-31  38.247646  23.804220  108.574318  17.819059  38.783775  62.277599   \n",
       "2014-01-02  37.592243  23.907927  107.652184  17.568451  38.174229  61.905617   \n",
       "2014-01-03  38.067078  25.020357  110.732445  17.182550  38.409229  61.949898   \n",
       "2014-01-06  37.879810  25.482304  109.672997  17.276245  37.006523  61.728436   \n",
       "2014-01-07  38.421539  25.369177  111.026726  17.152693  37.079971  62.401627   \n",
       "\n",
       "Name             ABMD        ABT        ACN       ADBE  ...        XEL  \\\n",
       "Date                                                    ...              \n",
       "2013-12-31  26.740000  33.028294  71.508987  59.880001  ...  22.132151   \n",
       "2014-01-02  26.850000  32.942123  70.560982  59.290001  ...  21.791540   \n",
       "2014-01-03  27.059999  33.295418  70.795822  59.160000  ...  21.783617   \n",
       "2014-01-06  27.299999  33.734875  70.047867  58.119999  ...  21.664799   \n",
       "2014-01-07  27.620001  33.476364  70.900169  58.970001  ...  22.037098   \n",
       "\n",
       "Name             XLNX        XOM       XRAY        XYL        YUM        ZBH  \\\n",
       "Date                                                                           \n",
       "2013-12-31  39.482224  72.806999  46.201324  31.320330  47.024837  87.869392   \n",
       "2014-01-02  39.525215  71.763840  45.705753  30.922037  46.701431  86.973610   \n",
       "2014-01-03  39.224277  71.591171  45.924946  31.202660  46.993744  87.350807   \n",
       "2014-01-06  39.052319  71.699089  45.648575  31.148344  46.956436  87.916550   \n",
       "2014-01-07  39.138302  72.713493  46.353794  31.238863  47.615696  89.670349   \n",
       "\n",
       "Name             ZBRA       ZION        ZTS  \n",
       "Date                                         \n",
       "2013-12-31  54.080002  26.307463  30.937725  \n",
       "2014-01-02  53.180000  26.035259  30.625414  \n",
       "2014-01-03  53.580002  26.219656  30.332031  \n",
       "2014-01-06  53.400002  26.035259  30.265789  \n",
       "2014-01-07  53.950001  26.114286  30.379347  \n",
       "\n",
       "[5 rows x 496 columns]"
      ]
     },
     "execution_count": 119,
     "metadata": {},
     "output_type": "execute_result"
    }
   ],
   "source": [
    "df.head()"
   ]
  },
  {
   "cell_type": "code",
   "execution_count": 120,
   "metadata": {},
   "outputs": [
    {
     "data": {
      "text/html": [
       "<div>\n",
       "<style scoped>\n",
       "    .dataframe tbody tr th:only-of-type {\n",
       "        vertical-align: middle;\n",
       "    }\n",
       "\n",
       "    .dataframe tbody tr th {\n",
       "        vertical-align: top;\n",
       "    }\n",
       "\n",
       "    .dataframe thead th {\n",
       "        text-align: right;\n",
       "    }\n",
       "</style>\n",
       "<table border=\"1\" class=\"dataframe\">\n",
       "  <thead>\n",
       "    <tr style=\"text-align: right;\">\n",
       "      <th></th>\n",
       "      <th>Open</th>\n",
       "      <th>High</th>\n",
       "      <th>Low</th>\n",
       "      <th>Close</th>\n",
       "      <th>Adj Close</th>\n",
       "      <th>Volume</th>\n",
       "    </tr>\n",
       "  </thead>\n",
       "  <tbody>\n",
       "    <tr>\n",
       "      <th>count</th>\n",
       "      <td>618387.000000</td>\n",
       "      <td>618387.000000</td>\n",
       "      <td>618387.000000</td>\n",
       "      <td>618387.000000</td>\n",
       "      <td>618387.000000</td>\n",
       "      <td>6.183870e+05</td>\n",
       "    </tr>\n",
       "    <tr>\n",
       "      <th>mean</th>\n",
       "      <td>93.299068</td>\n",
       "      <td>94.196785</td>\n",
       "      <td>92.365316</td>\n",
       "      <td>93.302314</td>\n",
       "      <td>87.048120</td>\n",
       "      <td>4.559524e+06</td>\n",
       "    </tr>\n",
       "    <tr>\n",
       "      <th>std</th>\n",
       "      <td>144.321801</td>\n",
       "      <td>145.819923</td>\n",
       "      <td>142.749101</td>\n",
       "      <td>144.330134</td>\n",
       "      <td>143.996818</td>\n",
       "      <td>1.209831e+07</td>\n",
       "    </tr>\n",
       "    <tr>\n",
       "      <th>min</th>\n",
       "      <td>0.700000</td>\n",
       "      <td>0.710000</td>\n",
       "      <td>0.650000</td>\n",
       "      <td>0.700000</td>\n",
       "      <td>0.700000</td>\n",
       "      <td>0.000000e+00</td>\n",
       "    </tr>\n",
       "    <tr>\n",
       "      <th>25%</th>\n",
       "      <td>41.169998</td>\n",
       "      <td>41.580002</td>\n",
       "      <td>40.770000</td>\n",
       "      <td>41.189999</td>\n",
       "      <td>36.820230</td>\n",
       "      <td>9.683000e+05</td>\n",
       "    </tr>\n",
       "    <tr>\n",
       "      <th>50%</th>\n",
       "      <td>65.209999</td>\n",
       "      <td>65.849998</td>\n",
       "      <td>64.580002</td>\n",
       "      <td>65.220001</td>\n",
       "      <td>58.818001</td>\n",
       "      <td>1.983000e+06</td>\n",
       "    </tr>\n",
       "    <tr>\n",
       "      <th>75%</th>\n",
       "      <td>102.209999</td>\n",
       "      <td>103.150002</td>\n",
       "      <td>101.279999</td>\n",
       "      <td>102.239998</td>\n",
       "      <td>94.048531</td>\n",
       "      <td>4.308000e+06</td>\n",
       "    </tr>\n",
       "    <tr>\n",
       "      <th>max</th>\n",
       "      <td>3698.850098</td>\n",
       "      <td>3700.000000</td>\n",
       "      <td>3627.979980</td>\n",
       "      <td>3700.000000</td>\n",
       "      <td>3700.000000</td>\n",
       "      <td>1.065523e+09</td>\n",
       "    </tr>\n",
       "  </tbody>\n",
       "</table>\n",
       "</div>"
      ],
      "text/plain": [
       "                Open           High            Low          Close  \\\n",
       "count  618387.000000  618387.000000  618387.000000  618387.000000   \n",
       "mean       93.299068      94.196785      92.365316      93.302314   \n",
       "std       144.321801     145.819923     142.749101     144.330134   \n",
       "min         0.700000       0.710000       0.650000       0.700000   \n",
       "25%        41.169998      41.580002      40.770000      41.189999   \n",
       "50%        65.209999      65.849998      64.580002      65.220001   \n",
       "75%       102.209999     103.150002     101.279999     102.239998   \n",
       "max      3698.850098    3700.000000    3627.979980    3700.000000   \n",
       "\n",
       "           Adj Close        Volume  \n",
       "count  618387.000000  6.183870e+05  \n",
       "mean       87.048120  4.559524e+06  \n",
       "std       143.996818  1.209831e+07  \n",
       "min         0.700000  0.000000e+00  \n",
       "25%        36.820230  9.683000e+05  \n",
       "50%        58.818001  1.983000e+06  \n",
       "75%        94.048531  4.308000e+06  \n",
       "max      3700.000000  1.065523e+09  "
      ]
     },
     "execution_count": 120,
     "metadata": {},
     "output_type": "execute_result"
    }
   ],
   "source": [
    "stock_final.describe()"
   ]
  },
  {
   "cell_type": "markdown",
   "metadata": {},
   "source": [
    "### Stock Example\n",
    "Let's see what a single stock looks like from the closing prices.We'll use Apple's stock (AAPL). "
   ]
  },
  {
   "cell_type": "code",
   "execution_count": 121,
   "metadata": {},
   "outputs": [],
   "source": [
    "apple = df['AAPL']"
   ]
  },
  {
   "cell_type": "code",
   "execution_count": 122,
   "metadata": {},
   "outputs": [
    {
     "data": {
      "image/png": "[encoded data removed]",
      "text/plain": [
       "<Figure size 1080x360 with 1 Axes>"
      ]
     },
     "metadata": {
      "needs_background": "light"
     },
     "output_type": "display_data"
    }
   ],
   "source": [
    "plt.figure(figsize=(15,5))\n",
    "plt.plot(df['AAPL'])\n",
    "plt.show()"
   ]
  },
  {
   "cell_type": "markdown",
   "metadata": {},
   "source": [
    "### Moving Average Crossover\n",
    "This means computing two moving averages of different lengths, and waiting for one to cross the other. The direction of the cross will indicate the direction of the momentum."
   ]
  },
  {
   "cell_type": "code",
   "execution_count": 123,
   "metadata": {},
   "outputs": [
    {
     "data": {
      "image/png": "[encoded data removed]",
      "text/plain": [
       "<Figure size 1080x504 with 1 Axes>"
      ]
     },
     "metadata": {
      "needs_background": "light"
     },
     "output_type": "display_data"
    }
   ],
   "source": [
    "short_mavg = apple.rolling(window=30, center=False).mean()\n",
    "long_mavg = apple.rolling(window=120, center=False).mean()\n",
    "\n",
    "apple.plot(figsize=(15,7))\n",
    "short_mavg.plot()\n",
    "long_mavg.plot()\n",
    "plt.ylabel('Price')\n",
    "plt.show()"
   ]
  },
  {
   "cell_type": "code",
   "execution_count": 124,
   "metadata": {},
   "outputs": [],
   "source": [
    "signal = pd.DataFrame()"
   ]
  },
  {
   "cell_type": "code",
   "execution_count": 125,
   "metadata": {},
   "outputs": [],
   "source": [
    "short_window = 30\n",
    "long_window = 120\n",
    "\n",
    "signal['signal']=0.0\n",
    "\n",
    "signal['short_mavg'] = apple.rolling(window=30, center=False).mean()\n",
    "\n",
    "signal['long_mavg'] = apple.rolling(window=120, center=False).mean()\n",
    "\n",
    "signal['signal'][short_window:] = np.where(signal['short_mavg'][short_window:] > signal['long_mavg'][short_window:],1.0,0.0)\n",
    "\n",
    "signal['position'] = signal['signal'].diff()\n"
   ]
  },
  {
   "cell_type": "code",
   "execution_count": 126,
   "metadata": {
    "scrolled": true
   },
   "outputs": [
    {
     "data": {
      "image/png": "[encoded data removed]",
      "text/plain": [
       "<Figure size 1296x504 with 1 Axes>"
      ]
     },
     "metadata": {
      "needs_background": "light"
     },
     "output_type": "display_data"
    }
   ],
   "source": [
    "fig = plt.figure(figsize=(18,7))\n",
    "ax1 = fig.add_subplot(111,ylabel='Closing price in $')\n",
    "\n",
    "apple.plot(ax=ax1,color='black',lw=2)\n",
    "\n",
    "signal[['short_mavg','long_mavg']].plot(ax=ax1,lw=2)\n",
    "\n",
    "ax1.plot(signal.loc[signal.position == 1.0].index, signal.short_mavg[signal.position ==1.0],'^',markersize=15,color='y')\n",
    "\n",
    "ax1.plot(signal.loc[signal.position == -1.0].index, signal.short_mavg[signal.position ==-1.0],'v',markersize=15,color='r')\n",
    "\n",
    "plt.show()"
   ]
  },
  {
   "cell_type": "markdown",
   "metadata": {},
   "source": [
    "##### Con: Overfitting\n",
    "The choice of lengths will strongly affect the signal that you receive from your moving average crossover strategy. There may be better windows, and attempts to find them can be made with robust optimization techniques. However, it is incredibly easy to overfit your moving window lengths. For an exmaple of this see the Dangers of Overfitting."
   ]
  },
  {
   "cell_type": "markdown",
   "metadata": {},
   "source": [
    "## Moment Indicator: Log return\n"
   ]
  },
  {
   "cell_type": "markdown",
   "metadata": {},
   "source": [
    "### Resample_prices\n",
    "Trading signal we will use month-end prices to perform trading **once a month**."
   ]
  },
  {
   "cell_type": "code",
   "execution_count": 127,
   "metadata": {},
   "outputs": [],
   "source": [
    "def resample_price(data,frequency = 'M'):\n",
    "    \n",
    "       return pd.DataFrame(data.resample(frequency).last())\n"
   ]
  },
  {
   "cell_type": "markdown",
   "metadata": {},
   "source": [
    "### Plotting Monthly vs Daily change"
   ]
  },
  {
   "cell_type": "code",
   "execution_count": 128,
   "metadata": {},
   "outputs": [
    {
     "data": {
      "text/html": [
       "<div>\n",
       "<style scoped>\n",
       "    .dataframe tbody tr th:only-of-type {\n",
       "        vertical-align: middle;\n",
       "    }\n",
       "\n",
       "    .dataframe tbody tr th {\n",
       "        vertical-align: top;\n",
       "    }\n",
       "\n",
       "    .dataframe thead th {\n",
       "        text-align: right;\n",
       "    }\n",
       "</style>\n",
       "<table border=\"1\" class=\"dataframe\">\n",
       "  <thead>\n",
       "    <tr style=\"text-align: right;\">\n",
       "      <th>Name</th>\n",
       "      <th>A</th>\n",
       "      <th>AAL</th>\n",
       "      <th>AAP</th>\n",
       "      <th>AAPL</th>\n",
       "      <th>ABBV</th>\n",
       "      <th>ABC</th>\n",
       "      <th>ABMD</th>\n",
       "      <th>ABT</th>\n",
       "      <th>ACN</th>\n",
       "      <th>ADBE</th>\n",
       "      <th>...</th>\n",
       "      <th>XEL</th>\n",
       "      <th>XLNX</th>\n",
       "      <th>XOM</th>\n",
       "      <th>XRAY</th>\n",
       "      <th>XYL</th>\n",
       "      <th>YUM</th>\n",
       "      <th>ZBH</th>\n",
       "      <th>ZBRA</th>\n",
       "      <th>ZION</th>\n",
       "      <th>ZTS</th>\n",
       "    </tr>\n",
       "    <tr>\n",
       "      <th>Date</th>\n",
       "      <th></th>\n",
       "      <th></th>\n",
       "      <th></th>\n",
       "      <th></th>\n",
       "      <th></th>\n",
       "      <th></th>\n",
       "      <th></th>\n",
       "      <th></th>\n",
       "      <th></th>\n",
       "      <th></th>\n",
       "      <th></th>\n",
       "      <th></th>\n",
       "      <th></th>\n",
       "      <th></th>\n",
       "      <th></th>\n",
       "      <th></th>\n",
       "      <th></th>\n",
       "      <th></th>\n",
       "      <th></th>\n",
       "      <th></th>\n",
       "      <th></th>\n",
       "    </tr>\n",
       "  </thead>\n",
       "  <tbody>\n",
       "    <tr>\n",
       "      <th>2013-12-31</th>\n",
       "      <td>38.247646</td>\n",
       "      <td>23.804220</td>\n",
       "      <td>108.574318</td>\n",
       "      <td>17.819059</td>\n",
       "      <td>38.783775</td>\n",
       "      <td>62.277599</td>\n",
       "      <td>26.740000</td>\n",
       "      <td>33.028294</td>\n",
       "      <td>71.508987</td>\n",
       "      <td>59.880001</td>\n",
       "      <td>...</td>\n",
       "      <td>22.132151</td>\n",
       "      <td>39.482224</td>\n",
       "      <td>72.806999</td>\n",
       "      <td>46.201324</td>\n",
       "      <td>31.320330</td>\n",
       "      <td>47.024837</td>\n",
       "      <td>87.869392</td>\n",
       "      <td>54.080002</td>\n",
       "      <td>26.307463</td>\n",
       "      <td>30.937725</td>\n",
       "    </tr>\n",
       "    <tr>\n",
       "      <th>2014-01-31</th>\n",
       "      <td>38.889664</td>\n",
       "      <td>31.628977</td>\n",
       "      <td>112.625717</td>\n",
       "      <td>15.900002</td>\n",
       "      <td>36.440990</td>\n",
       "      <td>59.540611</td>\n",
       "      <td>27.490000</td>\n",
       "      <td>31.765881</td>\n",
       "      <td>69.473839</td>\n",
       "      <td>59.189999</td>\n",
       "      <td>...</td>\n",
       "      <td>22.900518</td>\n",
       "      <td>39.912117</td>\n",
       "      <td>66.303299</td>\n",
       "      <td>43.971306</td>\n",
       "      <td>30.197872</td>\n",
       "      <td>41.975334</td>\n",
       "      <td>88.604874</td>\n",
       "      <td>54.959999</td>\n",
       "      <td>25.244978</td>\n",
       "      <td>28.798738</td>\n",
       "    </tr>\n",
       "    <tr>\n",
       "      <th>2014-02-28</th>\n",
       "      <td>38.073761</td>\n",
       "      <td>34.815437</td>\n",
       "      <td>124.936974</td>\n",
       "      <td>16.814430</td>\n",
       "      <td>37.684559</td>\n",
       "      <td>60.307869</td>\n",
       "      <td>28.190001</td>\n",
       "      <td>34.469368</td>\n",
       "      <td>72.491791</td>\n",
       "      <td>68.629997</td>\n",
       "      <td>...</td>\n",
       "      <td>23.993664</td>\n",
       "      <td>45.132412</td>\n",
       "      <td>69.750740</td>\n",
       "      <td>43.247017</td>\n",
       "      <td>35.740990</td>\n",
       "      <td>46.307255</td>\n",
       "      <td>88.482285</td>\n",
       "      <td>68.989998</td>\n",
       "      <td>27.431805</td>\n",
       "      <td>29.424797</td>\n",
       "    </tr>\n",
       "  </tbody>\n",
       "</table>\n",
       "<p>3 rows × 496 columns</p>\n",
       "</div>"
      ],
      "text/plain": [
       "Name                A        AAL         AAP       AAPL       ABBV        ABC  \\\n",
       "Date                                                                            \n",
       "2013-12-31  38.247646  23.804220  108.574318  17.819059  38.783775  62.277599   \n",
       "2014-01-31  38.889664  31.628977  112.625717  15.900002  36.440990  59.540611   \n",
       "2014-02-28  38.073761  34.815437  124.936974  16.814430  37.684559  60.307869   \n",
       "\n",
       "Name             ABMD        ABT        ACN       ADBE  ...        XEL  \\\n",
       "Date                                                    ...              \n",
       "2013-12-31  26.740000  33.028294  71.508987  59.880001  ...  22.132151   \n",
       "2014-01-31  27.490000  31.765881  69.473839  59.189999  ...  22.900518   \n",
       "2014-02-28  28.190001  34.469368  72.491791  68.629997  ...  23.993664   \n",
       "\n",
       "Name             XLNX        XOM       XRAY        XYL        YUM        ZBH  \\\n",
       "Date                                                                           \n",
       "2013-12-31  39.482224  72.806999  46.201324  31.320330  47.024837  87.869392   \n",
       "2014-01-31  39.912117  66.303299  43.971306  30.197872  41.975334  88.604874   \n",
       "2014-02-28  45.132412  69.750740  43.247017  35.740990  46.307255  88.482285   \n",
       "\n",
       "Name             ZBRA       ZION        ZTS  \n",
       "Date                                         \n",
       "2013-12-31  54.080002  26.307463  30.937725  \n",
       "2014-01-31  54.959999  25.244978  28.798738  \n",
       "2014-02-28  68.989998  27.431805  29.424797  \n",
       "\n",
       "[3 rows x 496 columns]"
      ]
     },
     "execution_count": 128,
     "metadata": {},
     "output_type": "execute_result"
    }
   ],
   "source": [
    "monthly_df=resample_price(df)\n",
    "monthly_df.head(3)"
   ]
  },
  {
   "cell_type": "code",
   "execution_count": 129,
   "metadata": {},
   "outputs": [
    {
     "data": {
      "image/png": "[encoded data removed]",
      "text/plain": [
       "<Figure size 1080x360 with 1 Axes>"
      ]
     },
     "metadata": {
      "needs_background": "light"
     },
     "output_type": "display_data"
    }
   ],
   "source": [
    "fig=plt.figure(figsize=(15,5))\n",
    "ax1 = fig.add_subplot(111,ylabel='Closing price in $')\n",
    "\n",
    "ax1.plot(monthly_df.loc[:, 'AAPL'],color='b')\n",
    "ax1.plot(df.loc[:, 'AAPL'],color='r')\n",
    "plt.show()"
   ]
  },
  {
   "cell_type": "markdown",
   "metadata": {},
   "source": [
    "### Log Returns\n",
    "log returns ($R_t$) from prices ($P_t$) as your primary momentum indicator:\n",
    "\n",
    "$$R_t = log_e(P_t) - log_e(P_{t-1})$$\n"
   ]
  },
  {
   "cell_type": "code",
   "execution_count": 130,
   "metadata": {},
   "outputs": [],
   "source": [
    "def compute_log_returns(prices):\n",
    "\n",
    "    log_returns = np.log(prices) - np.log(prices.shift(1))\n",
    "    \n",
    "    return log_returns\n"
   ]
  },
  {
   "cell_type": "code",
   "execution_count": 131,
   "metadata": {},
   "outputs": [
    {
     "data": {
      "text/html": [
       "<div>\n",
       "<style scoped>\n",
       "    .dataframe tbody tr th:only-of-type {\n",
       "        vertical-align: middle;\n",
       "    }\n",
       "\n",
       "    .dataframe tbody tr th {\n",
       "        vertical-align: top;\n",
       "    }\n",
       "\n",
       "    .dataframe thead th {\n",
       "        text-align: right;\n",
       "    }\n",
       "</style>\n",
       "<table border=\"1\" class=\"dataframe\">\n",
       "  <thead>\n",
       "    <tr style=\"text-align: right;\">\n",
       "      <th>Name</th>\n",
       "      <th>A</th>\n",
       "      <th>AAL</th>\n",
       "      <th>AAP</th>\n",
       "      <th>AAPL</th>\n",
       "      <th>ABBV</th>\n",
       "      <th>ABC</th>\n",
       "      <th>ABMD</th>\n",
       "      <th>ABT</th>\n",
       "      <th>ACN</th>\n",
       "      <th>ADBE</th>\n",
       "      <th>...</th>\n",
       "      <th>XEL</th>\n",
       "      <th>XLNX</th>\n",
       "      <th>XOM</th>\n",
       "      <th>XRAY</th>\n",
       "      <th>XYL</th>\n",
       "      <th>YUM</th>\n",
       "      <th>ZBH</th>\n",
       "      <th>ZBRA</th>\n",
       "      <th>ZION</th>\n",
       "      <th>ZTS</th>\n",
       "    </tr>\n",
       "    <tr>\n",
       "      <th>Date</th>\n",
       "      <th></th>\n",
       "      <th></th>\n",
       "      <th></th>\n",
       "      <th></th>\n",
       "      <th></th>\n",
       "      <th></th>\n",
       "      <th></th>\n",
       "      <th></th>\n",
       "      <th></th>\n",
       "      <th></th>\n",
       "      <th></th>\n",
       "      <th></th>\n",
       "      <th></th>\n",
       "      <th></th>\n",
       "      <th></th>\n",
       "      <th></th>\n",
       "      <th></th>\n",
       "      <th></th>\n",
       "      <th></th>\n",
       "      <th></th>\n",
       "      <th></th>\n",
       "    </tr>\n",
       "  </thead>\n",
       "  <tbody>\n",
       "    <tr>\n",
       "      <th>2013-12-31</th>\n",
       "      <td>NaN</td>\n",
       "      <td>NaN</td>\n",
       "      <td>NaN</td>\n",
       "      <td>NaN</td>\n",
       "      <td>NaN</td>\n",
       "      <td>NaN</td>\n",
       "      <td>NaN</td>\n",
       "      <td>NaN</td>\n",
       "      <td>NaN</td>\n",
       "      <td>NaN</td>\n",
       "      <td>...</td>\n",
       "      <td>NaN</td>\n",
       "      <td>NaN</td>\n",
       "      <td>NaN</td>\n",
       "      <td>NaN</td>\n",
       "      <td>NaN</td>\n",
       "      <td>NaN</td>\n",
       "      <td>NaN</td>\n",
       "      <td>NaN</td>\n",
       "      <td>NaN</td>\n",
       "      <td>NaN</td>\n",
       "    </tr>\n",
       "    <tr>\n",
       "      <th>2014-01-31</th>\n",
       "      <td>0.016646</td>\n",
       "      <td>0.284211</td>\n",
       "      <td>0.036635</td>\n",
       "      <td>-0.113949</td>\n",
       "      <td>-0.062308</td>\n",
       "      <td>-0.044943</td>\n",
       "      <td>0.027662</td>\n",
       "      <td>-0.038972</td>\n",
       "      <td>-0.028873</td>\n",
       "      <td>-0.011590</td>\n",
       "      <td>...</td>\n",
       "      <td>0.034128</td>\n",
       "      <td>0.010829</td>\n",
       "      <td>-0.093572</td>\n",
       "      <td>-0.049471</td>\n",
       "      <td>-0.036496</td>\n",
       "      <td>-0.113594</td>\n",
       "      <td>0.008335</td>\n",
       "      <td>0.016141</td>\n",
       "      <td>-0.041225</td>\n",
       "      <td>-0.071645</td>\n",
       "    </tr>\n",
       "    <tr>\n",
       "      <th>2014-02-28</th>\n",
       "      <td>-0.021203</td>\n",
       "      <td>0.095987</td>\n",
       "      <td>0.103739</td>\n",
       "      <td>0.055918</td>\n",
       "      <td>0.033556</td>\n",
       "      <td>0.012804</td>\n",
       "      <td>0.025145</td>\n",
       "      <td>0.081678</td>\n",
       "      <td>0.042523</td>\n",
       "      <td>0.147977</td>\n",
       "      <td>...</td>\n",
       "      <td>0.046630</td>\n",
       "      <td>0.122921</td>\n",
       "      <td>0.050688</td>\n",
       "      <td>-0.016609</td>\n",
       "      <td>0.168527</td>\n",
       "      <td>0.098216</td>\n",
       "      <td>-0.001385</td>\n",
       "      <td>0.227356</td>\n",
       "      <td>0.083076</td>\n",
       "      <td>0.021506</td>\n",
       "    </tr>\n",
       "  </tbody>\n",
       "</table>\n",
       "<p>3 rows × 496 columns</p>\n",
       "</div>"
      ],
      "text/plain": [
       "Name               A       AAL       AAP      AAPL      ABBV       ABC  \\\n",
       "Date                                                                     \n",
       "2013-12-31       NaN       NaN       NaN       NaN       NaN       NaN   \n",
       "2014-01-31  0.016646  0.284211  0.036635 -0.113949 -0.062308 -0.044943   \n",
       "2014-02-28 -0.021203  0.095987  0.103739  0.055918  0.033556  0.012804   \n",
       "\n",
       "Name            ABMD       ABT       ACN      ADBE  ...       XEL      XLNX  \\\n",
       "Date                                                ...                       \n",
       "2013-12-31       NaN       NaN       NaN       NaN  ...       NaN       NaN   \n",
       "2014-01-31  0.027662 -0.038972 -0.028873 -0.011590  ...  0.034128  0.010829   \n",
       "2014-02-28  0.025145  0.081678  0.042523  0.147977  ...  0.046630  0.122921   \n",
       "\n",
       "Name             XOM      XRAY       XYL       YUM       ZBH      ZBRA  \\\n",
       "Date                                                                     \n",
       "2013-12-31       NaN       NaN       NaN       NaN       NaN       NaN   \n",
       "2014-01-31 -0.093572 -0.049471 -0.036496 -0.113594  0.008335  0.016141   \n",
       "2014-02-28  0.050688 -0.016609  0.168527  0.098216 -0.001385  0.227356   \n",
       "\n",
       "Name            ZION       ZTS  \n",
       "Date                            \n",
       "2013-12-31       NaN       NaN  \n",
       "2014-01-31 -0.041225 -0.071645  \n",
       "2014-02-28  0.083076  0.021506  \n",
       "\n",
       "[3 rows x 496 columns]"
      ]
     },
     "execution_count": 131,
     "metadata": {},
     "output_type": "execute_result"
    }
   ],
   "source": [
    "monthly_log_df=compute_log_returns(monthly_df)\n",
    "monthly_log_df.head(3)"
   ]
  },
  {
   "cell_type": "code",
   "execution_count": 132,
   "metadata": {},
   "outputs": [
    {
     "data": {
      "text/plain": [
       "[<matplotlib.lines.Line2D at 0x7fa0803f44f0>]"
      ]
     },
     "execution_count": 132,
     "metadata": {},
     "output_type": "execute_result"
    },
    {
     "data": {
      "image/png": "[encoded data removed]",
      "text/plain": [
       "<Figure size 1080x360 with 1 Axes>"
      ]
     },
     "metadata": {
      "needs_background": "light"
     },
     "output_type": "display_data"
    }
   ],
   "source": [
    "fig=plt.figure(figsize=(15,5))\n",
    "plt.plot( monthly_log_df.loc[:, 'AAPL'])"
   ]
  },
  {
   "cell_type": "markdown",
   "metadata": {},
   "source": [
    "### Shift Returns\n",
    "Function to shift the log returns to the previous or future returns in the time series. \n"
   ]
  },
  {
   "cell_type": "code",
   "execution_count": 133,
   "metadata": {},
   "outputs": [
    {
     "data": {
      "text/html": [
       "<div>\n",
       "<style scoped>\n",
       "    .dataframe tbody tr th:only-of-type {\n",
       "        vertical-align: middle;\n",
       "    }\n",
       "\n",
       "    .dataframe tbody tr th {\n",
       "        vertical-align: top;\n",
       "    }\n",
       "\n",
       "    .dataframe thead th {\n",
       "        text-align: right;\n",
       "    }\n",
       "</style>\n",
       "<table border=\"1\" class=\"dataframe\">\n",
       "  <thead>\n",
       "    <tr style=\"text-align: right;\">\n",
       "      <th>Name</th>\n",
       "      <th>A</th>\n",
       "      <th>AAL</th>\n",
       "      <th>AAP</th>\n",
       "      <th>AAPL</th>\n",
       "      <th>ABBV</th>\n",
       "      <th>ABC</th>\n",
       "      <th>ABMD</th>\n",
       "      <th>ABT</th>\n",
       "      <th>ACN</th>\n",
       "      <th>ADBE</th>\n",
       "      <th>...</th>\n",
       "      <th>XEL</th>\n",
       "      <th>XLNX</th>\n",
       "      <th>XOM</th>\n",
       "      <th>XRAY</th>\n",
       "      <th>XYL</th>\n",
       "      <th>YUM</th>\n",
       "      <th>ZBH</th>\n",
       "      <th>ZBRA</th>\n",
       "      <th>ZION</th>\n",
       "      <th>ZTS</th>\n",
       "    </tr>\n",
       "    <tr>\n",
       "      <th>Date</th>\n",
       "      <th></th>\n",
       "      <th></th>\n",
       "      <th></th>\n",
       "      <th></th>\n",
       "      <th></th>\n",
       "      <th></th>\n",
       "      <th></th>\n",
       "      <th></th>\n",
       "      <th></th>\n",
       "      <th></th>\n",
       "      <th></th>\n",
       "      <th></th>\n",
       "      <th></th>\n",
       "      <th></th>\n",
       "      <th></th>\n",
       "      <th></th>\n",
       "      <th></th>\n",
       "      <th></th>\n",
       "      <th></th>\n",
       "      <th></th>\n",
       "      <th></th>\n",
       "    </tr>\n",
       "  </thead>\n",
       "  <tbody>\n",
       "    <tr>\n",
       "      <th>2013-12-31</th>\n",
       "      <td>NaN</td>\n",
       "      <td>NaN</td>\n",
       "      <td>NaN</td>\n",
       "      <td>NaN</td>\n",
       "      <td>NaN</td>\n",
       "      <td>NaN</td>\n",
       "      <td>NaN</td>\n",
       "      <td>NaN</td>\n",
       "      <td>NaN</td>\n",
       "      <td>NaN</td>\n",
       "      <td>...</td>\n",
       "      <td>NaN</td>\n",
       "      <td>NaN</td>\n",
       "      <td>NaN</td>\n",
       "      <td>NaN</td>\n",
       "      <td>NaN</td>\n",
       "      <td>NaN</td>\n",
       "      <td>NaN</td>\n",
       "      <td>NaN</td>\n",
       "      <td>NaN</td>\n",
       "      <td>NaN</td>\n",
       "    </tr>\n",
       "    <tr>\n",
       "      <th>2014-01-31</th>\n",
       "      <td>NaN</td>\n",
       "      <td>NaN</td>\n",
       "      <td>NaN</td>\n",
       "      <td>NaN</td>\n",
       "      <td>NaN</td>\n",
       "      <td>NaN</td>\n",
       "      <td>NaN</td>\n",
       "      <td>NaN</td>\n",
       "      <td>NaN</td>\n",
       "      <td>NaN</td>\n",
       "      <td>...</td>\n",
       "      <td>NaN</td>\n",
       "      <td>NaN</td>\n",
       "      <td>NaN</td>\n",
       "      <td>NaN</td>\n",
       "      <td>NaN</td>\n",
       "      <td>NaN</td>\n",
       "      <td>NaN</td>\n",
       "      <td>NaN</td>\n",
       "      <td>NaN</td>\n",
       "      <td>NaN</td>\n",
       "    </tr>\n",
       "    <tr>\n",
       "      <th>2014-02-28</th>\n",
       "      <td>0.016646</td>\n",
       "      <td>0.284211</td>\n",
       "      <td>0.036635</td>\n",
       "      <td>-0.113949</td>\n",
       "      <td>-0.062308</td>\n",
       "      <td>-0.044943</td>\n",
       "      <td>0.027662</td>\n",
       "      <td>-0.038972</td>\n",
       "      <td>-0.028873</td>\n",
       "      <td>-0.011590</td>\n",
       "      <td>...</td>\n",
       "      <td>0.034128</td>\n",
       "      <td>0.010829</td>\n",
       "      <td>-0.093572</td>\n",
       "      <td>-0.049471</td>\n",
       "      <td>-0.036496</td>\n",
       "      <td>-0.113594</td>\n",
       "      <td>0.008335</td>\n",
       "      <td>0.016141</td>\n",
       "      <td>-0.041225</td>\n",
       "      <td>-0.071645</td>\n",
       "    </tr>\n",
       "    <tr>\n",
       "      <th>2014-03-31</th>\n",
       "      <td>-0.021203</td>\n",
       "      <td>0.095987</td>\n",
       "      <td>0.103739</td>\n",
       "      <td>0.055918</td>\n",
       "      <td>0.033556</td>\n",
       "      <td>0.012804</td>\n",
       "      <td>0.025145</td>\n",
       "      <td>0.081678</td>\n",
       "      <td>0.042523</td>\n",
       "      <td>0.147977</td>\n",
       "      <td>...</td>\n",
       "      <td>0.046630</td>\n",
       "      <td>0.122921</td>\n",
       "      <td>0.050688</td>\n",
       "      <td>-0.016609</td>\n",
       "      <td>0.168527</td>\n",
       "      <td>0.098216</td>\n",
       "      <td>-0.001385</td>\n",
       "      <td>0.227356</td>\n",
       "      <td>0.083076</td>\n",
       "      <td>0.021506</td>\n",
       "    </tr>\n",
       "    <tr>\n",
       "      <th>2014-04-30</th>\n",
       "      <td>-0.017900</td>\n",
       "      <td>-0.008976</td>\n",
       "      <td>-0.006299</td>\n",
       "      <td>0.019757</td>\n",
       "      <td>0.009579</td>\n",
       "      <td>-0.033876</td>\n",
       "      <td>-0.079333</td>\n",
       "      <td>-0.032446</td>\n",
       "      <td>-0.044528</td>\n",
       "      <td>-0.043022</td>\n",
       "      <td>...</td>\n",
       "      <td>0.012119</td>\n",
       "      <td>0.038889</td>\n",
       "      <td>0.014540</td>\n",
       "      <td>0.015889</td>\n",
       "      <td>-0.077378</td>\n",
       "      <td>0.017529</td>\n",
       "      <td>0.010224</td>\n",
       "      <td>0.006069</td>\n",
       "      <td>-0.007076</td>\n",
       "      <td>-0.069407</td>\n",
       "    </tr>\n",
       "    <tr>\n",
       "      <th>...</th>\n",
       "      <td>...</td>\n",
       "      <td>...</td>\n",
       "      <td>...</td>\n",
       "      <td>...</td>\n",
       "      <td>...</td>\n",
       "      <td>...</td>\n",
       "      <td>...</td>\n",
       "      <td>...</td>\n",
       "      <td>...</td>\n",
       "      <td>...</td>\n",
       "      <td>...</td>\n",
       "      <td>...</td>\n",
       "      <td>...</td>\n",
       "      <td>...</td>\n",
       "      <td>...</td>\n",
       "      <td>...</td>\n",
       "      <td>...</td>\n",
       "      <td>...</td>\n",
       "      <td>...</td>\n",
       "      <td>...</td>\n",
       "      <td>...</td>\n",
       "    </tr>\n",
       "    <tr>\n",
       "      <th>2018-08-31</th>\n",
       "      <td>0.068123</td>\n",
       "      <td>0.040780</td>\n",
       "      <td>0.039943</td>\n",
       "      <td>0.027599</td>\n",
       "      <td>0.005618</td>\n",
       "      <td>-0.041179</td>\n",
       "      <td>-0.143044</td>\n",
       "      <td>0.076436</td>\n",
       "      <td>-0.026386</td>\n",
       "      <td>0.003562</td>\n",
       "      <td>...</td>\n",
       "      <td>0.025504</td>\n",
       "      <td>0.099259</td>\n",
       "      <td>-0.014857</td>\n",
       "      <td>0.094542</td>\n",
       "      <td>0.127726</td>\n",
       "      <td>0.013586</td>\n",
       "      <td>0.118979</td>\n",
       "      <td>-0.037845</td>\n",
       "      <td>-0.018968</td>\n",
       "      <td>0.016496</td>\n",
       "    </tr>\n",
       "    <tr>\n",
       "      <th>2018-09-30</th>\n",
       "      <td>0.022459</td>\n",
       "      <td>0.026101</td>\n",
       "      <td>0.149659</td>\n",
       "      <td>0.182673</td>\n",
       "      <td>0.039854</td>\n",
       "      <td>0.099219</td>\n",
       "      <td>0.136988</td>\n",
       "      <td>0.019641</td>\n",
       "      <td>0.059335</td>\n",
       "      <td>0.074140</td>\n",
       "      <td>...</td>\n",
       "      <td>0.025078</td>\n",
       "      <td>0.081825</td>\n",
       "      <td>-0.006315</td>\n",
       "      <td>-0.186613</td>\n",
       "      <td>-0.005775</td>\n",
       "      <td>0.095816</td>\n",
       "      <td>-0.015172</td>\n",
       "      <td>0.219235</td>\n",
       "      <td>0.035907</td>\n",
       "      <td>0.046541</td>\n",
       "    </tr>\n",
       "    <tr>\n",
       "      <th>2018-10-31</th>\n",
       "      <td>0.043460</td>\n",
       "      <td>0.020781</td>\n",
       "      <td>0.026231</td>\n",
       "      <td>-0.008338</td>\n",
       "      <td>-0.014694</td>\n",
       "      <td>0.024701</td>\n",
       "      <td>0.100911</td>\n",
       "      <td>0.093077</td>\n",
       "      <td>0.006661</td>\n",
       "      <td>0.024145</td>\n",
       "      <td>...</td>\n",
       "      <td>-0.009785</td>\n",
       "      <td>0.029622</td>\n",
       "      <td>0.058737</td>\n",
       "      <td>-0.053840</td>\n",
       "      <td>0.050852</td>\n",
       "      <td>0.045227</td>\n",
       "      <td>0.063333</td>\n",
       "      <td>0.029207</td>\n",
       "      <td>-0.060730</td>\n",
       "      <td>0.010540</td>\n",
       "    </tr>\n",
       "    <tr>\n",
       "      <th>2018-11-30</th>\n",
       "      <td>-0.082914</td>\n",
       "      <td>-0.163957</td>\n",
       "      <td>-0.052254</td>\n",
       "      <td>-0.030952</td>\n",
       "      <td>-0.184022</td>\n",
       "      <td>-0.046840</td>\n",
       "      <td>-0.276223</td>\n",
       "      <td>-0.058039</td>\n",
       "      <td>-0.067689</td>\n",
       "      <td>-0.093881</td>\n",
       "      <td>...</td>\n",
       "      <td>0.037419</td>\n",
       "      <td>0.062845</td>\n",
       "      <td>-0.064868</td>\n",
       "      <td>-0.086000</td>\n",
       "      <td>-0.193900</td>\n",
       "      <td>-0.005515</td>\n",
       "      <td>-0.146183</td>\n",
       "      <td>-0.061395</td>\n",
       "      <td>-0.063808</td>\n",
       "      <td>-0.015520</td>\n",
       "    </tr>\n",
       "    <tr>\n",
       "      <th>2018-12-31</th>\n",
       "      <td>0.110364</td>\n",
       "      <td>0.137996</td>\n",
       "      <td>0.106480</td>\n",
       "      <td>-0.199912</td>\n",
       "      <td>0.191379</td>\n",
       "      <td>0.014672</td>\n",
       "      <td>-0.025288</td>\n",
       "      <td>0.071504</td>\n",
       "      <td>0.042845</td>\n",
       "      <td>0.020659</td>\n",
       "      <td>...</td>\n",
       "      <td>0.067836</td>\n",
       "      <td>0.084159</td>\n",
       "      <td>0.007825</td>\n",
       "      <td>0.087059</td>\n",
       "      <td>0.106915</td>\n",
       "      <td>0.023967</td>\n",
       "      <td>0.029749</td>\n",
       "      <td>0.078052</td>\n",
       "      <td>0.039733</td>\n",
       "      <td>0.041803</td>\n",
       "    </tr>\n",
       "  </tbody>\n",
       "</table>\n",
       "<p>61 rows × 496 columns</p>\n",
       "</div>"
      ],
      "text/plain": [
       "Name               A       AAL       AAP      AAPL      ABBV       ABC  \\\n",
       "Date                                                                     \n",
       "2013-12-31       NaN       NaN       NaN       NaN       NaN       NaN   \n",
       "2014-01-31       NaN       NaN       NaN       NaN       NaN       NaN   \n",
       "2014-02-28  0.016646  0.284211  0.036635 -0.113949 -0.062308 -0.044943   \n",
       "2014-03-31 -0.021203  0.095987  0.103739  0.055918  0.033556  0.012804   \n",
       "2014-04-30 -0.017900 -0.008976 -0.006299  0.019757  0.009579 -0.033876   \n",
       "...              ...       ...       ...       ...       ...       ...   \n",
       "2018-08-31  0.068123  0.040780  0.039943  0.027599  0.005618 -0.041179   \n",
       "2018-09-30  0.022459  0.026101  0.149659  0.182673  0.039854  0.099219   \n",
       "2018-10-31  0.043460  0.020781  0.026231 -0.008338 -0.014694  0.024701   \n",
       "2018-11-30 -0.082914 -0.163957 -0.052254 -0.030952 -0.184022 -0.046840   \n",
       "2018-12-31  0.110364  0.137996  0.106480 -0.199912  0.191379  0.014672   \n",
       "\n",
       "Name            ABMD       ABT       ACN      ADBE  ...       XEL      XLNX  \\\n",
       "Date                                                ...                       \n",
       "2013-12-31       NaN       NaN       NaN       NaN  ...       NaN       NaN   \n",
       "2014-01-31       NaN       NaN       NaN       NaN  ...       NaN       NaN   \n",
       "2014-02-28  0.027662 -0.038972 -0.028873 -0.011590  ...  0.034128  0.010829   \n",
       "2014-03-31  0.025145  0.081678  0.042523  0.147977  ...  0.046630  0.122921   \n",
       "2014-04-30 -0.079333 -0.032446 -0.044528 -0.043022  ...  0.012119  0.038889   \n",
       "...              ...       ...       ...       ...  ...       ...       ...   \n",
       "2018-08-31 -0.143044  0.076436 -0.026386  0.003562  ...  0.025504  0.099259   \n",
       "2018-09-30  0.136988  0.019641  0.059335  0.074140  ...  0.025078  0.081825   \n",
       "2018-10-31  0.100911  0.093077  0.006661  0.024145  ... -0.009785  0.029622   \n",
       "2018-11-30 -0.276223 -0.058039 -0.067689 -0.093881  ...  0.037419  0.062845   \n",
       "2018-12-31 -0.025288  0.071504  0.042845  0.020659  ...  0.067836  0.084159   \n",
       "\n",
       "Name             XOM      XRAY       XYL       YUM       ZBH      ZBRA  \\\n",
       "Date                                                                     \n",
       "2013-12-31       NaN       NaN       NaN       NaN       NaN       NaN   \n",
       "2014-01-31       NaN       NaN       NaN       NaN       NaN       NaN   \n",
       "2014-02-28 -0.093572 -0.049471 -0.036496 -0.113594  0.008335  0.016141   \n",
       "2014-03-31  0.050688 -0.016609  0.168527  0.098216 -0.001385  0.227356   \n",
       "2014-04-30  0.014540  0.015889 -0.077378  0.017529  0.010224  0.006069   \n",
       "...              ...       ...       ...       ...       ...       ...   \n",
       "2018-08-31 -0.014857  0.094542  0.127726  0.013586  0.118979 -0.037845   \n",
       "2018-09-30 -0.006315 -0.186613 -0.005775  0.095816 -0.015172  0.219235   \n",
       "2018-10-31  0.058737 -0.053840  0.050852  0.045227  0.063333  0.029207   \n",
       "2018-11-30 -0.064868 -0.086000 -0.193900 -0.005515 -0.146183 -0.061395   \n",
       "2018-12-31  0.007825  0.087059  0.106915  0.023967  0.029749  0.078052   \n",
       "\n",
       "Name            ZION       ZTS  \n",
       "Date                            \n",
       "2013-12-31       NaN       NaN  \n",
       "2014-01-31       NaN       NaN  \n",
       "2014-02-28 -0.041225 -0.071645  \n",
       "2014-03-31  0.083076  0.021506  \n",
       "2014-04-30 -0.007076 -0.069407  \n",
       "...              ...       ...  \n",
       "2018-08-31 -0.018968  0.016496  \n",
       "2018-09-30  0.035907  0.046541  \n",
       "2018-10-31 -0.060730  0.010540  \n",
       "2018-11-30 -0.063808 -0.015520  \n",
       "2018-12-31  0.039733  0.041803  \n",
       "\n",
       "[61 rows x 496 columns]"
      ]
     },
     "execution_count": 133,
     "metadata": {},
     "output_type": "execute_result"
    }
   ],
   "source": [
    "def shift_returns(returns, shift_n):\n",
    "  \n",
    "    return returns.shift(shift_n)\n",
    "\n",
    "shift_returns(monthly_log_df,1)"
   ]
  },
  {
   "cell_type": "code",
   "execution_count": 134,
   "metadata": {},
   "outputs": [],
   "source": [
    "prev_returns = shift_returns(monthly_log_df,1)\n",
    "\n",
    "lookahead_returns = shift_returns(monthly_log_df, -1)\n"
   ]
  },
  {
   "cell_type": "code",
   "execution_count": 135,
   "metadata": {},
   "outputs": [],
   "source": [
    "import plotly.graph_objs as go\n",
    "import plotly.offline as offline_py"
   ]
  },
  {
   "cell_type": "code",
   "execution_count": 136,
   "metadata": {},
   "outputs": [],
   "source": [
    "def generate_config():\n",
    "    return {'showLink': False, 'displayModeBar': False, 'showAxisRangeEntryBoxes': True}\n",
    "def _generate_traces(name_df_color_data):\n",
    "    traces = []\n",
    "\n",
    "    for name, df, color in name_df_color_data:\n",
    "        traces.append(go.Scatter(\n",
    "            name=name,\n",
    "            x=df.index,\n",
    "            y=df,\n",
    "            \n",
    "            line={'color': color}))\n",
    "\n",
    "    return traces\n",
    "color_scheme = {\n",
    "    'index': '#B6B2CF',\n",
    "    'etf': '#2D3ECF',\n",
    "    'tracking_error': '#6F91DE',\n",
    "    'df_header': 'silver',\n",
    "    'df_value': 'white',\n",
    "    'df_line': 'silver',\n",
    "    'heatmap_colorscale': [(0, '#6F91DE'), (0.5, 'grey'), (1, 'red')],\n",
    "    'background_label': '#9dbdd5',\n",
    "    'low_value': '#B6B2CF',\n",
    "    'high_value': '#2D3ECF',\n",
    "    'y_axis_2_text_color': 'grey',\n",
    "    'shadow': 'rgba(0, 0, 0, 0.75)',\n",
    "    'major_line': '#2D3ECF',\n",
    "    'minor_line': '#B6B2CF',\n",
    "    'main_line': 'black'}\n",
    "\n",
    "def plot_shifted_returns(df_shited, df, title):\n",
    "    config = generate_config()\n",
    "    layout = go.Layout(title=title)\n",
    "\n",
    "    traces = _generate_traces([\n",
    "        ('Shifted Returns', df_shited, color_scheme['major_line']),\n",
    "        ('Returns', df, color_scheme['minor_line'])])\n",
    "\n",
    "    offline_py.iplot({'data': traces, 'layout': layout}, config=config)"
   ]
  },
  {
   "cell_type": "code",
   "execution_count": 137,
   "metadata": {},
   "outputs": [
    {
     "data": {
      "application/vnd.plotly.v1+json": {
       "config": {
        "displayModeBar": false,
        "linkText": "Export to plot.ly",
        "plotlyServerURL": "https://plot.ly",
        "showAxisRangeEntryBoxes": true,
        "showLink": false
       },
       "data": [
        {
         "line": {
          "color": "#2D3ECF"
         },
         "name": "Shifted Returns",
         "type": "scatter",
         "x": [
          "2013-12-31T00:00:00",
          "2014-01-31T00:00:00",
          "2014-02-28T00:00:00",
          "2014-03-31T00:00:00",
          "2014-04-30T00:00:00",
          "2014-05-31T00:00:00",
          "2014-06-30T00:00:00",
          "2014-07-31T00:00:00",
          "2014-08-31T00:00:00",
          "2014-09-30T00:00:00",
          "2014-10-31T00:00:00",
          "2014-11-30T00:00:00",
          "2014-12-31T00:00:00",
          "2015-01-31T00:00:00",
          "2015-02-28T00:00:00",
          "2015-03-31T00:00:00",
          "2015-04-30T00:00:00",
          "2015-05-31T00:00:00",
          "2015-06-30T00:00:00",
          "2015-07-31T00:00:00",
          "2015-08-31T00:00:00",
          "2015-09-30T00:00:00",
          "2015-10-31T00:00:00",
          "2015-11-30T00:00:00",
          "2015-12-31T00:00:00",
          "2016-01-31T00:00:00",
          "2016-02-29T00:00:00",
          "2016-03-31T00:00:00",
          "2016-04-30T00:00:00",
          "2016-05-31T00:00:00",
          "2016-06-30T00:00:00",
          "2016-07-31T00:00:00",
          "2016-08-31T00:00:00",
          "2016-09-30T00:00:00",
          "2016-10-31T00:00:00",
          "2016-11-30T00:00:00",
          "2016-12-31T00:00:00",
          "2017-01-31T00:00:00",
          "2017-02-28T00:00:00",
          "2017-03-31T00:00:00",
          "2017-04-30T00:00:00",
          "2017-05-31T00:00:00",
          "2017-06-30T00:00:00",
          "2017-07-31T00:00:00",
          "2017-08-31T00:00:00",
          "2017-09-30T00:00:00",
          "2017-10-31T00:00:00",
          "2017-11-30T00:00:00",
          "2017-12-31T00:00:00",
          "2018-01-31T00:00:00",
          "2018-02-28T00:00:00",
          "2018-03-31T00:00:00",
          "2018-04-30T00:00:00",
          "2018-05-31T00:00:00",
          "2018-06-30T00:00:00",
          "2018-07-31T00:00:00",
          "2018-08-31T00:00:00",
          "2018-09-30T00:00:00",
          "2018-10-31T00:00:00",
          "2018-11-30T00:00:00",
          "2018-12-31T00:00:00"
         ],
         "y": [
          -0.1139494304924571,
          0.05591825520329685,
          0.019756575983995273,
          0.09476090442400409,
          0.07576525023842962,
          0.027286259753967812,
          0.028326057529723503,
          0.07465198986739541,
          -0.017220736255185276,
          0.06948896813366279,
          0.10073065809745607,
          -0.074605984231916,
          0.059611633686697196,
          0.09601593802320751,
          -0.03187441699351323,
          0.005769813983998784,
          0.04434120666424768,
          -0.03793809872098075,
          -0.03348102167994638,
          -0.06848897090795125,
          -0.022057737224806306,
          0.08011259454145625,
          -0.005821176573054476,
          -0.1167904639221633,
          -0.07822360363910885,
          -0.001288471737785457,
          0.11974644576230942,
          -0.15073133163458285,
          0.06931412778792767,
          -0.043596238266771614,
          0.08623514205481664,
          0.02337658399247111,
          0.06344821666043376,
          0.004324905105677512,
          -0.021837508072527267,
          0.046840649174735294,
          0.04664180779859528,
          0.12555521759166188,
          0.04754146543921722,
          -6.967991603579193e-05,
          0.06560750912567714,
          -0.05891613101525017,
          0.032180599684636935,
          0.1016530179818993,
          -0.062134907308318166,
          0.09240399237932673,
          0.020074989409517574,
          -0.015363335312441162,
          -0.010693225241066973,
          0.06596071288135219,
          -0.05980368702070704,
          -0.015133640506990176,
          0.12674193663496203,
          -0.009462897651884905,
          0.02759880124893277,
          0.18267332975109518,
          -0.008337607762779697,
          -0.030951587352426202,
          -0.19991238316640825,
          -0.12408872094081458,
          null
         ]
        },
        {
         "line": {
          "color": "#B6B2CF"
         },
         "name": "Returns",
         "type": "scatter",
         "x": [
          "2013-12-31T00:00:00",
          "2014-01-31T00:00:00",
          "2014-02-28T00:00:00",
          "2014-03-31T00:00:00",
          "2014-04-30T00:00:00",
          "2014-05-31T00:00:00",
          "2014-06-30T00:00:00",
          "2014-07-31T00:00:00",
          "2014-08-31T00:00:00",
          "2014-09-30T00:00:00",
          "2014-10-31T00:00:00",
          "2014-11-30T00:00:00",
          "2014-12-31T00:00:00",
          "2015-01-31T00:00:00",
          "2015-02-28T00:00:00",
          "2015-03-31T00:00:00",
          "2015-04-30T00:00:00",
          "2015-05-31T00:00:00",
          "2015-06-30T00:00:00",
          "2015-07-31T00:00:00",
          "2015-08-31T00:00:00",
          "2015-09-30T00:00:00",
          "2015-10-31T00:00:00",
          "2015-11-30T00:00:00",
          "2015-12-31T00:00:00",
          "2016-01-31T00:00:00",
          "2016-02-29T00:00:00",
          "2016-03-31T00:00:00",
          "2016-04-30T00:00:00",
          "2016-05-31T00:00:00",
          "2016-06-30T00:00:00",
          "2016-07-31T00:00:00",
          "2016-08-31T00:00:00",
          "2016-09-30T00:00:00",
          "2016-10-31T00:00:00",
          "2016-11-30T00:00:00",
          "2016-12-31T00:00:00",
          "2017-01-31T00:00:00",
          "2017-02-28T00:00:00",
          "2017-03-31T00:00:00",
          "2017-04-30T00:00:00",
          "2017-05-31T00:00:00",
          "2017-06-30T00:00:00",
          "2017-07-31T00:00:00",
          "2017-08-31T00:00:00",
          "2017-09-30T00:00:00",
          "2017-10-31T00:00:00",
          "2017-11-30T00:00:00",
          "2017-12-31T00:00:00",
          "2018-01-31T00:00:00",
          "2018-02-28T00:00:00",
          "2018-03-31T00:00:00",
          "2018-04-30T00:00:00",
          "2018-05-31T00:00:00",
          "2018-06-30T00:00:00",
          "2018-07-31T00:00:00",
          "2018-08-31T00:00:00",
          "2018-09-30T00:00:00",
          "2018-10-31T00:00:00",
          "2018-11-30T00:00:00",
          "2018-12-31T00:00:00"
         ],
         "y": [
          null,
          -0.1139494304924571,
          0.05591825520329685,
          0.019756575983995273,
          0.09476090442400409,
          0.07576525023842962,
          0.027286259753967812,
          0.028326057529723503,
          0.07465198986739541,
          -0.017220736255185276,
          0.06948896813366279,
          0.10073065809745607,
          -0.074605984231916,
          0.059611633686697196,
          0.09601593802320751,
          -0.03187441699351323,
          0.005769813983998784,
          0.04434120666424768,
          -0.03793809872098075,
          -0.03348102167994638,
          -0.06848897090795125,
          -0.022057737224806306,
          0.08011259454145625,
          -0.005821176573054476,
          -0.1167904639221633,
          -0.07822360363910885,
          -0.001288471737785457,
          0.11974644576230942,
          -0.15073133163458285,
          0.06931412778792767,
          -0.043596238266771614,
          0.08623514205481664,
          0.02337658399247111,
          0.06344821666043376,
          0.004324905105677512,
          -0.021837508072527267,
          0.046840649174735294,
          0.04664180779859528,
          0.12555521759166188,
          0.04754146543921722,
          -6.967991603579193e-05,
          0.06560750912567714,
          -0.05891613101525017,
          0.032180599684636935,
          0.1016530179818993,
          -0.062134907308318166,
          0.09240399237932673,
          0.020074989409517574,
          -0.015363335312441162,
          -0.010693225241066973,
          0.06596071288135219,
          -0.05980368702070704,
          -0.015133640506990176,
          0.12674193663496203,
          -0.009462897651884905,
          0.02759880124893277,
          0.18267332975109518,
          -0.008337607762779697,
          -0.030951587352426202,
          -0.19991238316640825,
          -0.12408872094081458
         ]
        }
       ],
       "layout": {
        "template": {
         "data": {
          "bar": [
           {
            "error_x": {
             "color": "#2a3f5f"
            },
            "error_y": {
             "color": "#2a3f5f"
            },
            "marker": {
             "line": {
              "color": "#E5ECF6",
              "width": 0.5
             }
            },
            "type": "bar"
           }
          ],
          "barpolar": [
           {
            "marker": {
             "line": {
              "color": "#E5ECF6",
              "width": 0.5
             }
            },
            "type": "barpolar"
           }
          ],
          "carpet": [
           {
            "aaxis": {
             "endlinecolor": "#2a3f5f",
             "gridcolor": "white",
             "linecolor": "white",
             "minorgridcolor": "white",
             "startlinecolor": "#2a3f5f"
            },
            "baxis": {
             "endlinecolor": "#2a3f5f",
             "gridcolor": "white",
             "linecolor": "white",
             "minorgridcolor": "white",
             "startlinecolor": "#2a3f5f"
            },
            "type": "carpet"
           }
          ],
          "choropleth": [
           {
            "colorbar": {
             "outlinewidth": 0,
             "ticks": ""
            },
            "type": "choropleth"
           }
          ],
          "contour": [
           {
            "colorbar": {
             "outlinewidth": 0,
             "ticks": ""
            },
            "colorscale": [
             [
              0,
              "#0d0887"
             ],
             [
              0.1111111111111111,
              "#46039f"
             ],
             [
              0.2222222222222222,
              "#7201a8"
             ],
             [
              0.3333333333333333,
              "#9c179e"
             ],
             [
              0.4444444444444444,
              "#bd3786"
             ],
             [
              0.5555555555555556,
              "#d8576b"
             ],
             [
              0.6666666666666666,
              "#ed7953"
             ],
             [
              0.7777777777777778,
              "#fb9f3a"
             ],
             [
              0.8888888888888888,
              "#fdca26"
             ],
             [
              1,
              "#f0f921"
             ]
            ],
            "type": "contour"
           }
          ],
          "contourcarpet": [
           {
            "colorbar": {
             "outlinewidth": 0,
             "ticks": ""
            },
            "type": "contourcarpet"
           }
          ],
          "heatmap": [
           {
            "colorbar": {
             "outlinewidth": 0,
             "ticks": ""
            },
            "colorscale": [
             [
              0,
              "#0d0887"
             ],
             [
              0.1111111111111111,
              "#46039f"
             ],
             [
              0.2222222222222222,
              "#7201a8"
             ],
             [
              0.3333333333333333,
              "#9c179e"
             ],
             [
              0.4444444444444444,
              "#bd3786"
             ],
             [
              0.5555555555555556,
              "#d8576b"
             ],
             [
              0.6666666666666666,
              "#ed7953"
             ],
             [
              0.7777777777777778,
              "#fb9f3a"
             ],
             [
              0.8888888888888888,
              "#fdca26"
             ],
             [
              1,
              "#f0f921"
             ]
            ],
            "type": "heatmap"
           }
          ],
          "heatmapgl": [
           {
            "colorbar": {
             "outlinewidth": 0,
             "ticks": ""
            },
            "colorscale": [
             [
              0,
              "#0d0887"
             ],
             [
              0.1111111111111111,
              "#46039f"
             ],
             [
              0.2222222222222222,
              "#7201a8"
             ],
             [
              0.3333333333333333,
              "#9c179e"
             ],
             [
              0.4444444444444444,
              "#bd3786"
             ],
             [
              0.5555555555555556,
              "#d8576b"
             ],
             [
              0.6666666666666666,
              "#ed7953"
             ],
             [
              0.7777777777777778,
              "#fb9f3a"
             ],
             [
              0.8888888888888888,
              "#fdca26"
             ],
             [
              1,
              "#f0f921"
             ]
            ],
            "type": "heatmapgl"
           }
          ],
          "histogram": [
           {
            "marker": {
             "colorbar": {
              "outlinewidth": 0,
              "ticks": ""
             }
            },
            "type": "histogram"
           }
          ],
          "histogram2d": [
           {
            "colorbar": {
             "outlinewidth": 0,
             "ticks": ""
            },
            "colorscale": [
             [
              0,
              "#0d0887"
             ],
             [
              0.1111111111111111,
              "#46039f"
             ],
             [
              0.2222222222222222,
              "#7201a8"
             ],
             [
              0.3333333333333333,
              "#9c179e"
             ],
             [
              0.4444444444444444,
              "#bd3786"
             ],
             [
              0.5555555555555556,
              "#d8576b"
             ],
             [
              0.6666666666666666,
              "#ed7953"
             ],
             [
              0.7777777777777778,
              "#fb9f3a"
             ],
             [
              0.8888888888888888,
              "#fdca26"
             ],
             [
              1,
              "#f0f921"
             ]
            ],
            "type": "histogram2d"
           }
          ],
          "histogram2dcontour": [
           {
            "colorbar": {
             "outlinewidth": 0,
             "ticks": ""
            },
            "colorscale": [
             [
              0,
              "#0d0887"
             ],
             [
              0.1111111111111111,
              "#46039f"
             ],
             [
              0.2222222222222222,
              "#7201a8"
             ],
             [
              0.3333333333333333,
              "#9c179e"
             ],
             [
              0.4444444444444444,
              "#bd3786"
             ],
             [
              0.5555555555555556,
              "#d8576b"
             ],
             [
              0.6666666666666666,
              "#ed7953"
             ],
             [
              0.7777777777777778,
              "#fb9f3a"
             ],
             [
              0.8888888888888888,
              "#fdca26"
             ],
             [
              1,
              "#f0f921"
             ]
            ],
            "type": "histogram2dcontour"
           }
          ],
          "mesh3d": [
           {
            "colorbar": {
             "outlinewidth": 0,
             "ticks": ""
            },
            "type": "mesh3d"
           }
          ],
          "parcoords": [
           {
            "line": {
             "colorbar": {
              "outlinewidth": 0,
              "ticks": ""
             }
            },
            "type": "parcoords"
           }
          ],
          "pie": [
           {
            "automargin": true,
            "type": "pie"
           }
          ],
          "scatter": [
           {
            "marker": {
             "colorbar": {
              "outlinewidth": 0,
              "ticks": ""
             }
            },
            "type": "scatter"
           }
          ],
          "scatter3d": [
           {
            "line": {
             "colorbar": {
              "outlinewidth": 0,
              "ticks": ""
             }
            },
            "marker": {
             "colorbar": {
              "outlinewidth": 0,
              "ticks": ""
             }
            },
            "type": "scatter3d"
           }
          ],
          "scattercarpet": [
           {
            "marker": {
             "colorbar": {
              "outlinewidth": 0,
              "ticks": ""
             }
            },
            "type": "scattercarpet"
           }
          ],
          "scattergeo": [
           {
            "marker": {
             "colorbar": {
              "outlinewidth": 0,
              "ticks": ""
             }
            },
            "type": "scattergeo"
           }
          ],
          "scattergl": [
           {
            "marker": {
             "colorbar": {
              "outlinewidth": 0,
              "ticks": ""
             }
            },
            "type": "scattergl"
           }
          ],
          "scattermapbox": [
           {
            "marker": {
             "colorbar": {
              "outlinewidth": 0,
              "ticks": ""
             }
            },
            "type": "scattermapbox"
           }
          ],
          "scatterpolar": [
           {
            "marker": {
             "colorbar": {
              "outlinewidth": 0,
              "ticks": ""
             }
            },
            "type": "scatterpolar"
           }
          ],
          "scatterpolargl": [
           {
            "marker": {
             "colorbar": {
              "outlinewidth": 0,
              "ticks": ""
             }
            },
            "type": "scatterpolargl"
           }
          ],
          "scatterternary": [
           {
            "marker": {
             "colorbar": {
              "outlinewidth": 0,
              "ticks": ""
             }
            },
            "type": "scatterternary"
           }
          ],
          "surface": [
           {
            "colorbar": {
             "outlinewidth": 0,
             "ticks": ""
            },
            "colorscale": [
             [
              0,
              "#0d0887"
             ],
             [
              0.1111111111111111,
              "#46039f"
             ],
             [
              0.2222222222222222,
              "#7201a8"
             ],
             [
              0.3333333333333333,
              "#9c179e"
             ],
             [
              0.4444444444444444,
              "#bd3786"
             ],
             [
              0.5555555555555556,
              "#d8576b"
             ],
             [
              0.6666666666666666,
              "#ed7953"
             ],
             [
              0.7777777777777778,
              "#fb9f3a"
             ],
             [
              0.8888888888888888,
              "#fdca26"
             ],
             [
              1,
              "#f0f921"
             ]
            ],
            "type": "surface"
           }
          ],
          "table": [
           {
            "cells": {
             "fill": {
              "color": "#EBF0F8"
             },
             "line": {
              "color": "white"
             }
            },
            "header": {
             "fill": {
              "color": "#C8D4E3"
             },
             "line": {
              "color": "white"
             }
            },
            "type": "table"
           }
          ]
         },
         "layout": {
          "annotationdefaults": {
           "arrowcolor": "#2a3f5f",
           "arrowhead": 0,
           "arrowwidth": 1
          },
          "autotypenumbers": "strict",
          "coloraxis": {
           "colorbar": {
            "outlinewidth": 0,
            "ticks": ""
           }
          },
          "colorscale": {
           "diverging": [
            [
             0,
             "#8e0152"
            ],
            [
             0.1,
             "#c51b7d"
            ],
            [
             0.2,
             "#de77ae"
            ],
            [
             0.3,
             "#f1b6da"
            ],
            [
             0.4,
             "#fde0ef"
            ],
            [
             0.5,
             "#f7f7f7"
            ],
            [
             0.6,
             "#e6f5d0"
            ],
            [
             0.7,
             "#b8e186"
            ],
            [
             0.8,
             "#7fbc41"
            ],
            [
             0.9,
             "#4d9221"
            ],
            [
             1,
             "#276419"
            ]
           ],
           "sequential": [
            [
             0,
             "#0d0887"
            ],
            [
             0.1111111111111111,
             "#46039f"
            ],
            [
             0.2222222222222222,
             "#7201a8"
            ],
            [
             0.3333333333333333,
             "#9c179e"
            ],
            [
             0.4444444444444444,
             "#bd3786"
            ],
            [
             0.5555555555555556,
             "#d8576b"
            ],
            [
             0.6666666666666666,
             "#ed7953"
            ],
            [
             0.7777777777777778,
             "#fb9f3a"
            ],
            [
             0.8888888888888888,
             "#fdca26"
            ],
            [
             1,
             "#f0f921"
            ]
           ],
           "sequentialminus": [
            [
             0,
             "#0d0887"
            ],
            [
             0.1111111111111111,
             "#46039f"
            ],
            [
             0.2222222222222222,
             "#7201a8"
            ],
            [
             0.3333333333333333,
             "#9c179e"
            ],
            [
             0.4444444444444444,
             "#bd3786"
            ],
            [
             0.5555555555555556,
             "#d8576b"
            ],
            [
             0.6666666666666666,
             "#ed7953"
            ],
            [
             0.7777777777777778,
             "#fb9f3a"
            ],
            [
             0.8888888888888888,
             "#fdca26"
            ],
            [
             1,
             "#f0f921"
            ]
           ]
          },
          "colorway": [
           "#636efa",
           "#EF553B",
           "#00cc96",
           "#ab63fa",
           "#FFA15A",
           "#19d3f3",
           "#FF6692",
           "#B6E880",
           "#FF97FF",
           "#FECB52"
          ],
          "font": {
           "color": "#2a3f5f"
          },
          "geo": {
           "bgcolor": "white",
           "lakecolor": "white",
           "landcolor": "#E5ECF6",
           "showlakes": true,
           "showland": true,
           "subunitcolor": "white"
          },
          "hoverlabel": {
           "align": "left"
          },
          "hovermode": "closest",
          "mapbox": {
           "style": "light"
          },
          "paper_bgcolor": "white",
          "plot_bgcolor": "#E5ECF6",
          "polar": {
           "angularaxis": {
            "gridcolor": "white",
            "linecolor": "white",
            "ticks": ""
           },
           "bgcolor": "#E5ECF6",
           "radialaxis": {
            "gridcolor": "white",
            "linecolor": "white",
            "ticks": ""
           }
          },
          "scene": {
           "xaxis": {
            "backgroundcolor": "#E5ECF6",
            "gridcolor": "white",
            "gridwidth": 2,
            "linecolor": "white",
            "showbackground": true,
            "ticks": "",
            "zerolinecolor": "white"
           },
           "yaxis": {
            "backgroundcolor": "#E5ECF6",
            "gridcolor": "white",
            "gridwidth": 2,
            "linecolor": "white",
            "showbackground": true,
            "ticks": "",
            "zerolinecolor": "white"
           },
           "zaxis": {
            "backgroundcolor": "#E5ECF6",
            "gridcolor": "white",
            "gridwidth": 2,
            "linecolor": "white",
            "showbackground": true,
            "ticks": "",
            "zerolinecolor": "white"
           }
          },
          "shapedefaults": {
           "line": {
            "color": "#2a3f5f"
           }
          },
          "ternary": {
           "aaxis": {
            "gridcolor": "white",
            "linecolor": "white",
            "ticks": ""
           },
           "baxis": {
            "gridcolor": "white",
            "linecolor": "white",
            "ticks": ""
           },
           "bgcolor": "#E5ECF6",
           "caxis": {
            "gridcolor": "white",
            "linecolor": "white",
            "ticks": ""
           }
          },
          "title": {
           "x": 0.05
          },
          "xaxis": {
           "automargin": true,
           "gridcolor": "white",
           "linecolor": "white",
           "ticks": "",
           "title": {
            "standoff": 15
           },
           "zerolinecolor": "white",
           "zerolinewidth": 2
          },
          "yaxis": {
           "automargin": true,
           "gridcolor": "white",
           "linecolor": "white",
           "ticks": "",
           "title": {
            "standoff": 15
           },
           "zerolinecolor": "white",
           "zerolinewidth": 2
          }
         }
        },
        "title": {
         "text": "Lookahead Returns of AAPL Stock"
        }
       }
      },
      "text/html": [
       "<div>                            <div id=\"72e7b575-1acf-45e9-92b5-ff007a446791\" class=\"plotly-graph-div\" style=\"height:525px; width:100%;\"></div>            <script type=\"text/javascript\">                require([\"plotly\"], function(Plotly) {                    window.PLOTLYENV=window.PLOTLYENV || {};                                    if (document.getElementById(\"72e7b575-1acf-45e9-92b5-ff007a446791\")) {                    Plotly.newPlot(                        \"72e7b575-1acf-45e9-92b5-ff007a446791\",                        [{\"line\": {\"color\": \"#2D3ECF\"}, \"name\": \"Shifted Returns\", \"type\": \"scatter\", \"x\": [\"2013-12-31T00:00:00\", \"2014-01-31T00:00:00\", \"2014-02-28T00:00:00\", \"2014-03-31T00:00:00\", \"2014-04-30T00:00:00\", \"2014-05-31T00:00:00\", \"2014-06-30T00:00:00\", \"2014-07-31T00:00:00\", \"2014-08-31T00:00:00\", \"2014-09-30T00:00:00\", \"2014-10-31T00:00:00\", \"2014-11-30T00:00:00\", \"2014-12-31T00:00:00\", \"2015-01-31T00:00:00\", \"2015-02-28T00:00:00\", \"2015-03-31T00:00:00\", \"2015-04-30T00:00:00\", \"2015-05-31T00:00:00\", \"2015-06-30T00:00:00\", \"2015-07-31T00:00:00\", \"2015-08-31T00:00:00\", \"2015-09-30T00:00:00\", \"2015-10-31T00:00:00\", \"2015-11-30T00:00:00\", \"2015-12-31T00:00:00\", \"2016-01-31T00:00:00\", \"2016-02-29T00:00:00\", \"2016-03-31T00:00:00\", \"2016-04-30T00:00:00\", \"2016-05-31T00:00:00\", \"2016-06-30T00:00:00\", \"2016-07-31T00:00:00\", \"2016-08-31T00:00:00\", \"2016-09-30T00:00:00\", \"2016-10-31T00:00:00\", \"2016-11-30T00:00:00\", \"2016-12-31T00:00:00\", \"2017-01-31T00:00:00\", \"2017-02-28T00:00:00\", \"2017-03-31T00:00:00\", \"2017-04-30T00:00:00\", \"2017-05-31T00:00:00\", \"2017-06-30T00:00:00\", \"2017-07-31T00:00:00\", \"2017-08-31T00:00:00\", \"2017-09-30T00:00:00\", \"2017-10-31T00:00:00\", \"2017-11-30T00:00:00\", \"2017-12-31T00:00:00\", \"2018-01-31T00:00:00\", \"2018-02-28T00:00:00\", \"2018-03-31T00:00:00\", \"2018-04-30T00:00:00\", \"2018-05-31T00:00:00\", \"2018-06-30T00:00:00\", \"2018-07-31T00:00:00\", \"2018-08-31T00:00:00\", \"2018-09-30T00:00:00\", \"2018-10-31T00:00:00\", \"2018-11-30T00:00:00\", \"2018-12-31T00:00:00\"], \"y\": [-0.1139494304924571, 0.05591825520329685, 0.019756575983995273, 0.09476090442400409, 0.07576525023842962, 0.027286259753967812, 0.028326057529723503, 0.07465198986739541, -0.017220736255185276, 0.06948896813366279, 0.10073065809745607, -0.074605984231916, 0.059611633686697196, 0.09601593802320751, -0.03187441699351323, 0.005769813983998784, 0.04434120666424768, -0.03793809872098075, -0.03348102167994638, -0.06848897090795125, -0.022057737224806306, 0.08011259454145625, -0.005821176573054476, -0.1167904639221633, -0.07822360363910885, -0.001288471737785457, 0.11974644576230942, -0.15073133163458285, 0.06931412778792767, -0.043596238266771614, 0.08623514205481664, 0.02337658399247111, 0.06344821666043376, 0.004324905105677512, -0.021837508072527267, 0.046840649174735294, 0.04664180779859528, 0.12555521759166188, 0.04754146543921722, -6.967991603579193e-05, 0.06560750912567714, -0.05891613101525017, 0.032180599684636935, 0.1016530179818993, -0.062134907308318166, 0.09240399237932673, 0.020074989409517574, -0.015363335312441162, -0.010693225241066973, 0.06596071288135219, -0.05980368702070704, -0.015133640506990176, 0.12674193663496203, -0.009462897651884905, 0.02759880124893277, 0.18267332975109518, -0.008337607762779697, -0.030951587352426202, -0.19991238316640825, -0.12408872094081458, null]}, {\"line\": {\"color\": \"#B6B2CF\"}, \"name\": \"Returns\", \"type\": \"scatter\", \"x\": [\"2013-12-31T00:00:00\", \"2014-01-31T00:00:00\", \"2014-02-28T00:00:00\", \"2014-03-31T00:00:00\", \"2014-04-30T00:00:00\", \"2014-05-31T00:00:00\", \"2014-06-30T00:00:00\", \"2014-07-31T00:00:00\", \"2014-08-31T00:00:00\", \"2014-09-30T00:00:00\", \"2014-10-31T00:00:00\", \"2014-11-30T00:00:00\", \"2014-12-31T00:00:00\", \"2015-01-31T00:00:00\", \"2015-02-28T00:00:00\", \"2015-03-31T00:00:00\", \"2015-04-30T00:00:00\", \"2015-05-31T00:00:00\", \"2015-06-30T00:00:00\", \"2015-07-31T00:00:00\", \"2015-08-31T00:00:00\", \"2015-09-30T00:00:00\", \"2015-10-31T00:00:00\", \"2015-11-30T00:00:00\", \"2015-12-31T00:00:00\", \"2016-01-31T00:00:00\", \"2016-02-29T00:00:00\", \"2016-03-31T00:00:00\", \"2016-04-30T00:00:00\", \"2016-05-31T00:00:00\", \"2016-06-30T00:00:00\", \"2016-07-31T00:00:00\", \"2016-08-31T00:00:00\", \"2016-09-30T00:00:00\", \"2016-10-31T00:00:00\", \"2016-11-30T00:00:00\", \"2016-12-31T00:00:00\", \"2017-01-31T00:00:00\", \"2017-02-28T00:00:00\", \"2017-03-31T00:00:00\", \"2017-04-30T00:00:00\", \"2017-05-31T00:00:00\", \"2017-06-30T00:00:00\", \"2017-07-31T00:00:00\", \"2017-08-31T00:00:00\", \"2017-09-30T00:00:00\", \"2017-10-31T00:00:00\", \"2017-11-30T00:00:00\", \"2017-12-31T00:00:00\", \"2018-01-31T00:00:00\", \"2018-02-28T00:00:00\", \"2018-03-31T00:00:00\", \"2018-04-30T00:00:00\", \"2018-05-31T00:00:00\", \"2018-06-30T00:00:00\", \"2018-07-31T00:00:00\", \"2018-08-31T00:00:00\", \"2018-09-30T00:00:00\", \"2018-10-31T00:00:00\", \"2018-11-30T00:00:00\", \"2018-12-31T00:00:00\"], \"y\": [null, -0.1139494304924571, 0.05591825520329685, 0.019756575983995273, 0.09476090442400409, 0.07576525023842962, 0.027286259753967812, 0.028326057529723503, 0.07465198986739541, -0.017220736255185276, 0.06948896813366279, 0.10073065809745607, -0.074605984231916, 0.059611633686697196, 0.09601593802320751, -0.03187441699351323, 0.005769813983998784, 0.04434120666424768, -0.03793809872098075, -0.03348102167994638, -0.06848897090795125, -0.022057737224806306, 0.08011259454145625, -0.005821176573054476, -0.1167904639221633, -0.07822360363910885, -0.001288471737785457, 0.11974644576230942, -0.15073133163458285, 0.06931412778792767, -0.043596238266771614, 0.08623514205481664, 0.02337658399247111, 0.06344821666043376, 0.004324905105677512, -0.021837508072527267, 0.046840649174735294, 0.04664180779859528, 0.12555521759166188, 0.04754146543921722, -6.967991603579193e-05, 0.06560750912567714, -0.05891613101525017, 0.032180599684636935, 0.1016530179818993, -0.062134907308318166, 0.09240399237932673, 0.020074989409517574, -0.015363335312441162, -0.010693225241066973, 0.06596071288135219, -0.05980368702070704, -0.015133640506990176, 0.12674193663496203, -0.009462897651884905, 0.02759880124893277, 0.18267332975109518, -0.008337607762779697, -0.030951587352426202, -0.19991238316640825, -0.12408872094081458]}],                        {\"template\": {\"data\": {\"bar\": [{\"error_x\": {\"color\": \"#2a3f5f\"}, \"error_y\": {\"color\": \"#2a3f5f\"}, \"marker\": {\"line\": {\"color\": \"#E5ECF6\", \"width\": 0.5}}, \"type\": \"bar\"}], \"barpolar\": [{\"marker\": {\"line\": {\"color\": \"#E5ECF6\", \"width\": 0.5}}, \"type\": \"barpolar\"}], \"carpet\": [{\"aaxis\": {\"endlinecolor\": \"#2a3f5f\", \"gridcolor\": \"white\", \"linecolor\": \"white\", \"minorgridcolor\": \"white\", \"startlinecolor\": \"#2a3f5f\"}, \"baxis\": {\"endlinecolor\": \"#2a3f5f\", \"gridcolor\": \"white\", \"linecolor\": \"white\", \"minorgridcolor\": \"white\", \"startlinecolor\": \"#2a3f5f\"}, \"type\": \"carpet\"}], \"choropleth\": [{\"colorbar\": {\"outlinewidth\": 0, \"ticks\": \"\"}, \"type\": \"choropleth\"}], \"contour\": [{\"colorbar\": {\"outlinewidth\": 0, \"ticks\": \"\"}, \"colorscale\": [[0.0, \"#0d0887\"], [0.1111111111111111, \"#46039f\"], [0.2222222222222222, \"#7201a8\"], [0.3333333333333333, \"#9c179e\"], [0.4444444444444444, \"#bd3786\"], [0.5555555555555556, \"#d8576b\"], [0.6666666666666666, \"#ed7953\"], [0.7777777777777778, \"#fb9f3a\"], [0.8888888888888888, \"#fdca26\"], [1.0, \"#f0f921\"]], \"type\": \"contour\"}], \"contourcarpet\": [{\"colorbar\": {\"outlinewidth\": 0, \"ticks\": \"\"}, \"type\": \"contourcarpet\"}], \"heatmap\": [{\"colorbar\": {\"outlinewidth\": 0, \"ticks\": \"\"}, \"colorscale\": [[0.0, \"#0d0887\"], [0.1111111111111111, \"#46039f\"], [0.2222222222222222, \"#7201a8\"], [0.3333333333333333, \"#9c179e\"], [0.4444444444444444, \"#bd3786\"], [0.5555555555555556, \"#d8576b\"], [0.6666666666666666, \"#ed7953\"], [0.7777777777777778, \"#fb9f3a\"], [0.8888888888888888, \"#fdca26\"], [1.0, \"#f0f921\"]], \"type\": \"heatmap\"}], \"heatmapgl\": [{\"colorbar\": {\"outlinewidth\": 0, \"ticks\": \"\"}, \"colorscale\": [[0.0, \"#0d0887\"], [0.1111111111111111, \"#46039f\"], [0.2222222222222222, \"#7201a8\"], [0.3333333333333333, \"#9c179e\"], [0.4444444444444444, \"#bd3786\"], [0.5555555555555556, \"#d8576b\"], [0.6666666666666666, \"#ed7953\"], [0.7777777777777778, \"#fb9f3a\"], [0.8888888888888888, \"#fdca26\"], [1.0, \"#f0f921\"]], \"type\": \"heatmapgl\"}], \"histogram\": [{\"marker\": {\"colorbar\": {\"outlinewidth\": 0, \"ticks\": \"\"}}, \"type\": \"histogram\"}], \"histogram2d\": [{\"colorbar\": {\"outlinewidth\": 0, \"ticks\": \"\"}, \"colorscale\": [[0.0, \"#0d0887\"], [0.1111111111111111, \"#46039f\"], [0.2222222222222222, \"#7201a8\"], [0.3333333333333333, \"#9c179e\"], [0.4444444444444444, \"#bd3786\"], [0.5555555555555556, \"#d8576b\"], [0.6666666666666666, \"#ed7953\"], [0.7777777777777778, \"#fb9f3a\"], [0.8888888888888888, \"#fdca26\"], [1.0, \"#f0f921\"]], \"type\": \"histogram2d\"}], \"histogram2dcontour\": [{\"colorbar\": {\"outlinewidth\": 0, \"ticks\": \"\"}, \"colorscale\": [[0.0, \"#0d0887\"], [0.1111111111111111, \"#46039f\"], [0.2222222222222222, \"#7201a8\"], [0.3333333333333333, \"#9c179e\"], [0.4444444444444444, \"#bd3786\"], [0.5555555555555556, \"#d8576b\"], [0.6666666666666666, \"#ed7953\"], [0.7777777777777778, \"#fb9f3a\"], [0.8888888888888888, \"#fdca26\"], [1.0, \"#f0f921\"]], \"type\": \"histogram2dcontour\"}], \"mesh3d\": [{\"colorbar\": {\"outlinewidth\": 0, \"ticks\": \"\"}, \"type\": \"mesh3d\"}], \"parcoords\": [{\"line\": {\"colorbar\": {\"outlinewidth\": 0, \"ticks\": \"\"}}, \"type\": \"parcoords\"}], \"pie\": [{\"automargin\": true, \"type\": \"pie\"}], \"scatter\": [{\"marker\": {\"colorbar\": {\"outlinewidth\": 0, \"ticks\": \"\"}}, \"type\": \"scatter\"}], \"scatter3d\": [{\"line\": {\"colorbar\": {\"outlinewidth\": 0, \"ticks\": \"\"}}, \"marker\": {\"colorbar\": {\"outlinewidth\": 0, \"ticks\": \"\"}}, \"type\": \"scatter3d\"}], \"scattercarpet\": [{\"marker\": {\"colorbar\": {\"outlinewidth\": 0, \"ticks\": \"\"}}, \"type\": \"scattercarpet\"}], \"scattergeo\": [{\"marker\": {\"colorbar\": {\"outlinewidth\": 0, \"ticks\": \"\"}}, \"type\": \"scattergeo\"}], \"scattergl\": [{\"marker\": {\"colorbar\": {\"outlinewidth\": 0, \"ticks\": \"\"}}, \"type\": \"scattergl\"}], \"scattermapbox\": [{\"marker\": {\"colorbar\": {\"outlinewidth\": 0, \"ticks\": \"\"}}, \"type\": \"scattermapbox\"}], \"scatterpolar\": [{\"marker\": {\"colorbar\": {\"outlinewidth\": 0, \"ticks\": \"\"}}, \"type\": \"scatterpolar\"}], \"scatterpolargl\": [{\"marker\": {\"colorbar\": {\"outlinewidth\": 0, \"ticks\": \"\"}}, \"type\": \"scatterpolargl\"}], \"scatterternary\": [{\"marker\": {\"colorbar\": {\"outlinewidth\": 0, \"ticks\": \"\"}}, \"type\": \"scatterternary\"}], \"surface\": [{\"colorbar\": {\"outlinewidth\": 0, \"ticks\": \"\"}, \"colorscale\": [[0.0, \"#0d0887\"], [0.1111111111111111, \"#46039f\"], [0.2222222222222222, \"#7201a8\"], [0.3333333333333333, \"#9c179e\"], [0.4444444444444444, \"#bd3786\"], [0.5555555555555556, \"#d8576b\"], [0.6666666666666666, \"#ed7953\"], [0.7777777777777778, \"#fb9f3a\"], [0.8888888888888888, \"#fdca26\"], [1.0, \"#f0f921\"]], \"type\": \"surface\"}], \"table\": [{\"cells\": {\"fill\": {\"color\": \"#EBF0F8\"}, \"line\": {\"color\": \"white\"}}, \"header\": {\"fill\": {\"color\": \"#C8D4E3\"}, \"line\": {\"color\": \"white\"}}, \"type\": \"table\"}]}, \"layout\": {\"annotationdefaults\": {\"arrowcolor\": \"#2a3f5f\", \"arrowhead\": 0, \"arrowwidth\": 1}, \"autotypenumbers\": \"strict\", \"coloraxis\": {\"colorbar\": {\"outlinewidth\": 0, \"ticks\": \"\"}}, \"colorscale\": {\"diverging\": [[0, \"#8e0152\"], [0.1, \"#c51b7d\"], [0.2, \"#de77ae\"], [0.3, \"#f1b6da\"], [0.4, \"#fde0ef\"], [0.5, \"#f7f7f7\"], [0.6, \"#e6f5d0\"], [0.7, \"#b8e186\"], [0.8, \"#7fbc41\"], [0.9, \"#4d9221\"], [1, \"#276419\"]], \"sequential\": [[0.0, \"#0d0887\"], [0.1111111111111111, \"#46039f\"], [0.2222222222222222, \"#7201a8\"], [0.3333333333333333, \"#9c179e\"], [0.4444444444444444, \"#bd3786\"], [0.5555555555555556, \"#d8576b\"], [0.6666666666666666, \"#ed7953\"], [0.7777777777777778, \"#fb9f3a\"], [0.8888888888888888, \"#fdca26\"], [1.0, \"#f0f921\"]], \"sequentialminus\": [[0.0, \"#0d0887\"], [0.1111111111111111, \"#46039f\"], [0.2222222222222222, \"#7201a8\"], [0.3333333333333333, \"#9c179e\"], [0.4444444444444444, \"#bd3786\"], [0.5555555555555556, \"#d8576b\"], [0.6666666666666666, \"#ed7953\"], [0.7777777777777778, \"#fb9f3a\"], [0.8888888888888888, \"#fdca26\"], [1.0, \"#f0f921\"]]}, \"colorway\": [\"#636efa\", \"#EF553B\", \"#00cc96\", \"#ab63fa\", \"#FFA15A\", \"#19d3f3\", \"#FF6692\", \"#B6E880\", \"#FF97FF\", \"#FECB52\"], \"font\": {\"color\": \"#2a3f5f\"}, \"geo\": {\"bgcolor\": \"white\", \"lakecolor\": \"white\", \"landcolor\": \"#E5ECF6\", \"showlakes\": true, \"showland\": true, \"subunitcolor\": \"white\"}, \"hoverlabel\": {\"align\": \"left\"}, \"hovermode\": \"closest\", \"mapbox\": {\"style\": \"light\"}, \"paper_bgcolor\": \"white\", \"plot_bgcolor\": \"#E5ECF6\", \"polar\": {\"angularaxis\": {\"gridcolor\": \"white\", \"linecolor\": \"white\", \"ticks\": \"\"}, \"bgcolor\": \"#E5ECF6\", \"radialaxis\": {\"gridcolor\": \"white\", \"linecolor\": \"white\", \"ticks\": \"\"}}, \"scene\": {\"xaxis\": {\"backgroundcolor\": \"#E5ECF6\", \"gridcolor\": \"white\", \"gridwidth\": 2, \"linecolor\": \"white\", \"showbackground\": true, \"ticks\": \"\", \"zerolinecolor\": \"white\"}, \"yaxis\": {\"backgroundcolor\": \"#E5ECF6\", \"gridcolor\": \"white\", \"gridwidth\": 2, \"linecolor\": \"white\", \"showbackground\": true, \"ticks\": \"\", \"zerolinecolor\": \"white\"}, \"zaxis\": {\"backgroundcolor\": \"#E5ECF6\", \"gridcolor\": \"white\", \"gridwidth\": 2, \"linecolor\": \"white\", \"showbackground\": true, \"ticks\": \"\", \"zerolinecolor\": \"white\"}}, \"shapedefaults\": {\"line\": {\"color\": \"#2a3f5f\"}}, \"ternary\": {\"aaxis\": {\"gridcolor\": \"white\", \"linecolor\": \"white\", \"ticks\": \"\"}, \"baxis\": {\"gridcolor\": \"white\", \"linecolor\": \"white\", \"ticks\": \"\"}, \"bgcolor\": \"#E5ECF6\", \"caxis\": {\"gridcolor\": \"white\", \"linecolor\": \"white\", \"ticks\": \"\"}}, \"title\": {\"x\": 0.05}, \"xaxis\": {\"automargin\": true, \"gridcolor\": \"white\", \"linecolor\": \"white\", \"ticks\": \"\", \"title\": {\"standoff\": 15}, \"zerolinecolor\": \"white\", \"zerolinewidth\": 2}, \"yaxis\": {\"automargin\": true, \"gridcolor\": \"white\", \"linecolor\": \"white\", \"ticks\": \"\", \"title\": {\"standoff\": 15}, \"zerolinecolor\": \"white\", \"zerolinewidth\": 2}}}, \"title\": {\"text\": \"Lookahead Returns of AAPL Stock\"}},                        {\"displayModeBar\": false, \"showAxisRangeEntryBoxes\": true, \"responsive\": true}                    ).then(function(){\n",
       "                            \n",
       "var gd = document.getElementById('72e7b575-1acf-45e9-92b5-ff007a446791');\n",
       "var x = new MutationObserver(function (mutations, observer) {{\n",
       "        var display = window.getComputedStyle(gd).display;\n",
       "        if (!display || display === 'none') {{\n",
       "            console.log([gd, 'removed!']);\n",
       "            Plotly.purge(gd);\n",
       "            observer.disconnect();\n",
       "        }}\n",
       "}});\n",
       "\n",
       "// Listen for the removal of the full notebook cells\n",
       "var notebookContainer = gd.closest('#notebook-container');\n",
       "if (notebookContainer) {{\n",
       "    x.observe(notebookContainer, {childList: true});\n",
       "}}\n",
       "\n",
       "// Listen for the clearing of the current output cell\n",
       "var outputEl = gd.closest('.output');\n",
       "if (outputEl) {{\n",
       "    x.observe(outputEl, {childList: true});\n",
       "}}\n",
       "\n",
       "                        })                };                });            </script>        </div>"
      ]
     },
     "metadata": {},
     "output_type": "display_data"
    }
   ],
   "source": [
    "plot_shifted_returns(\n",
    "    lookahead_returns.loc[:, \"AAPL\"],\n",
    "    monthly_log_df.loc[:, \"AAPL\"],\n",
    "    'Lookahead Returns of {} Stock'.format(\"AAPL\"))"
   ]
  },
  {
   "cell_type": "markdown",
   "metadata": {},
   "source": [
    "### Generate Trading Signal\n",
    "\n",
    "A trading signal is a sequence of trading actions, or results that can be used to take trading actions. A common form is to produce a **\"long\"** and **\"short\"** portfolio of stocks on each date (e.g. end of each month, or whatever frequency you desire to trade at). This signal can be interpreted as rebalancing your portfolio on each of those dates, entering long (**\"buy\"**) and short (**\"sell\"**) positions as indicated.\n",
    "\n",
    "Here's a strategy that we will try:\n",
    "> For each month-end observation period,will rank the stocks by previous returns(**prev_returns**), from the highest to the lowest. \n",
    "The top performing stocks for the long portfolio, and the bottom performing stocks for the short portfolio.\n",
    "\n",
    "The top performing stocks from prev_returns by assigning them a value of 1. For all other stocks, give them a value of 0."
   ]
  },
  {
   "cell_type": "code",
   "execution_count": 138,
   "metadata": {},
   "outputs": [],
   "source": [
    "def get_top_n(prev_returns, top_n):\n",
    "    \n",
    "    d = pd.DataFrame(0, index=prev_returns.index, columns=prev_returns.columns)\n",
    "    \n",
    "    for index, row in prev_returns.iterrows():\n",
    "        top_performers = row.nlargest(top_n).index\n",
    "        d.loc[index, top_performers] = 1\n",
    "    \n",
    "    return d"
   ]
  },
  {
   "cell_type": "code",
   "execution_count": 139,
   "metadata": {},
   "outputs": [],
   "source": [
    "top_bottom_n = 50\n",
    "df_long = get_top_n(prev_returns, top_bottom_n)\n",
    "df_short = get_top_n(-1*prev_returns, top_bottom_n)"
   ]
  },
  {
   "cell_type": "code",
   "execution_count": 140,
   "metadata": {},
   "outputs": [],
   "source": [
    "def print_top(df, name, top_n=15):\n",
    "    print('{} Most {}:'.format(top_n, name))\n",
    "    print(', '.join(df.sum().sort_values(ascending=False).index[:top_n].values.tolist()))"
   ]
  },
  {
   "cell_type": "code",
   "execution_count": 141,
   "metadata": {},
   "outputs": [
    {
     "name": "stdout",
     "output_type": "stream",
     "text": [
      "15 Most Longed Stocks:\n",
      "AMD, ABMD, DXCM, NVDA, CZR, ENPH, NFLX, TSLA, TWTR, ILMN, ANET, MU, SWKS, PAYC, FANG\n",
      "15 Most Shorted Stocks:\n",
      "ENPH, MRO, FCX, TWTR, DVN, APA, HAL, WYNN, HES, DISCK, DISCA, WDC, LB, AMD, CF\n"
     ]
    }
   ],
   "source": [
    "print_top(df_long, 'Longed Stocks')\n",
    "print_top(df_short, 'Shorted Stocks')"
   ]
  },
  {
   "cell_type": "markdown",
   "metadata": {},
   "source": [
    "##  Returns\n",
    "Check if our trading signal has the potential to become profitable!\n"
   ]
  },
  {
   "cell_type": "code",
   "execution_count": 142,
   "metadata": {},
   "outputs": [],
   "source": [
    "def portfolio_returns(df_long, df_short, lookahead_returns, n_stocks):\n",
    "    \n",
    "    \n",
    "     portfolio = df_long - df_short\n",
    "   \n",
    "     portfolio_returns = portfolio * lookahead_returns / n_stocks\n",
    "       \n",
    "     print(\"Total Number of Trading\",len(portfolio > portfolio * lookahead_returns))\n",
    "     return portfolio_returns"
   ]
  },
  {
   "cell_type": "code",
   "execution_count": 143,
   "metadata": {},
   "outputs": [],
   "source": [
    "def plot_returns(returns, title):\n",
    "    config = generate_config()\n",
    "    layout = go.Layout(title=title)\n",
    "\n",
    "    traces = _generate_traces([\n",
    "        ('Returns', returns, color_scheme['major_line'])])\n",
    "\n",
    "    offline_py.iplot({'data': traces, 'layout': layout}, config=config)\n",
    "\n"
   ]
  },
  {
   "cell_type": "markdown",
   "metadata": {},
   "source": [
    "### Enter you Initial Capital, Max Capital per asset and Trading charge"
   ]
  },
  {
   "cell_type": "code",
   "execution_count": 144,
   "metadata": {
    "scrolled": true
   },
   "outputs": [
    {
     "name": "stdout",
     "output_type": "stream",
     "text": [
      "Enter your Initial capital:1000000\n",
      "Enter Max Capital per trade:1000\n",
      "Enter Trading charge in percentage:2\n"
     ]
    }
   ],
   "source": [
    "initial_capital = int(input(\"Enter your Initial capital:\"))\n",
    "max_captial_per_trade = int(input(\"Enter Max Capital per trade:\"))\n",
    "trading_charge = int(input(\"Enter Trading charge in percentage:\"))"
   ]
  },
  {
   "cell_type": "code",
   "execution_count": 151,
   "metadata": {},
   "outputs": [
    {
     "name": "stdout",
     "output_type": "stream",
     "text": [
      "Total Number of Trading 61\n"
     ]
    },
    {
     "data": {
      "application/vnd.plotly.v1+json": {
       "config": {
        "displayModeBar": false,
        "linkText": "Export to plot.ly",
        "plotlyServerURL": "https://plot.ly",
        "showAxisRangeEntryBoxes": true,
        "showLink": false
       },
       "data": [
        {
         "line": {
          "color": "#2D3ECF"
         },
         "name": "Returns",
         "type": "scatter",
         "x": [
          "2013-12-31T00:00:00",
          "2014-01-31T00:00:00",
          "2014-02-28T00:00:00",
          "2014-03-31T00:00:00",
          "2014-04-30T00:00:00",
          "2014-05-31T00:00:00",
          "2014-06-30T00:00:00",
          "2014-07-31T00:00:00",
          "2014-08-31T00:00:00",
          "2014-09-30T00:00:00",
          "2014-10-31T00:00:00",
          "2014-11-30T00:00:00",
          "2014-12-31T00:00:00",
          "2015-01-31T00:00:00",
          "2015-02-28T00:00:00",
          "2015-03-31T00:00:00",
          "2015-04-30T00:00:00",
          "2015-05-31T00:00:00",
          "2015-06-30T00:00:00",
          "2015-07-31T00:00:00",
          "2015-08-31T00:00:00",
          "2015-09-30T00:00:00",
          "2015-10-31T00:00:00",
          "2015-11-30T00:00:00",
          "2015-12-31T00:00:00",
          "2016-01-31T00:00:00",
          "2016-02-29T00:00:00",
          "2016-03-31T00:00:00",
          "2016-04-30T00:00:00",
          "2016-05-31T00:00:00",
          "2016-06-30T00:00:00",
          "2016-07-31T00:00:00",
          "2016-08-31T00:00:00",
          "2016-09-30T00:00:00",
          "2016-10-31T00:00:00",
          "2016-11-30T00:00:00",
          "2016-12-31T00:00:00",
          "2017-01-31T00:00:00",
          "2017-02-28T00:00:00",
          "2017-03-31T00:00:00",
          "2017-04-30T00:00:00",
          "2017-05-31T00:00:00",
          "2017-06-30T00:00:00",
          "2017-07-31T00:00:00",
          "2017-08-31T00:00:00",
          "2017-09-30T00:00:00",
          "2017-10-31T00:00:00",
          "2017-11-30T00:00:00",
          "2017-12-31T00:00:00",
          "2018-01-31T00:00:00",
          "2018-02-28T00:00:00",
          "2018-03-31T00:00:00",
          "2018-04-30T00:00:00",
          "2018-05-31T00:00:00",
          "2018-06-30T00:00:00",
          "2018-07-31T00:00:00",
          "2018-08-31T00:00:00",
          "2018-09-30T00:00:00",
          "2018-10-31T00:00:00",
          "2018-11-30T00:00:00",
          "2018-12-31T00:00:00"
         ],
         "y": [
          0,
          0,
          -0.2523562786233702,
          -0.13058614714807126,
          -0.12307227265370325,
          -0.2467585106576179,
          0.22138176438639495,
          0.13052242290892407,
          0.3381554504536147,
          0.1474300751228941,
          0.4326462053491479,
          0.38953160366195705,
          0.2762767442651961,
          -0.2095180718989461,
          0.43191653289292103,
          0.17778423117693273,
          0.5290842127954143,
          -0.15771505458392304,
          0.3492008814309968,
          0.08455580202275201,
          0.7165368215737411,
          -0.0869339084304249,
          0.20445301549206726,
          -0.26204665892244283,
          -0.1867844555854532,
          -0.07996542114489105,
          -0.21206515190351471,
          -0.3660775174846749,
          0.17493656206869776,
          -0.04308713888449694,
          0.05108302410537443,
          -0.6074034753073463,
          0.1315167279870304,
          0.10543510994286101,
          -0.04407804959177865,
          0.1862350640344713,
          -0.15842844622799754,
          0.2725158110219946,
          0.39532236426424944,
          0.1361497423896716,
          0.6077792599371681,
          -0.11248494143716792,
          0.05844507976111831,
          0.13239682248803125,
          0.08292478869200022,
          0.6602999368665676,
          0.4504316054295902,
          -0.20844610708609101,
          -0.21950607862747026,
          -0.09195554056660701,
          -0.4203907822190771,
          -0.3497466605302244,
          0.3911707759457911,
          0.2495727693783683,
          -0.38475449351019747,
          0.17840330720616807,
          0.210839702168553,
          -0.07992654262408189,
          -0.11727904797001426,
          0.4549751220226751,
          0
         ]
        }
       ],
       "layout": {
        "template": {
         "data": {
          "bar": [
           {
            "error_x": {
             "color": "#2a3f5f"
            },
            "error_y": {
             "color": "#2a3f5f"
            },
            "marker": {
             "line": {
              "color": "#E5ECF6",
              "width": 0.5
             }
            },
            "type": "bar"
           }
          ],
          "barpolar": [
           {
            "marker": {
             "line": {
              "color": "#E5ECF6",
              "width": 0.5
             }
            },
            "type": "barpolar"
           }
          ],
          "carpet": [
           {
            "aaxis": {
             "endlinecolor": "#2a3f5f",
             "gridcolor": "white",
             "linecolor": "white",
             "minorgridcolor": "white",
             "startlinecolor": "#2a3f5f"
            },
            "baxis": {
             "endlinecolor": "#2a3f5f",
             "gridcolor": "white",
             "linecolor": "white",
             "minorgridcolor": "white",
             "startlinecolor": "#2a3f5f"
            },
            "type": "carpet"
           }
          ],
          "choropleth": [
           {
            "colorbar": {
             "outlinewidth": 0,
             "ticks": ""
            },
            "type": "choropleth"
           }
          ],
          "contour": [
           {
            "colorbar": {
             "outlinewidth": 0,
             "ticks": ""
            },
            "colorscale": [
             [
              0,
              "#0d0887"
             ],
             [
              0.1111111111111111,
              "#46039f"
             ],
             [
              0.2222222222222222,
              "#7201a8"
             ],
             [
              0.3333333333333333,
              "#9c179e"
             ],
             [
              0.4444444444444444,
              "#bd3786"
             ],
             [
              0.5555555555555556,
              "#d8576b"
             ],
             [
              0.6666666666666666,
              "#ed7953"
             ],
             [
              0.7777777777777778,
              "#fb9f3a"
             ],
             [
              0.8888888888888888,
              "#fdca26"
             ],
             [
              1,
              "#f0f921"
             ]
            ],
            "type": "contour"
           }
          ],
          "contourcarpet": [
           {
            "colorbar": {
             "outlinewidth": 0,
             "ticks": ""
            },
            "type": "contourcarpet"
           }
          ],
          "heatmap": [
           {
            "colorbar": {
             "outlinewidth": 0,
             "ticks": ""
            },
            "colorscale": [
             [
              0,
              "#0d0887"
             ],
             [
              0.1111111111111111,
              "#46039f"
             ],
             [
              0.2222222222222222,
              "#7201a8"
             ],
             [
              0.3333333333333333,
              "#9c179e"
             ],
             [
              0.4444444444444444,
              "#bd3786"
             ],
             [
              0.5555555555555556,
              "#d8576b"
             ],
             [
              0.6666666666666666,
              "#ed7953"
             ],
             [
              0.7777777777777778,
              "#fb9f3a"
             ],
             [
              0.8888888888888888,
              "#fdca26"
             ],
             [
              1,
              "#f0f921"
             ]
            ],
            "type": "heatmap"
           }
          ],
          "heatmapgl": [
           {
            "colorbar": {
             "outlinewidth": 0,
             "ticks": ""
            },
            "colorscale": [
             [
              0,
              "#0d0887"
             ],
             [
              0.1111111111111111,
              "#46039f"
             ],
             [
              0.2222222222222222,
              "#7201a8"
             ],
             [
              0.3333333333333333,
              "#9c179e"
             ],
             [
              0.4444444444444444,
              "#bd3786"
             ],
             [
              0.5555555555555556,
              "#d8576b"
             ],
             [
              0.6666666666666666,
              "#ed7953"
             ],
             [
              0.7777777777777778,
              "#fb9f3a"
             ],
             [
              0.8888888888888888,
              "#fdca26"
             ],
             [
              1,
              "#f0f921"
             ]
            ],
            "type": "heatmapgl"
           }
          ],
          "histogram": [
           {
            "marker": {
             "colorbar": {
              "outlinewidth": 0,
              "ticks": ""
             }
            },
            "type": "histogram"
           }
          ],
          "histogram2d": [
           {
            "colorbar": {
             "outlinewidth": 0,
             "ticks": ""
            },
            "colorscale": [
             [
              0,
              "#0d0887"
             ],
             [
              0.1111111111111111,
              "#46039f"
             ],
             [
              0.2222222222222222,
              "#7201a8"
             ],
             [
              0.3333333333333333,
              "#9c179e"
             ],
             [
              0.4444444444444444,
              "#bd3786"
             ],
             [
              0.5555555555555556,
              "#d8576b"
             ],
             [
              0.6666666666666666,
              "#ed7953"
             ],
             [
              0.7777777777777778,
              "#fb9f3a"
             ],
             [
              0.8888888888888888,
              "#fdca26"
             ],
             [
              1,
              "#f0f921"
             ]
            ],
            "type": "histogram2d"
           }
          ],
          "histogram2dcontour": [
           {
            "colorbar": {
             "outlinewidth": 0,
             "ticks": ""
            },
            "colorscale": [
             [
              0,
              "#0d0887"
             ],
             [
              0.1111111111111111,
              "#46039f"
             ],
             [
              0.2222222222222222,
              "#7201a8"
             ],
             [
              0.3333333333333333,
              "#9c179e"
             ],
             [
              0.4444444444444444,
              "#bd3786"
             ],
             [
              0.5555555555555556,
              "#d8576b"
             ],
             [
              0.6666666666666666,
              "#ed7953"
             ],
             [
              0.7777777777777778,
              "#fb9f3a"
             ],
             [
              0.8888888888888888,
              "#fdca26"
             ],
             [
              1,
              "#f0f921"
             ]
            ],
            "type": "histogram2dcontour"
           }
          ],
          "mesh3d": [
           {
            "colorbar": {
             "outlinewidth": 0,
             "ticks": ""
            },
            "type": "mesh3d"
           }
          ],
          "parcoords": [
           {
            "line": {
             "colorbar": {
              "outlinewidth": 0,
              "ticks": ""
             }
            },
            "type": "parcoords"
           }
          ],
          "pie": [
           {
            "automargin": true,
            "type": "pie"
           }
          ],
          "scatter": [
           {
            "marker": {
             "colorbar": {
              "outlinewidth": 0,
              "ticks": ""
             }
            },
            "type": "scatter"
           }
          ],
          "scatter3d": [
           {
            "line": {
             "colorbar": {
              "outlinewidth": 0,
              "ticks": ""
             }
            },
            "marker": {
             "colorbar": {
              "outlinewidth": 0,
              "ticks": ""
             }
            },
            "type": "scatter3d"
           }
          ],
          "scattercarpet": [
           {
            "marker": {
             "colorbar": {
              "outlinewidth": 0,
              "ticks": ""
             }
            },
            "type": "scattercarpet"
           }
          ],
          "scattergeo": [
           {
            "marker": {
             "colorbar": {
              "outlinewidth": 0,
              "ticks": ""
             }
            },
            "type": "scattergeo"
           }
          ],
          "scattergl": [
           {
            "marker": {
             "colorbar": {
              "outlinewidth": 0,
              "ticks": ""
             }
            },
            "type": "scattergl"
           }
          ],
          "scattermapbox": [
           {
            "marker": {
             "colorbar": {
              "outlinewidth": 0,
              "ticks": ""
             }
            },
            "type": "scattermapbox"
           }
          ],
          "scatterpolar": [
           {
            "marker": {
             "colorbar": {
              "outlinewidth": 0,
              "ticks": ""
             }
            },
            "type": "scatterpolar"
           }
          ],
          "scatterpolargl": [
           {
            "marker": {
             "colorbar": {
              "outlinewidth": 0,
              "ticks": ""
             }
            },
            "type": "scatterpolargl"
           }
          ],
          "scatterternary": [
           {
            "marker": {
             "colorbar": {
              "outlinewidth": 0,
              "ticks": ""
             }
            },
            "type": "scatterternary"
           }
          ],
          "surface": [
           {
            "colorbar": {
             "outlinewidth": 0,
             "ticks": ""
            },
            "colorscale": [
             [
              0,
              "#0d0887"
             ],
             [
              0.1111111111111111,
              "#46039f"
             ],
             [
              0.2222222222222222,
              "#7201a8"
             ],
             [
              0.3333333333333333,
              "#9c179e"
             ],
             [
              0.4444444444444444,
              "#bd3786"
             ],
             [
              0.5555555555555556,
              "#d8576b"
             ],
             [
              0.6666666666666666,
              "#ed7953"
             ],
             [
              0.7777777777777778,
              "#fb9f3a"
             ],
             [
              0.8888888888888888,
              "#fdca26"
             ],
             [
              1,
              "#f0f921"
             ]
            ],
            "type": "surface"
           }
          ],
          "table": [
           {
            "cells": {
             "fill": {
              "color": "#EBF0F8"
             },
             "line": {
              "color": "white"
             }
            },
            "header": {
             "fill": {
              "color": "#C8D4E3"
             },
             "line": {
              "color": "white"
             }
            },
            "type": "table"
           }
          ]
         },
         "layout": {
          "annotationdefaults": {
           "arrowcolor": "#2a3f5f",
           "arrowhead": 0,
           "arrowwidth": 1
          },
          "autotypenumbers": "strict",
          "coloraxis": {
           "colorbar": {
            "outlinewidth": 0,
            "ticks": ""
           }
          },
          "colorscale": {
           "diverging": [
            [
             0,
             "#8e0152"
            ],
            [
             0.1,
             "#c51b7d"
            ],
            [
             0.2,
             "#de77ae"
            ],
            [
             0.3,
             "#f1b6da"
            ],
            [
             0.4,
             "#fde0ef"
            ],
            [
             0.5,
             "#f7f7f7"
            ],
            [
             0.6,
             "#e6f5d0"
            ],
            [
             0.7,
             "#b8e186"
            ],
            [
             0.8,
             "#7fbc41"
            ],
            [
             0.9,
             "#4d9221"
            ],
            [
             1,
             "#276419"
            ]
           ],
           "sequential": [
            [
             0,
             "#0d0887"
            ],
            [
             0.1111111111111111,
             "#46039f"
            ],
            [
             0.2222222222222222,
             "#7201a8"
            ],
            [
             0.3333333333333333,
             "#9c179e"
            ],
            [
             0.4444444444444444,
             "#bd3786"
            ],
            [
             0.5555555555555556,
             "#d8576b"
            ],
            [
             0.6666666666666666,
             "#ed7953"
            ],
            [
             0.7777777777777778,
             "#fb9f3a"
            ],
            [
             0.8888888888888888,
             "#fdca26"
            ],
            [
             1,
             "#f0f921"
            ]
           ],
           "sequentialminus": [
            [
             0,
             "#0d0887"
            ],
            [
             0.1111111111111111,
             "#46039f"
            ],
            [
             0.2222222222222222,
             "#7201a8"
            ],
            [
             0.3333333333333333,
             "#9c179e"
            ],
            [
             0.4444444444444444,
             "#bd3786"
            ],
            [
             0.5555555555555556,
             "#d8576b"
            ],
            [
             0.6666666666666666,
             "#ed7953"
            ],
            [
             0.7777777777777778,
             "#fb9f3a"
            ],
            [
             0.8888888888888888,
             "#fdca26"
            ],
            [
             1,
             "#f0f921"
            ]
           ]
          },
          "colorway": [
           "#636efa",
           "#EF553B",
           "#00cc96",
           "#ab63fa",
           "#FFA15A",
           "#19d3f3",
           "#FF6692",
           "#B6E880",
           "#FF97FF",
           "#FECB52"
          ],
          "font": {
           "color": "#2a3f5f"
          },
          "geo": {
           "bgcolor": "white",
           "lakecolor": "white",
           "landcolor": "#E5ECF6",
           "showlakes": true,
           "showland": true,
           "subunitcolor": "white"
          },
          "hoverlabel": {
           "align": "left"
          },
          "hovermode": "closest",
          "mapbox": {
           "style": "light"
          },
          "paper_bgcolor": "white",
          "plot_bgcolor": "#E5ECF6",
          "polar": {
           "angularaxis": {
            "gridcolor": "white",
            "linecolor": "white",
            "ticks": ""
           },
           "bgcolor": "#E5ECF6",
           "radialaxis": {
            "gridcolor": "white",
            "linecolor": "white",
            "ticks": ""
           }
          },
          "scene": {
           "xaxis": {
            "backgroundcolor": "#E5ECF6",
            "gridcolor": "white",
            "gridwidth": 2,
            "linecolor": "white",
            "showbackground": true,
            "ticks": "",
            "zerolinecolor": "white"
           },
           "yaxis": {
            "backgroundcolor": "#E5ECF6",
            "gridcolor": "white",
            "gridwidth": 2,
            "linecolor": "white",
            "showbackground": true,
            "ticks": "",
            "zerolinecolor": "white"
           },
           "zaxis": {
            "backgroundcolor": "#E5ECF6",
            "gridcolor": "white",
            "gridwidth": 2,
            "linecolor": "white",
            "showbackground": true,
            "ticks": "",
            "zerolinecolor": "white"
           }
          },
          "shapedefaults": {
           "line": {
            "color": "#2a3f5f"
           }
          },
          "ternary": {
           "aaxis": {
            "gridcolor": "white",
            "linecolor": "white",
            "ticks": ""
           },
           "baxis": {
            "gridcolor": "white",
            "linecolor": "white",
            "ticks": ""
           },
           "bgcolor": "#E5ECF6",
           "caxis": {
            "gridcolor": "white",
            "linecolor": "white",
            "ticks": ""
           }
          },
          "title": {
           "x": 0.05
          },
          "xaxis": {
           "automargin": true,
           "gridcolor": "white",
           "linecolor": "white",
           "ticks": "",
           "title": {
            "standoff": 15
           },
           "zerolinecolor": "white",
           "zerolinewidth": 2
          },
          "yaxis": {
           "automargin": true,
           "gridcolor": "white",
           "linecolor": "white",
           "ticks": "",
           "title": {
            "standoff": 15
           },
           "zerolinecolor": "white",
           "zerolinewidth": 2
          }
         }
        },
        "title": {
         "text": "Portfolio Returns"
        }
       }
      },
      "text/html": [
       "<div>                            <div id=\"132e2c55-d954-4ef9-a081-da967f344e3a\" class=\"plotly-graph-div\" style=\"height:525px; width:100%;\"></div>            <script type=\"text/javascript\">                require([\"plotly\"], function(Plotly) {                    window.PLOTLYENV=window.PLOTLYENV || {};                                    if (document.getElementById(\"132e2c55-d954-4ef9-a081-da967f344e3a\")) {                    Plotly.newPlot(                        \"132e2c55-d954-4ef9-a081-da967f344e3a\",                        [{\"line\": {\"color\": \"#2D3ECF\"}, \"name\": \"Returns\", \"type\": \"scatter\", \"x\": [\"2013-12-31T00:00:00\", \"2014-01-31T00:00:00\", \"2014-02-28T00:00:00\", \"2014-03-31T00:00:00\", \"2014-04-30T00:00:00\", \"2014-05-31T00:00:00\", \"2014-06-30T00:00:00\", \"2014-07-31T00:00:00\", \"2014-08-31T00:00:00\", \"2014-09-30T00:00:00\", \"2014-10-31T00:00:00\", \"2014-11-30T00:00:00\", \"2014-12-31T00:00:00\", \"2015-01-31T00:00:00\", \"2015-02-28T00:00:00\", \"2015-03-31T00:00:00\", \"2015-04-30T00:00:00\", \"2015-05-31T00:00:00\", \"2015-06-30T00:00:00\", \"2015-07-31T00:00:00\", \"2015-08-31T00:00:00\", \"2015-09-30T00:00:00\", \"2015-10-31T00:00:00\", \"2015-11-30T00:00:00\", \"2015-12-31T00:00:00\", \"2016-01-31T00:00:00\", \"2016-02-29T00:00:00\", \"2016-03-31T00:00:00\", \"2016-04-30T00:00:00\", \"2016-05-31T00:00:00\", \"2016-06-30T00:00:00\", \"2016-07-31T00:00:00\", \"2016-08-31T00:00:00\", \"2016-09-30T00:00:00\", \"2016-10-31T00:00:00\", \"2016-11-30T00:00:00\", \"2016-12-31T00:00:00\", \"2017-01-31T00:00:00\", \"2017-02-28T00:00:00\", \"2017-03-31T00:00:00\", \"2017-04-30T00:00:00\", \"2017-05-31T00:00:00\", \"2017-06-30T00:00:00\", \"2017-07-31T00:00:00\", \"2017-08-31T00:00:00\", \"2017-09-30T00:00:00\", \"2017-10-31T00:00:00\", \"2017-11-30T00:00:00\", \"2017-12-31T00:00:00\", \"2018-01-31T00:00:00\", \"2018-02-28T00:00:00\", \"2018-03-31T00:00:00\", \"2018-04-30T00:00:00\", \"2018-05-31T00:00:00\", \"2018-06-30T00:00:00\", \"2018-07-31T00:00:00\", \"2018-08-31T00:00:00\", \"2018-09-30T00:00:00\", \"2018-10-31T00:00:00\", \"2018-11-30T00:00:00\", \"2018-12-31T00:00:00\"], \"y\": [0.0, 0.0, -0.2523562786233702, -0.13058614714807126, -0.12307227265370325, -0.2467585106576179, 0.22138176438639495, 0.13052242290892407, 0.3381554504536147, 0.1474300751228941, 0.4326462053491479, 0.38953160366195705, 0.2762767442651961, -0.2095180718989461, 0.43191653289292103, 0.17778423117693273, 0.5290842127954143, -0.15771505458392304, 0.3492008814309968, 0.08455580202275201, 0.7165368215737411, -0.0869339084304249, 0.20445301549206726, -0.26204665892244283, -0.1867844555854532, -0.07996542114489105, -0.21206515190351471, -0.3660775174846749, 0.17493656206869776, -0.04308713888449694, 0.05108302410537443, -0.6074034753073463, 0.1315167279870304, 0.10543510994286101, -0.04407804959177865, 0.1862350640344713, -0.15842844622799754, 0.2725158110219946, 0.39532236426424944, 0.1361497423896716, 0.6077792599371681, -0.11248494143716792, 0.05844507976111831, 0.13239682248803125, 0.08292478869200022, 0.6602999368665676, 0.4504316054295902, -0.20844610708609101, -0.21950607862747026, -0.09195554056660701, -0.4203907822190771, -0.3497466605302244, 0.3911707759457911, 0.2495727693783683, -0.38475449351019747, 0.17840330720616807, 0.210839702168553, -0.07992654262408189, -0.11727904797001426, 0.4549751220226751, 0.0]}],                        {\"template\": {\"data\": {\"bar\": [{\"error_x\": {\"color\": \"#2a3f5f\"}, \"error_y\": {\"color\": \"#2a3f5f\"}, \"marker\": {\"line\": {\"color\": \"#E5ECF6\", \"width\": 0.5}}, \"type\": \"bar\"}], \"barpolar\": [{\"marker\": {\"line\": {\"color\": \"#E5ECF6\", \"width\": 0.5}}, \"type\": \"barpolar\"}], \"carpet\": [{\"aaxis\": {\"endlinecolor\": \"#2a3f5f\", \"gridcolor\": \"white\", \"linecolor\": \"white\", \"minorgridcolor\": \"white\", \"startlinecolor\": \"#2a3f5f\"}, \"baxis\": {\"endlinecolor\": \"#2a3f5f\", \"gridcolor\": \"white\", \"linecolor\": \"white\", \"minorgridcolor\": \"white\", \"startlinecolor\": \"#2a3f5f\"}, \"type\": \"carpet\"}], \"choropleth\": [{\"colorbar\": {\"outlinewidth\": 0, \"ticks\": \"\"}, \"type\": \"choropleth\"}], \"contour\": [{\"colorbar\": {\"outlinewidth\": 0, \"ticks\": \"\"}, \"colorscale\": [[0.0, \"#0d0887\"], [0.1111111111111111, \"#46039f\"], [0.2222222222222222, \"#7201a8\"], [0.3333333333333333, \"#9c179e\"], [0.4444444444444444, \"#bd3786\"], [0.5555555555555556, \"#d8576b\"], [0.6666666666666666, \"#ed7953\"], [0.7777777777777778, \"#fb9f3a\"], [0.8888888888888888, \"#fdca26\"], [1.0, \"#f0f921\"]], \"type\": \"contour\"}], \"contourcarpet\": [{\"colorbar\": {\"outlinewidth\": 0, \"ticks\": \"\"}, \"type\": \"contourcarpet\"}], \"heatmap\": [{\"colorbar\": {\"outlinewidth\": 0, \"ticks\": \"\"}, \"colorscale\": [[0.0, \"#0d0887\"], [0.1111111111111111, \"#46039f\"], [0.2222222222222222, \"#7201a8\"], [0.3333333333333333, \"#9c179e\"], [0.4444444444444444, \"#bd3786\"], [0.5555555555555556, \"#d8576b\"], [0.6666666666666666, \"#ed7953\"], [0.7777777777777778, \"#fb9f3a\"], [0.8888888888888888, \"#fdca26\"], [1.0, \"#f0f921\"]], \"type\": \"heatmap\"}], \"heatmapgl\": [{\"colorbar\": {\"outlinewidth\": 0, \"ticks\": \"\"}, \"colorscale\": [[0.0, \"#0d0887\"], [0.1111111111111111, \"#46039f\"], [0.2222222222222222, \"#7201a8\"], [0.3333333333333333, \"#9c179e\"], [0.4444444444444444, \"#bd3786\"], [0.5555555555555556, \"#d8576b\"], [0.6666666666666666, \"#ed7953\"], [0.7777777777777778, \"#fb9f3a\"], [0.8888888888888888, \"#fdca26\"], [1.0, \"#f0f921\"]], \"type\": \"heatmapgl\"}], \"histogram\": [{\"marker\": {\"colorbar\": {\"outlinewidth\": 0, \"ticks\": \"\"}}, \"type\": \"histogram\"}], \"histogram2d\": [{\"colorbar\": {\"outlinewidth\": 0, \"ticks\": \"\"}, \"colorscale\": [[0.0, \"#0d0887\"], [0.1111111111111111, \"#46039f\"], [0.2222222222222222, \"#7201a8\"], [0.3333333333333333, \"#9c179e\"], [0.4444444444444444, \"#bd3786\"], [0.5555555555555556, \"#d8576b\"], [0.6666666666666666, \"#ed7953\"], [0.7777777777777778, \"#fb9f3a\"], [0.8888888888888888, \"#fdca26\"], [1.0, \"#f0f921\"]], \"type\": \"histogram2d\"}], \"histogram2dcontour\": [{\"colorbar\": {\"outlinewidth\": 0, \"ticks\": \"\"}, \"colorscale\": [[0.0, \"#0d0887\"], [0.1111111111111111, \"#46039f\"], [0.2222222222222222, \"#7201a8\"], [0.3333333333333333, \"#9c179e\"], [0.4444444444444444, \"#bd3786\"], [0.5555555555555556, \"#d8576b\"], [0.6666666666666666, \"#ed7953\"], [0.7777777777777778, \"#fb9f3a\"], [0.8888888888888888, \"#fdca26\"], [1.0, \"#f0f921\"]], \"type\": \"histogram2dcontour\"}], \"mesh3d\": [{\"colorbar\": {\"outlinewidth\": 0, \"ticks\": \"\"}, \"type\": \"mesh3d\"}], \"parcoords\": [{\"line\": {\"colorbar\": {\"outlinewidth\": 0, \"ticks\": \"\"}}, \"type\": \"parcoords\"}], \"pie\": [{\"automargin\": true, \"type\": \"pie\"}], \"scatter\": [{\"marker\": {\"colorbar\": {\"outlinewidth\": 0, \"ticks\": \"\"}}, \"type\": \"scatter\"}], \"scatter3d\": [{\"line\": {\"colorbar\": {\"outlinewidth\": 0, \"ticks\": \"\"}}, \"marker\": {\"colorbar\": {\"outlinewidth\": 0, \"ticks\": \"\"}}, \"type\": \"scatter3d\"}], \"scattercarpet\": [{\"marker\": {\"colorbar\": {\"outlinewidth\": 0, \"ticks\": \"\"}}, \"type\": \"scattercarpet\"}], \"scattergeo\": [{\"marker\": {\"colorbar\": {\"outlinewidth\": 0, \"ticks\": \"\"}}, \"type\": \"scattergeo\"}], \"scattergl\": [{\"marker\": {\"colorbar\": {\"outlinewidth\": 0, \"ticks\": \"\"}}, \"type\": \"scattergl\"}], \"scattermapbox\": [{\"marker\": {\"colorbar\": {\"outlinewidth\": 0, \"ticks\": \"\"}}, \"type\": \"scattermapbox\"}], \"scatterpolar\": [{\"marker\": {\"colorbar\": {\"outlinewidth\": 0, \"ticks\": \"\"}}, \"type\": \"scatterpolar\"}], \"scatterpolargl\": [{\"marker\": {\"colorbar\": {\"outlinewidth\": 0, \"ticks\": \"\"}}, \"type\": \"scatterpolargl\"}], \"scatterternary\": [{\"marker\": {\"colorbar\": {\"outlinewidth\": 0, \"ticks\": \"\"}}, \"type\": \"scatterternary\"}], \"surface\": [{\"colorbar\": {\"outlinewidth\": 0, \"ticks\": \"\"}, \"colorscale\": [[0.0, \"#0d0887\"], [0.1111111111111111, \"#46039f\"], [0.2222222222222222, \"#7201a8\"], [0.3333333333333333, \"#9c179e\"], [0.4444444444444444, \"#bd3786\"], [0.5555555555555556, \"#d8576b\"], [0.6666666666666666, \"#ed7953\"], [0.7777777777777778, \"#fb9f3a\"], [0.8888888888888888, \"#fdca26\"], [1.0, \"#f0f921\"]], \"type\": \"surface\"}], \"table\": [{\"cells\": {\"fill\": {\"color\": \"#EBF0F8\"}, \"line\": {\"color\": \"white\"}}, \"header\": {\"fill\": {\"color\": \"#C8D4E3\"}, \"line\": {\"color\": \"white\"}}, \"type\": \"table\"}]}, \"layout\": {\"annotationdefaults\": {\"arrowcolor\": \"#2a3f5f\", \"arrowhead\": 0, \"arrowwidth\": 1}, \"autotypenumbers\": \"strict\", \"coloraxis\": {\"colorbar\": {\"outlinewidth\": 0, \"ticks\": \"\"}}, \"colorscale\": {\"diverging\": [[0, \"#8e0152\"], [0.1, \"#c51b7d\"], [0.2, \"#de77ae\"], [0.3, \"#f1b6da\"], [0.4, \"#fde0ef\"], [0.5, \"#f7f7f7\"], [0.6, \"#e6f5d0\"], [0.7, \"#b8e186\"], [0.8, \"#7fbc41\"], [0.9, \"#4d9221\"], [1, \"#276419\"]], \"sequential\": [[0.0, \"#0d0887\"], [0.1111111111111111, \"#46039f\"], [0.2222222222222222, \"#7201a8\"], [0.3333333333333333, \"#9c179e\"], [0.4444444444444444, \"#bd3786\"], [0.5555555555555556, \"#d8576b\"], [0.6666666666666666, \"#ed7953\"], [0.7777777777777778, \"#fb9f3a\"], [0.8888888888888888, \"#fdca26\"], [1.0, \"#f0f921\"]], \"sequentialminus\": [[0.0, \"#0d0887\"], [0.1111111111111111, \"#46039f\"], [0.2222222222222222, \"#7201a8\"], [0.3333333333333333, \"#9c179e\"], [0.4444444444444444, \"#bd3786\"], [0.5555555555555556, \"#d8576b\"], [0.6666666666666666, \"#ed7953\"], [0.7777777777777778, \"#fb9f3a\"], [0.8888888888888888, \"#fdca26\"], [1.0, \"#f0f921\"]]}, \"colorway\": [\"#636efa\", \"#EF553B\", \"#00cc96\", \"#ab63fa\", \"#FFA15A\", \"#19d3f3\", \"#FF6692\", \"#B6E880\", \"#FF97FF\", \"#FECB52\"], \"font\": {\"color\": \"#2a3f5f\"}, \"geo\": {\"bgcolor\": \"white\", \"lakecolor\": \"white\", \"landcolor\": \"#E5ECF6\", \"showlakes\": true, \"showland\": true, \"subunitcolor\": \"white\"}, \"hoverlabel\": {\"align\": \"left\"}, \"hovermode\": \"closest\", \"mapbox\": {\"style\": \"light\"}, \"paper_bgcolor\": \"white\", \"plot_bgcolor\": \"#E5ECF6\", \"polar\": {\"angularaxis\": {\"gridcolor\": \"white\", \"linecolor\": \"white\", \"ticks\": \"\"}, \"bgcolor\": \"#E5ECF6\", \"radialaxis\": {\"gridcolor\": \"white\", \"linecolor\": \"white\", \"ticks\": \"\"}}, \"scene\": {\"xaxis\": {\"backgroundcolor\": \"#E5ECF6\", \"gridcolor\": \"white\", \"gridwidth\": 2, \"linecolor\": \"white\", \"showbackground\": true, \"ticks\": \"\", \"zerolinecolor\": \"white\"}, \"yaxis\": {\"backgroundcolor\": \"#E5ECF6\", \"gridcolor\": \"white\", \"gridwidth\": 2, \"linecolor\": \"white\", \"showbackground\": true, \"ticks\": \"\", \"zerolinecolor\": \"white\"}, \"zaxis\": {\"backgroundcolor\": \"#E5ECF6\", \"gridcolor\": \"white\", \"gridwidth\": 2, \"linecolor\": \"white\", \"showbackground\": true, \"ticks\": \"\", \"zerolinecolor\": \"white\"}}, \"shapedefaults\": {\"line\": {\"color\": \"#2a3f5f\"}}, \"ternary\": {\"aaxis\": {\"gridcolor\": \"white\", \"linecolor\": \"white\", \"ticks\": \"\"}, \"baxis\": {\"gridcolor\": \"white\", \"linecolor\": \"white\", \"ticks\": \"\"}, \"bgcolor\": \"#E5ECF6\", \"caxis\": {\"gridcolor\": \"white\", \"linecolor\": \"white\", \"ticks\": \"\"}}, \"title\": {\"x\": 0.05}, \"xaxis\": {\"automargin\": true, \"gridcolor\": \"white\", \"linecolor\": \"white\", \"ticks\": \"\", \"title\": {\"standoff\": 15}, \"zerolinecolor\": \"white\", \"zerolinewidth\": 2}, \"yaxis\": {\"automargin\": true, \"gridcolor\": \"white\", \"linecolor\": \"white\", \"ticks\": \"\", \"title\": {\"standoff\": 15}, \"zerolinecolor\": \"white\", \"zerolinewidth\": 2}}}, \"title\": {\"text\": \"Portfolio Returns\"}},                        {\"displayModeBar\": false, \"showAxisRangeEntryBoxes\": true, \"responsive\": true}                    ).then(function(){\n",
       "                            \n",
       "var gd = document.getElementById('132e2c55-d954-4ef9-a081-da967f344e3a');\n",
       "var x = new MutationObserver(function (mutations, observer) {{\n",
       "        var display = window.getComputedStyle(gd).display;\n",
       "        if (!display || display === 'none') {{\n",
       "            console.log([gd, 'removed!']);\n",
       "            Plotly.purge(gd);\n",
       "            observer.disconnect();\n",
       "        }}\n",
       "}});\n",
       "\n",
       "// Listen for the removal of the full notebook cells\n",
       "var notebookContainer = gd.closest('#notebook-container');\n",
       "if (notebookContainer) {{\n",
       "    x.observe(notebookContainer, {childList: true});\n",
       "}}\n",
       "\n",
       "// Listen for the clearing of the current output cell\n",
       "var outputEl = gd.closest('.output');\n",
       "if (outputEl) {{\n",
       "    x.observe(outputEl, {childList: true});\n",
       "}}\n",
       "\n",
       "                        })                };                });            </script>        </div>"
      ]
     },
     "metadata": {},
     "output_type": "display_data"
    }
   ],
   "source": [
    "expected_portfolio_returns = portfolio_returns(df_long, df_short,lookahead_returns,5)\n",
    "plot_returns(expected_portfolio_returns.T.sum(), 'Portfolio Returns')"
   ]
  },
  {
   "cell_type": "code",
   "execution_count": 152,
   "metadata": {},
   "outputs": [
    {
     "name": "stdout",
     "output_type": "stream",
     "text": [
      "    Mean:                         0.0690\n",
      "    Standard Error:               0.0365\n",
      "    Standard Deviation:           0.2855\n",
      "    Annualized Rate of Return:    128.85%\n",
      "    Initilal Invested Amount:     1000000\n",
      "    Total Numer of Trading Done:  61\n",
      "    Total Trading Charge:         1220.0\n",
      "    Current Portfolio Amount:     2287310.7479\n",
      "    Total profit Amount:          1287310.7479\n"
     ]
    }
   ],
   "source": [
    "def calculate_return(expected_portfolio_returns,initial_capital,max_captial_per_trade,trading_charge):\n",
    "    expected_portfolio_returns_by_date = expected_portfolio_returns.T.sum().dropna()\n",
    "\n",
    "    #Mean\n",
    "    portfolio_ret_mean = expected_portfolio_returns_by_date.mean()\n",
    "\n",
    "    #standard Deviation\n",
    "    portfolio_std = expected_portfolio_returns_by_date.std()\n",
    "\n",
    "    #Total no of trading Done\n",
    "    Total_no_of_trading = len(expected_portfolio_returns_by_date)\n",
    "\n",
    "    #Total Trading Charge\n",
    "    Total_trading_charge = Total_no_of_trading*(int(initial_capital/max_captial_per_trade)*trading_charge/100)\n",
    "\n",
    "\n",
    "    #standard error of the mean over requested axis.\n",
    "\n",
    "    portfolio_ret_ste = expected_portfolio_returns_by_date.sem()\n",
    "\n",
    "    portfolio_ret_annual_rate = (np.exp(portfolio_ret_mean * 12) - 1) * 100\n",
    "\n",
    "\n",
    "    Current_portfolio = initial_capital+(initial_capital*portfolio_ret_annual_rate/100)\n",
    "\n",
    "    Current_portfolio_after_trading_charge = (Current_portfolio-Total_trading_charge)\n",
    "    print(f'\\\n",
    "    Mean:                         {(portfolio_ret_mean):.4f}\\n\\\n",
    "    Standard Error:               {portfolio_ret_ste:.4f}\\n\\\n",
    "    Standard Deviation:           {portfolio_std:.4f}\\n\\\n",
    "    Annualized Rate of Return:    {portfolio_ret_annual_rate:.2f}%\\n\\\n",
    "    Initilal Invested Amount:     {initial_capital}\\n\\\n",
    "    Total Numer of Trading Done:  {Total_no_of_trading}\\n\\\n",
    "    Total Trading Charge:         {Total_trading_charge}\\n\\\n",
    "    Current Portfolio Amount:     {Current_portfolio_after_trading_charge:.4f}\\n\\\n",
    "    Total profit Amount:          {(Current_portfolio_after_trading_charge-initial_capital):.4f}')\n",
    "calculate_return(expected_portfolio_returns,initial_capital,max_captial_per_trade,trading_charge)"
   ]
  },
  {
   "cell_type": "markdown",
   "metadata": {},
   "source": [
    "#### T-Test\n",
    "Our null hypothesis ($H_0$) is that the actual mean return from the signal is zero. We'll perform a one-sample, one-sided t-test on the observed mean return, to see if we can reject $H_0$.\n",
    "\n",
    "We'll need to first compute the t-statistic, and then find its corresponding p-value. The p-value will indicate the probability of observing a mean return equally or more extreme than the one we observed if the null hypothesis were true. A small p-value means that the chance of observing the mean we observed under the null hypothesis is small, and thus casts doubt on the null hypothesis. It's good practice to set a desired level of significance or alpha ($\\alpha$) _before_ computing the p-value, and then reject the null hypothesis if $p < \\alpha$.\n",
    "\n",
    "We'll use $\\alpha = 0.05$, since it's a common value to use."
   ]
  },
  {
   "cell_type": "code",
   "execution_count": 153,
   "metadata": {},
   "outputs": [],
   "source": [
    "expected_portfolio_returns_by_date = expected_portfolio_returns.T.sum().dropna()"
   ]
  },
  {
   "cell_type": "code",
   "execution_count": 154,
   "metadata": {},
   "outputs": [],
   "source": [
    "from scipy import stats\n",
    "\n",
    "def analyze_alpha(expected_portfolio_returns_by_date):\n",
    "    \n",
    "    null_hypothesis = 0.0\n",
    "    t_statistic, p_value = stats.ttest_1samp(expected_portfolio_returns_by_date, null_hypothesis)\n",
    "    # divide the p-value by 2 to get 1-sided p-value\n",
    "    p_value = p_value / 2\n",
    "\n",
    "    return t_statistic, p_value\n"
   ]
  },
  {
   "cell_type": "code",
   "execution_count": 155,
   "metadata": {
    "scrolled": true
   },
   "outputs": [
    {
     "name": "stdout",
     "output_type": "stream",
     "text": [
      "\n",
      "Alpha analysis:\n",
      " t-value:        1.888\n",
      " p-value:        0.031957\n",
      "\n"
     ]
    }
   ],
   "source": [
    "t_value, p_value = analyze_alpha(expected_portfolio_returns_by_date)\n",
    "print(\"\"\"\n",
    "Alpha analysis:\n",
    " t-value:        {:.3f}\n",
    " p-value:        {:.6f}\n",
    "\"\"\".format(t_value, p_value))"
   ]
  },
  {
   "cell_type": "markdown",
   "metadata": {},
   "source": [
    "$p < \\alpha$ we can reject the null hypothesis"
   ]
  },
  {
   "cell_type": "markdown",
   "metadata": {},
   "source": [
    "# Test our Model with Test Datset"
   ]
  },
  {
   "cell_type": "code",
   "execution_count": 156,
   "metadata": {},
   "outputs": [
    {
     "data": {
      "text/html": [
       "<div>\n",
       "<style scoped>\n",
       "    .dataframe tbody tr th:only-of-type {\n",
       "        vertical-align: middle;\n",
       "    }\n",
       "\n",
       "    .dataframe tbody tr th {\n",
       "        vertical-align: top;\n",
       "    }\n",
       "\n",
       "    .dataframe thead th {\n",
       "        text-align: right;\n",
       "    }\n",
       "</style>\n",
       "<table border=\"1\" class=\"dataframe\">\n",
       "  <thead>\n",
       "    <tr style=\"text-align: right;\">\n",
       "      <th></th>\n",
       "      <th>Open</th>\n",
       "      <th>High</th>\n",
       "      <th>Low</th>\n",
       "      <th>Close</th>\n",
       "      <th>Adj Close</th>\n",
       "      <th>Volume</th>\n",
       "      <th>Name</th>\n",
       "    </tr>\n",
       "    <tr>\n",
       "      <th>Date</th>\n",
       "      <th></th>\n",
       "      <th></th>\n",
       "      <th></th>\n",
       "      <th></th>\n",
       "      <th></th>\n",
       "      <th></th>\n",
       "      <th></th>\n",
       "    </tr>\n",
       "  </thead>\n",
       "  <tbody>\n",
       "    <tr>\n",
       "      <th>2018-12-31</th>\n",
       "      <td>190.339996</td>\n",
       "      <td>191.649994</td>\n",
       "      <td>188.500000</td>\n",
       "      <td>190.539993</td>\n",
       "      <td>174.972015</td>\n",
       "      <td>1804400.0</td>\n",
       "      <td>MMM</td>\n",
       "    </tr>\n",
       "    <tr>\n",
       "      <th>2019-01-02</th>\n",
       "      <td>187.820007</td>\n",
       "      <td>190.990005</td>\n",
       "      <td>186.699997</td>\n",
       "      <td>190.949997</td>\n",
       "      <td>175.348480</td>\n",
       "      <td>2475200.0</td>\n",
       "      <td>MMM</td>\n",
       "    </tr>\n",
       "    <tr>\n",
       "      <th>2019-01-03</th>\n",
       "      <td>188.279999</td>\n",
       "      <td>188.279999</td>\n",
       "      <td>182.889999</td>\n",
       "      <td>183.759995</td>\n",
       "      <td>168.745956</td>\n",
       "      <td>3358200.0</td>\n",
       "      <td>MMM</td>\n",
       "    </tr>\n",
       "    <tr>\n",
       "      <th>2019-01-04</th>\n",
       "      <td>186.750000</td>\n",
       "      <td>191.979996</td>\n",
       "      <td>186.029999</td>\n",
       "      <td>191.320007</td>\n",
       "      <td>175.688278</td>\n",
       "      <td>2995100.0</td>\n",
       "      <td>MMM</td>\n",
       "    </tr>\n",
       "    <tr>\n",
       "      <th>2019-01-07</th>\n",
       "      <td>191.360001</td>\n",
       "      <td>192.300003</td>\n",
       "      <td>188.660004</td>\n",
       "      <td>190.880005</td>\n",
       "      <td>175.284241</td>\n",
       "      <td>2162200.0</td>\n",
       "      <td>MMM</td>\n",
       "    </tr>\n",
       "  </tbody>\n",
       "</table>\n",
       "</div>"
      ],
      "text/plain": [
       "                  Open        High         Low       Close   Adj Close  \\\n",
       "Date                                                                     \n",
       "2018-12-31  190.339996  191.649994  188.500000  190.539993  174.972015   \n",
       "2019-01-02  187.820007  190.990005  186.699997  190.949997  175.348480   \n",
       "2019-01-03  188.279999  188.279999  182.889999  183.759995  168.745956   \n",
       "2019-01-04  186.750000  191.979996  186.029999  191.320007  175.688278   \n",
       "2019-01-07  191.360001  192.300003  188.660004  190.880005  175.284241   \n",
       "\n",
       "               Volume Name  \n",
       "Date                        \n",
       "2018-12-31  1804400.0  MMM  \n",
       "2019-01-02  2475200.0  MMM  \n",
       "2019-01-03  3358200.0  MMM  \n",
       "2019-01-04  2995100.0  MMM  \n",
       "2019-01-07  2162200.0  MMM  "
      ]
     },
     "execution_count": 156,
     "metadata": {},
     "output_type": "execute_result"
    }
   ],
   "source": [
    "df_test.head()"
   ]
  },
  {
   "cell_type": "code",
   "execution_count": 157,
   "metadata": {},
   "outputs": [],
   "source": [
    "df = df_test.drop(['Open', 'High', 'Low', 'Close', 'Volume'],axis=1)\n",
    "df.reset_index(inplace=True)\n",
    "df = df.pivot(index='Date', columns='Name', values='Adj Close')"
   ]
  },
  {
   "cell_type": "code",
   "execution_count": 158,
   "metadata": {},
   "outputs": [
    {
     "data": {
      "text/html": [
       "<div>\n",
       "<style scoped>\n",
       "    .dataframe tbody tr th:only-of-type {\n",
       "        vertical-align: middle;\n",
       "    }\n",
       "\n",
       "    .dataframe tbody tr th {\n",
       "        vertical-align: top;\n",
       "    }\n",
       "\n",
       "    .dataframe thead th {\n",
       "        text-align: right;\n",
       "    }\n",
       "</style>\n",
       "<table border=\"1\" class=\"dataframe\">\n",
       "  <thead>\n",
       "    <tr style=\"text-align: right;\">\n",
       "      <th>Name</th>\n",
       "      <th>A</th>\n",
       "      <th>AAL</th>\n",
       "      <th>AAP</th>\n",
       "      <th>AAPL</th>\n",
       "      <th>ABBV</th>\n",
       "      <th>ABC</th>\n",
       "      <th>ABMD</th>\n",
       "      <th>ABT</th>\n",
       "      <th>ACN</th>\n",
       "      <th>ADBE</th>\n",
       "      <th>...</th>\n",
       "      <th>XEL</th>\n",
       "      <th>XLNX</th>\n",
       "      <th>XOM</th>\n",
       "      <th>XRAY</th>\n",
       "      <th>XYL</th>\n",
       "      <th>YUM</th>\n",
       "      <th>ZBH</th>\n",
       "      <th>ZBRA</th>\n",
       "      <th>ZION</th>\n",
       "      <th>ZTS</th>\n",
       "    </tr>\n",
       "    <tr>\n",
       "      <th>Date</th>\n",
       "      <th></th>\n",
       "      <th></th>\n",
       "      <th></th>\n",
       "      <th></th>\n",
       "      <th></th>\n",
       "      <th></th>\n",
       "      <th></th>\n",
       "      <th></th>\n",
       "      <th></th>\n",
       "      <th></th>\n",
       "      <th></th>\n",
       "      <th></th>\n",
       "      <th></th>\n",
       "      <th></th>\n",
       "      <th></th>\n",
       "      <th></th>\n",
       "      <th></th>\n",
       "      <th></th>\n",
       "      <th></th>\n",
       "      <th></th>\n",
       "      <th></th>\n",
       "    </tr>\n",
       "  </thead>\n",
       "  <tbody>\n",
       "    <tr>\n",
       "      <th>2018-12-31</th>\n",
       "      <td>66.249969</td>\n",
       "      <td>31.599045</td>\n",
       "      <td>155.526321</td>\n",
       "      <td>38.395920</td>\n",
       "      <td>79.570717</td>\n",
       "      <td>71.153114</td>\n",
       "      <td>325.040009</td>\n",
       "      <td>69.509361</td>\n",
       "      <td>136.165054</td>\n",
       "      <td>226.240005</td>\n",
       "      <td>...</td>\n",
       "      <td>46.389065</td>\n",
       "      <td>82.728714</td>\n",
       "      <td>58.403641</td>\n",
       "      <td>36.543312</td>\n",
       "      <td>64.684654</td>\n",
       "      <td>87.913826</td>\n",
       "      <td>101.992180</td>\n",
       "      <td>159.229996</td>\n",
       "      <td>37.717342</td>\n",
       "      <td>84.257874</td>\n",
       "    </tr>\n",
       "    <tr>\n",
       "      <th>2019-01-02</th>\n",
       "      <td>64.511734</td>\n",
       "      <td>31.963160</td>\n",
       "      <td>155.980652</td>\n",
       "      <td>38.439735</td>\n",
       "      <td>77.015884</td>\n",
       "      <td>71.200935</td>\n",
       "      <td>309.959991</td>\n",
       "      <td>66.789711</td>\n",
       "      <td>135.759460</td>\n",
       "      <td>224.570007</td>\n",
       "      <td>...</td>\n",
       "      <td>45.400452</td>\n",
       "      <td>84.360565</td>\n",
       "      <td>59.688374</td>\n",
       "      <td>37.211136</td>\n",
       "      <td>64.481064</td>\n",
       "      <td>87.454773</td>\n",
       "      <td>100.576180</td>\n",
       "      <td>156.240005</td>\n",
       "      <td>38.495026</td>\n",
       "      <td>83.213768</td>\n",
       "    </tr>\n",
       "    <tr>\n",
       "      <th>2019-01-03</th>\n",
       "      <td>62.135132</td>\n",
       "      <td>29.581665</td>\n",
       "      <td>160.850128</td>\n",
       "      <td>34.610851</td>\n",
       "      <td>74.478317</td>\n",
       "      <td>70.168053</td>\n",
       "      <td>302.290009</td>\n",
       "      <td>63.637627</td>\n",
       "      <td>131.124390</td>\n",
       "      <td>215.699997</td>\n",
       "      <td>...</td>\n",
       "      <td>45.221561</td>\n",
       "      <td>81.184296</td>\n",
       "      <td>58.771938</td>\n",
       "      <td>37.230770</td>\n",
       "      <td>62.270615</td>\n",
       "      <td>85.255013</td>\n",
       "      <td>98.756989</td>\n",
       "      <td>146.880005</td>\n",
       "      <td>38.282089</td>\n",
       "      <td>80.337532</td>\n",
       "    </tr>\n",
       "    <tr>\n",
       "      <th>2019-01-04</th>\n",
       "      <td>64.285828</td>\n",
       "      <td>31.530161</td>\n",
       "      <td>156.859711</td>\n",
       "      <td>36.088364</td>\n",
       "      <td>76.877777</td>\n",
       "      <td>70.980965</td>\n",
       "      <td>313.440002</td>\n",
       "      <td>65.453934</td>\n",
       "      <td>136.223007</td>\n",
       "      <td>226.190002</td>\n",
       "      <td>...</td>\n",
       "      <td>45.664082</td>\n",
       "      <td>84.943359</td>\n",
       "      <td>60.938843</td>\n",
       "      <td>38.311062</td>\n",
       "      <td>64.897934</td>\n",
       "      <td>87.473885</td>\n",
       "      <td>102.129860</td>\n",
       "      <td>152.970001</td>\n",
       "      <td>39.457855</td>\n",
       "      <td>83.489578</td>\n",
       "    </tr>\n",
       "    <tr>\n",
       "      <th>2019-01-07</th>\n",
       "      <td>65.650917</td>\n",
       "      <td>32.425678</td>\n",
       "      <td>159.161102</td>\n",
       "      <td>36.008041</td>\n",
       "      <td>77.999825</td>\n",
       "      <td>71.487831</td>\n",
       "      <td>314.799988</td>\n",
       "      <td>66.434143</td>\n",
       "      <td>136.696152</td>\n",
       "      <td>229.259995</td>\n",
       "      <td>...</td>\n",
       "      <td>45.466366</td>\n",
       "      <td>87.187141</td>\n",
       "      <td>61.255730</td>\n",
       "      <td>38.998524</td>\n",
       "      <td>63.938145</td>\n",
       "      <td>87.378265</td>\n",
       "      <td>102.169182</td>\n",
       "      <td>155.289993</td>\n",
       "      <td>39.615250</td>\n",
       "      <td>83.991920</td>\n",
       "    </tr>\n",
       "  </tbody>\n",
       "</table>\n",
       "<p>5 rows × 503 columns</p>\n",
       "</div>"
      ],
      "text/plain": [
       "Name                A        AAL         AAP       AAPL       ABBV        ABC  \\\n",
       "Date                                                                            \n",
       "2018-12-31  66.249969  31.599045  155.526321  38.395920  79.570717  71.153114   \n",
       "2019-01-02  64.511734  31.963160  155.980652  38.439735  77.015884  71.200935   \n",
       "2019-01-03  62.135132  29.581665  160.850128  34.610851  74.478317  70.168053   \n",
       "2019-01-04  64.285828  31.530161  156.859711  36.088364  76.877777  70.980965   \n",
       "2019-01-07  65.650917  32.425678  159.161102  36.008041  77.999825  71.487831   \n",
       "\n",
       "Name              ABMD        ABT         ACN        ADBE  ...        XEL  \\\n",
       "Date                                                       ...              \n",
       "2018-12-31  325.040009  69.509361  136.165054  226.240005  ...  46.389065   \n",
       "2019-01-02  309.959991  66.789711  135.759460  224.570007  ...  45.400452   \n",
       "2019-01-03  302.290009  63.637627  131.124390  215.699997  ...  45.221561   \n",
       "2019-01-04  313.440002  65.453934  136.223007  226.190002  ...  45.664082   \n",
       "2019-01-07  314.799988  66.434143  136.696152  229.259995  ...  45.466366   \n",
       "\n",
       "Name             XLNX        XOM       XRAY        XYL        YUM         ZBH  \\\n",
       "Date                                                                            \n",
       "2018-12-31  82.728714  58.403641  36.543312  64.684654  87.913826  101.992180   \n",
       "2019-01-02  84.360565  59.688374  37.211136  64.481064  87.454773  100.576180   \n",
       "2019-01-03  81.184296  58.771938  37.230770  62.270615  85.255013   98.756989   \n",
       "2019-01-04  84.943359  60.938843  38.311062  64.897934  87.473885  102.129860   \n",
       "2019-01-07  87.187141  61.255730  38.998524  63.938145  87.378265  102.169182   \n",
       "\n",
       "Name              ZBRA       ZION        ZTS  \n",
       "Date                                          \n",
       "2018-12-31  159.229996  37.717342  84.257874  \n",
       "2019-01-02  156.240005  38.495026  83.213768  \n",
       "2019-01-03  146.880005  38.282089  80.337532  \n",
       "2019-01-04  152.970001  39.457855  83.489578  \n",
       "2019-01-07  155.289993  39.615250  83.991920  \n",
       "\n",
       "[5 rows x 503 columns]"
      ]
     },
     "execution_count": 158,
     "metadata": {},
     "output_type": "execute_result"
    }
   ],
   "source": [
    "df.head()"
   ]
  },
  {
   "cell_type": "code",
   "execution_count": 159,
   "metadata": {},
   "outputs": [],
   "source": [
    "top_bottom_n = 50\n",
    "\n",
    "df_resmaple = resample_price(df,'M')\n",
    "df_log = compute_log_returns(df_resmaple)\n",
    "\n",
    "prev_returns = shift_returns(df_log,1)\n",
    "\n",
    "lookahead_returns = shift_returns(df_log,-1)\n",
    "\n",
    "\n",
    "df_long = get_top_n(prev_returns, top_bottom_n)\n",
    "df_short = get_top_n(-1*prev_returns, top_bottom_n)"
   ]
  },
  {
   "cell_type": "code",
   "execution_count": 161,
   "metadata": {},
   "outputs": [
    {
     "name": "stdout",
     "output_type": "stream",
     "text": [
      "Enter your Initial capital:1000000\n",
      "Enter Max Capital per trade:1000\n",
      "Enter Trading charge in percentage:2\n"
     ]
    }
   ],
   "source": [
    "initial_capital = int(input(\"Enter your Initial capital:\"))\n",
    "max_captial_per_trade = int(input(\"Enter Max Capital per trade:\"))\n",
    "trading_charge = int(input(\"Enter Trading charge in percentage:\"))"
   ]
  },
  {
   "cell_type": "code",
   "execution_count": 171,
   "metadata": {},
   "outputs": [
    {
     "name": "stdout",
     "output_type": "stream",
     "text": [
      "Total Number of Trading 30\n"
     ]
    },
    {
     "data": {
      "application/vnd.plotly.v1+json": {
       "config": {
        "displayModeBar": false,
        "linkText": "Export to plot.ly",
        "plotlyServerURL": "https://plot.ly",
        "showAxisRangeEntryBoxes": true,
        "showLink": false
       },
       "data": [
        {
         "line": {
          "color": "#2D3ECF"
         },
         "name": "Returns",
         "type": "scatter",
         "x": [
          "2018-12-31T00:00:00",
          "2019-01-31T00:00:00",
          "2019-02-28T00:00:00",
          "2019-03-31T00:00:00",
          "2019-04-30T00:00:00",
          "2019-05-31T00:00:00",
          "2019-06-30T00:00:00",
          "2019-07-31T00:00:00",
          "2019-08-31T00:00:00",
          "2019-09-30T00:00:00",
          "2019-10-31T00:00:00",
          "2019-11-30T00:00:00",
          "2019-12-31T00:00:00",
          "2020-01-31T00:00:00",
          "2020-02-29T00:00:00",
          "2020-03-31T00:00:00",
          "2020-04-30T00:00:00",
          "2020-05-31T00:00:00",
          "2020-06-30T00:00:00",
          "2020-07-31T00:00:00",
          "2020-08-31T00:00:00",
          "2020-09-30T00:00:00",
          "2020-10-31T00:00:00",
          "2020-11-30T00:00:00",
          "2020-12-31T00:00:00",
          "2021-01-31T00:00:00",
          "2021-02-28T00:00:00",
          "2021-03-31T00:00:00",
          "2021-04-30T00:00:00",
          "2021-05-31T00:00:00"
         ],
         "y": [
          0,
          0,
          -0.24446212068209133,
          0.028297398951831275,
          0.2823006125755009,
          0.09636898651515903,
          0.14343692227086988,
          -0.374777187812793,
          -0.28880179537459466,
          0.16320982639009562,
          -0.3011263612566085,
          -0.08111573089015893,
          -0.1420501404269933,
          -0.3693989740511988,
          1.6939924032351923,
          -0.5336910136404824,
          -0.057435930616107495,
          0.07092644598574967,
          0.7146652450111345,
          0.2881480957162593,
          0.48593441177854135,
          -0.3656718158343653,
          -0.8649834329959645,
          0.13708286922899937,
          -0.08662477981054505,
          0.6469119716077789,
          0.02306378961387648,
          -0.24049909680349738,
          -0.02067994824336123,
          0
         ]
        }
       ],
       "layout": {
        "template": {
         "data": {
          "bar": [
           {
            "error_x": {
             "color": "#2a3f5f"
            },
            "error_y": {
             "color": "#2a3f5f"
            },
            "marker": {
             "line": {
              "color": "#E5ECF6",
              "width": 0.5
             }
            },
            "type": "bar"
           }
          ],
          "barpolar": [
           {
            "marker": {
             "line": {
              "color": "#E5ECF6",
              "width": 0.5
             }
            },
            "type": "barpolar"
           }
          ],
          "carpet": [
           {
            "aaxis": {
             "endlinecolor": "#2a3f5f",
             "gridcolor": "white",
             "linecolor": "white",
             "minorgridcolor": "white",
             "startlinecolor": "#2a3f5f"
            },
            "baxis": {
             "endlinecolor": "#2a3f5f",
             "gridcolor": "white",
             "linecolor": "white",
             "minorgridcolor": "white",
             "startlinecolor": "#2a3f5f"
            },
            "type": "carpet"
           }
          ],
          "choropleth": [
           {
            "colorbar": {
             "outlinewidth": 0,
             "ticks": ""
            },
            "type": "choropleth"
           }
          ],
          "contour": [
           {
            "colorbar": {
             "outlinewidth": 0,
             "ticks": ""
            },
            "colorscale": [
             [
              0,
              "#0d0887"
             ],
             [
              0.1111111111111111,
              "#46039f"
             ],
             [
              0.2222222222222222,
              "#7201a8"
             ],
             [
              0.3333333333333333,
              "#9c179e"
             ],
             [
              0.4444444444444444,
              "#bd3786"
             ],
             [
              0.5555555555555556,
              "#d8576b"
             ],
             [
              0.6666666666666666,
              "#ed7953"
             ],
             [
              0.7777777777777778,
              "#fb9f3a"
             ],
             [
              0.8888888888888888,
              "#fdca26"
             ],
             [
              1,
              "#f0f921"
             ]
            ],
            "type": "contour"
           }
          ],
          "contourcarpet": [
           {
            "colorbar": {
             "outlinewidth": 0,
             "ticks": ""
            },
            "type": "contourcarpet"
           }
          ],
          "heatmap": [
           {
            "colorbar": {
             "outlinewidth": 0,
             "ticks": ""
            },
            "colorscale": [
             [
              0,
              "#0d0887"
             ],
             [
              0.1111111111111111,
              "#46039f"
             ],
             [
              0.2222222222222222,
              "#7201a8"
             ],
             [
              0.3333333333333333,
              "#9c179e"
             ],
             [
              0.4444444444444444,
              "#bd3786"
             ],
             [
              0.5555555555555556,
              "#d8576b"
             ],
             [
              0.6666666666666666,
              "#ed7953"
             ],
             [
              0.7777777777777778,
              "#fb9f3a"
             ],
             [
              0.8888888888888888,
              "#fdca26"
             ],
             [
              1,
              "#f0f921"
             ]
            ],
            "type": "heatmap"
           }
          ],
          "heatmapgl": [
           {
            "colorbar": {
             "outlinewidth": 0,
             "ticks": ""
            },
            "colorscale": [
             [
              0,
              "#0d0887"
             ],
             [
              0.1111111111111111,
              "#46039f"
             ],
             [
              0.2222222222222222,
              "#7201a8"
             ],
             [
              0.3333333333333333,
              "#9c179e"
             ],
             [
              0.4444444444444444,
              "#bd3786"
             ],
             [
              0.5555555555555556,
              "#d8576b"
             ],
             [
              0.6666666666666666,
              "#ed7953"
             ],
             [
              0.7777777777777778,
              "#fb9f3a"
             ],
             [
              0.8888888888888888,
              "#fdca26"
             ],
             [
              1,
              "#f0f921"
             ]
            ],
            "type": "heatmapgl"
           }
          ],
          "histogram": [
           {
            "marker": {
             "colorbar": {
              "outlinewidth": 0,
              "ticks": ""
             }
            },
            "type": "histogram"
           }
          ],
          "histogram2d": [
           {
            "colorbar": {
             "outlinewidth": 0,
             "ticks": ""
            },
            "colorscale": [
             [
              0,
              "#0d0887"
             ],
             [
              0.1111111111111111,
              "#46039f"
             ],
             [
              0.2222222222222222,
              "#7201a8"
             ],
             [
              0.3333333333333333,
              "#9c179e"
             ],
             [
              0.4444444444444444,
              "#bd3786"
             ],
             [
              0.5555555555555556,
              "#d8576b"
             ],
             [
              0.6666666666666666,
              "#ed7953"
             ],
             [
              0.7777777777777778,
              "#fb9f3a"
             ],
             [
              0.8888888888888888,
              "#fdca26"
             ],
             [
              1,
              "#f0f921"
             ]
            ],
            "type": "histogram2d"
           }
          ],
          "histogram2dcontour": [
           {
            "colorbar": {
             "outlinewidth": 0,
             "ticks": ""
            },
            "colorscale": [
             [
              0,
              "#0d0887"
             ],
             [
              0.1111111111111111,
              "#46039f"
             ],
             [
              0.2222222222222222,
              "#7201a8"
             ],
             [
              0.3333333333333333,
              "#9c179e"
             ],
             [
              0.4444444444444444,
              "#bd3786"
             ],
             [
              0.5555555555555556,
              "#d8576b"
             ],
             [
              0.6666666666666666,
              "#ed7953"
             ],
             [
              0.7777777777777778,
              "#fb9f3a"
             ],
             [
              0.8888888888888888,
              "#fdca26"
             ],
             [
              1,
              "#f0f921"
             ]
            ],
            "type": "histogram2dcontour"
           }
          ],
          "mesh3d": [
           {
            "colorbar": {
             "outlinewidth": 0,
             "ticks": ""
            },
            "type": "mesh3d"
           }
          ],
          "parcoords": [
           {
            "line": {
             "colorbar": {
              "outlinewidth": 0,
              "ticks": ""
             }
            },
            "type": "parcoords"
           }
          ],
          "pie": [
           {
            "automargin": true,
            "type": "pie"
           }
          ],
          "scatter": [
           {
            "marker": {
             "colorbar": {
              "outlinewidth": 0,
              "ticks": ""
             }
            },
            "type": "scatter"
           }
          ],
          "scatter3d": [
           {
            "line": {
             "colorbar": {
              "outlinewidth": 0,
              "ticks": ""
             }
            },
            "marker": {
             "colorbar": {
              "outlinewidth": 0,
              "ticks": ""
             }
            },
            "type": "scatter3d"
           }
          ],
          "scattercarpet": [
           {
            "marker": {
             "colorbar": {
              "outlinewidth": 0,
              "ticks": ""
             }
            },
            "type": "scattercarpet"
           }
          ],
          "scattergeo": [
           {
            "marker": {
             "colorbar": {
              "outlinewidth": 0,
              "ticks": ""
             }
            },
            "type": "scattergeo"
           }
          ],
          "scattergl": [
           {
            "marker": {
             "colorbar": {
              "outlinewidth": 0,
              "ticks": ""
             }
            },
            "type": "scattergl"
           }
          ],
          "scattermapbox": [
           {
            "marker": {
             "colorbar": {
              "outlinewidth": 0,
              "ticks": ""
             }
            },
            "type": "scattermapbox"
           }
          ],
          "scatterpolar": [
           {
            "marker": {
             "colorbar": {
              "outlinewidth": 0,
              "ticks": ""
             }
            },
            "type": "scatterpolar"
           }
          ],
          "scatterpolargl": [
           {
            "marker": {
             "colorbar": {
              "outlinewidth": 0,
              "ticks": ""
             }
            },
            "type": "scatterpolargl"
           }
          ],
          "scatterternary": [
           {
            "marker": {
             "colorbar": {
              "outlinewidth": 0,
              "ticks": ""
             }
            },
            "type": "scatterternary"
           }
          ],
          "surface": [
           {
            "colorbar": {
             "outlinewidth": 0,
             "ticks": ""
            },
            "colorscale": [
             [
              0,
              "#0d0887"
             ],
             [
              0.1111111111111111,
              "#46039f"
             ],
             [
              0.2222222222222222,
              "#7201a8"
             ],
             [
              0.3333333333333333,
              "#9c179e"
             ],
             [
              0.4444444444444444,
              "#bd3786"
             ],
             [
              0.5555555555555556,
              "#d8576b"
             ],
             [
              0.6666666666666666,
              "#ed7953"
             ],
             [
              0.7777777777777778,
              "#fb9f3a"
             ],
             [
              0.8888888888888888,
              "#fdca26"
             ],
             [
              1,
              "#f0f921"
             ]
            ],
            "type": "surface"
           }
          ],
          "table": [
           {
            "cells": {
             "fill": {
              "color": "#EBF0F8"
             },
             "line": {
              "color": "white"
             }
            },
            "header": {
             "fill": {
              "color": "#C8D4E3"
             },
             "line": {
              "color": "white"
             }
            },
            "type": "table"
           }
          ]
         },
         "layout": {
          "annotationdefaults": {
           "arrowcolor": "#2a3f5f",
           "arrowhead": 0,
           "arrowwidth": 1
          },
          "autotypenumbers": "strict",
          "coloraxis": {
           "colorbar": {
            "outlinewidth": 0,
            "ticks": ""
           }
          },
          "colorscale": {
           "diverging": [
            [
             0,
             "#8e0152"
            ],
            [
             0.1,
             "#c51b7d"
            ],
            [
             0.2,
             "#de77ae"
            ],
            [
             0.3,
             "#f1b6da"
            ],
            [
             0.4,
             "#fde0ef"
            ],
            [
             0.5,
             "#f7f7f7"
            ],
            [
             0.6,
             "#e6f5d0"
            ],
            [
             0.7,
             "#b8e186"
            ],
            [
             0.8,
             "#7fbc41"
            ],
            [
             0.9,
             "#4d9221"
            ],
            [
             1,
             "#276419"
            ]
           ],
           "sequential": [
            [
             0,
             "#0d0887"
            ],
            [
             0.1111111111111111,
             "#46039f"
            ],
            [
             0.2222222222222222,
             "#7201a8"
            ],
            [
             0.3333333333333333,
             "#9c179e"
            ],
            [
             0.4444444444444444,
             "#bd3786"
            ],
            [
             0.5555555555555556,
             "#d8576b"
            ],
            [
             0.6666666666666666,
             "#ed7953"
            ],
            [
             0.7777777777777778,
             "#fb9f3a"
            ],
            [
             0.8888888888888888,
             "#fdca26"
            ],
            [
             1,
             "#f0f921"
            ]
           ],
           "sequentialminus": [
            [
             0,
             "#0d0887"
            ],
            [
             0.1111111111111111,
             "#46039f"
            ],
            [
             0.2222222222222222,
             "#7201a8"
            ],
            [
             0.3333333333333333,
             "#9c179e"
            ],
            [
             0.4444444444444444,
             "#bd3786"
            ],
            [
             0.5555555555555556,
             "#d8576b"
            ],
            [
             0.6666666666666666,
             "#ed7953"
            ],
            [
             0.7777777777777778,
             "#fb9f3a"
            ],
            [
             0.8888888888888888,
             "#fdca26"
            ],
            [
             1,
             "#f0f921"
            ]
           ]
          },
          "colorway": [
           "#636efa",
           "#EF553B",
           "#00cc96",
           "#ab63fa",
           "#FFA15A",
           "#19d3f3",
           "#FF6692",
           "#B6E880",
           "#FF97FF",
           "#FECB52"
          ],
          "font": {
           "color": "#2a3f5f"
          },
          "geo": {
           "bgcolor": "white",
           "lakecolor": "white",
           "landcolor": "#E5ECF6",
           "showlakes": true,
           "showland": true,
           "subunitcolor": "white"
          },
          "hoverlabel": {
           "align": "left"
          },
          "hovermode": "closest",
          "mapbox": {
           "style": "light"
          },
          "paper_bgcolor": "white",
          "plot_bgcolor": "#E5ECF6",
          "polar": {
           "angularaxis": {
            "gridcolor": "white",
            "linecolor": "white",
            "ticks": ""
           },
           "bgcolor": "#E5ECF6",
           "radialaxis": {
            "gridcolor": "white",
            "linecolor": "white",
            "ticks": ""
           }
          },
          "scene": {
           "xaxis": {
            "backgroundcolor": "#E5ECF6",
            "gridcolor": "white",
            "gridwidth": 2,
            "linecolor": "white",
            "showbackground": true,
            "ticks": "",
            "zerolinecolor": "white"
           },
           "yaxis": {
            "backgroundcolor": "#E5ECF6",
            "gridcolor": "white",
            "gridwidth": 2,
            "linecolor": "white",
            "showbackground": true,
            "ticks": "",
            "zerolinecolor": "white"
           },
           "zaxis": {
            "backgroundcolor": "#E5ECF6",
            "gridcolor": "white",
            "gridwidth": 2,
            "linecolor": "white",
            "showbackground": true,
            "ticks": "",
            "zerolinecolor": "white"
           }
          },
          "shapedefaults": {
           "line": {
            "color": "#2a3f5f"
           }
          },
          "ternary": {
           "aaxis": {
            "gridcolor": "white",
            "linecolor": "white",
            "ticks": ""
           },
           "baxis": {
            "gridcolor": "white",
            "linecolor": "white",
            "ticks": ""
           },
           "bgcolor": "#E5ECF6",
           "caxis": {
            "gridcolor": "white",
            "linecolor": "white",
            "ticks": ""
           }
          },
          "title": {
           "x": 0.05
          },
          "xaxis": {
           "automargin": true,
           "gridcolor": "white",
           "linecolor": "white",
           "ticks": "",
           "title": {
            "standoff": 15
           },
           "zerolinecolor": "white",
           "zerolinewidth": 2
          },
          "yaxis": {
           "automargin": true,
           "gridcolor": "white",
           "linecolor": "white",
           "ticks": "",
           "title": {
            "standoff": 15
           },
           "zerolinecolor": "white",
           "zerolinewidth": 2
          }
         }
        },
        "title": {
         "text": "Portfolio Returns"
        }
       }
      },
      "text/html": [
       "<div>                            <div id=\"5698fcaf-5db6-457d-984b-1649478ab1c3\" class=\"plotly-graph-div\" style=\"height:525px; width:100%;\"></div>            <script type=\"text/javascript\">                require([\"plotly\"], function(Plotly) {                    window.PLOTLYENV=window.PLOTLYENV || {};                                    if (document.getElementById(\"5698fcaf-5db6-457d-984b-1649478ab1c3\")) {                    Plotly.newPlot(                        \"5698fcaf-5db6-457d-984b-1649478ab1c3\",                        [{\"line\": {\"color\": \"#2D3ECF\"}, \"name\": \"Returns\", \"type\": \"scatter\", \"x\": [\"2018-12-31T00:00:00\", \"2019-01-31T00:00:00\", \"2019-02-28T00:00:00\", \"2019-03-31T00:00:00\", \"2019-04-30T00:00:00\", \"2019-05-31T00:00:00\", \"2019-06-30T00:00:00\", \"2019-07-31T00:00:00\", \"2019-08-31T00:00:00\", \"2019-09-30T00:00:00\", \"2019-10-31T00:00:00\", \"2019-11-30T00:00:00\", \"2019-12-31T00:00:00\", \"2020-01-31T00:00:00\", \"2020-02-29T00:00:00\", \"2020-03-31T00:00:00\", \"2020-04-30T00:00:00\", \"2020-05-31T00:00:00\", \"2020-06-30T00:00:00\", \"2020-07-31T00:00:00\", \"2020-08-31T00:00:00\", \"2020-09-30T00:00:00\", \"2020-10-31T00:00:00\", \"2020-11-30T00:00:00\", \"2020-12-31T00:00:00\", \"2021-01-31T00:00:00\", \"2021-02-28T00:00:00\", \"2021-03-31T00:00:00\", \"2021-04-30T00:00:00\", \"2021-05-31T00:00:00\"], \"y\": [0.0, 0.0, -0.24446212068209133, 0.028297398951831275, 0.2823006125755009, 0.09636898651515903, 0.14343692227086988, -0.374777187812793, -0.28880179537459466, 0.16320982639009562, -0.3011263612566085, -0.08111573089015893, -0.1420501404269933, -0.3693989740511988, 1.6939924032351923, -0.5336910136404824, -0.057435930616107495, 0.07092644598574967, 0.7146652450111345, 0.2881480957162593, 0.48593441177854135, -0.3656718158343653, -0.8649834329959645, 0.13708286922899937, -0.08662477981054505, 0.6469119716077789, 0.02306378961387648, -0.24049909680349738, -0.02067994824336123, 0.0]}],                        {\"template\": {\"data\": {\"bar\": [{\"error_x\": {\"color\": \"#2a3f5f\"}, \"error_y\": {\"color\": \"#2a3f5f\"}, \"marker\": {\"line\": {\"color\": \"#E5ECF6\", \"width\": 0.5}}, \"type\": \"bar\"}], \"barpolar\": [{\"marker\": {\"line\": {\"color\": \"#E5ECF6\", \"width\": 0.5}}, \"type\": \"barpolar\"}], \"carpet\": [{\"aaxis\": {\"endlinecolor\": \"#2a3f5f\", \"gridcolor\": \"white\", \"linecolor\": \"white\", \"minorgridcolor\": \"white\", \"startlinecolor\": \"#2a3f5f\"}, \"baxis\": {\"endlinecolor\": \"#2a3f5f\", \"gridcolor\": \"white\", \"linecolor\": \"white\", \"minorgridcolor\": \"white\", \"startlinecolor\": \"#2a3f5f\"}, \"type\": \"carpet\"}], \"choropleth\": [{\"colorbar\": {\"outlinewidth\": 0, \"ticks\": \"\"}, \"type\": \"choropleth\"}], \"contour\": [{\"colorbar\": {\"outlinewidth\": 0, \"ticks\": \"\"}, \"colorscale\": [[0.0, \"#0d0887\"], [0.1111111111111111, \"#46039f\"], [0.2222222222222222, \"#7201a8\"], [0.3333333333333333, \"#9c179e\"], [0.4444444444444444, \"#bd3786\"], [0.5555555555555556, \"#d8576b\"], [0.6666666666666666, \"#ed7953\"], [0.7777777777777778, \"#fb9f3a\"], [0.8888888888888888, \"#fdca26\"], [1.0, \"#f0f921\"]], \"type\": \"contour\"}], \"contourcarpet\": [{\"colorbar\": {\"outlinewidth\": 0, \"ticks\": \"\"}, \"type\": \"contourcarpet\"}], \"heatmap\": [{\"colorbar\": {\"outlinewidth\": 0, \"ticks\": \"\"}, \"colorscale\": [[0.0, \"#0d0887\"], [0.1111111111111111, \"#46039f\"], [0.2222222222222222, \"#7201a8\"], [0.3333333333333333, \"#9c179e\"], [0.4444444444444444, \"#bd3786\"], [0.5555555555555556, \"#d8576b\"], [0.6666666666666666, \"#ed7953\"], [0.7777777777777778, \"#fb9f3a\"], [0.8888888888888888, \"#fdca26\"], [1.0, \"#f0f921\"]], \"type\": \"heatmap\"}], \"heatmapgl\": [{\"colorbar\": {\"outlinewidth\": 0, \"ticks\": \"\"}, \"colorscale\": [[0.0, \"#0d0887\"], [0.1111111111111111, \"#46039f\"], [0.2222222222222222, \"#7201a8\"], [0.3333333333333333, \"#9c179e\"], [0.4444444444444444, \"#bd3786\"], [0.5555555555555556, \"#d8576b\"], [0.6666666666666666, \"#ed7953\"], [0.7777777777777778, \"#fb9f3a\"], [0.8888888888888888, \"#fdca26\"], [1.0, \"#f0f921\"]], \"type\": \"heatmapgl\"}], \"histogram\": [{\"marker\": {\"colorbar\": {\"outlinewidth\": 0, \"ticks\": \"\"}}, \"type\": \"histogram\"}], \"histogram2d\": [{\"colorbar\": {\"outlinewidth\": 0, \"ticks\": \"\"}, \"colorscale\": [[0.0, \"#0d0887\"], [0.1111111111111111, \"#46039f\"], [0.2222222222222222, \"#7201a8\"], [0.3333333333333333, \"#9c179e\"], [0.4444444444444444, \"#bd3786\"], [0.5555555555555556, \"#d8576b\"], [0.6666666666666666, \"#ed7953\"], [0.7777777777777778, \"#fb9f3a\"], [0.8888888888888888, \"#fdca26\"], [1.0, \"#f0f921\"]], \"type\": \"histogram2d\"}], \"histogram2dcontour\": [{\"colorbar\": {\"outlinewidth\": 0, \"ticks\": \"\"}, \"colorscale\": [[0.0, \"#0d0887\"], [0.1111111111111111, \"#46039f\"], [0.2222222222222222, \"#7201a8\"], [0.3333333333333333, \"#9c179e\"], [0.4444444444444444, \"#bd3786\"], [0.5555555555555556, \"#d8576b\"], [0.6666666666666666, \"#ed7953\"], [0.7777777777777778, \"#fb9f3a\"], [0.8888888888888888, \"#fdca26\"], [1.0, \"#f0f921\"]], \"type\": \"histogram2dcontour\"}], \"mesh3d\": [{\"colorbar\": {\"outlinewidth\": 0, \"ticks\": \"\"}, \"type\": \"mesh3d\"}], \"parcoords\": [{\"line\": {\"colorbar\": {\"outlinewidth\": 0, \"ticks\": \"\"}}, \"type\": \"parcoords\"}], \"pie\": [{\"automargin\": true, \"type\": \"pie\"}], \"scatter\": [{\"marker\": {\"colorbar\": {\"outlinewidth\": 0, \"ticks\": \"\"}}, \"type\": \"scatter\"}], \"scatter3d\": [{\"line\": {\"colorbar\": {\"outlinewidth\": 0, \"ticks\": \"\"}}, \"marker\": {\"colorbar\": {\"outlinewidth\": 0, \"ticks\": \"\"}}, \"type\": \"scatter3d\"}], \"scattercarpet\": [{\"marker\": {\"colorbar\": {\"outlinewidth\": 0, \"ticks\": \"\"}}, \"type\": \"scattercarpet\"}], \"scattergeo\": [{\"marker\": {\"colorbar\": {\"outlinewidth\": 0, \"ticks\": \"\"}}, \"type\": \"scattergeo\"}], \"scattergl\": [{\"marker\": {\"colorbar\": {\"outlinewidth\": 0, \"ticks\": \"\"}}, \"type\": \"scattergl\"}], \"scattermapbox\": [{\"marker\": {\"colorbar\": {\"outlinewidth\": 0, \"ticks\": \"\"}}, \"type\": \"scattermapbox\"}], \"scatterpolar\": [{\"marker\": {\"colorbar\": {\"outlinewidth\": 0, \"ticks\": \"\"}}, \"type\": \"scatterpolar\"}], \"scatterpolargl\": [{\"marker\": {\"colorbar\": {\"outlinewidth\": 0, \"ticks\": \"\"}}, \"type\": \"scatterpolargl\"}], \"scatterternary\": [{\"marker\": {\"colorbar\": {\"outlinewidth\": 0, \"ticks\": \"\"}}, \"type\": \"scatterternary\"}], \"surface\": [{\"colorbar\": {\"outlinewidth\": 0, \"ticks\": \"\"}, \"colorscale\": [[0.0, \"#0d0887\"], [0.1111111111111111, \"#46039f\"], [0.2222222222222222, \"#7201a8\"], [0.3333333333333333, \"#9c179e\"], [0.4444444444444444, \"#bd3786\"], [0.5555555555555556, \"#d8576b\"], [0.6666666666666666, \"#ed7953\"], [0.7777777777777778, \"#fb9f3a\"], [0.8888888888888888, \"#fdca26\"], [1.0, \"#f0f921\"]], \"type\": \"surface\"}], \"table\": [{\"cells\": {\"fill\": {\"color\": \"#EBF0F8\"}, \"line\": {\"color\": \"white\"}}, \"header\": {\"fill\": {\"color\": \"#C8D4E3\"}, \"line\": {\"color\": \"white\"}}, \"type\": \"table\"}]}, \"layout\": {\"annotationdefaults\": {\"arrowcolor\": \"#2a3f5f\", \"arrowhead\": 0, \"arrowwidth\": 1}, \"autotypenumbers\": \"strict\", \"coloraxis\": {\"colorbar\": {\"outlinewidth\": 0, \"ticks\": \"\"}}, \"colorscale\": {\"diverging\": [[0, \"#8e0152\"], [0.1, \"#c51b7d\"], [0.2, \"#de77ae\"], [0.3, \"#f1b6da\"], [0.4, \"#fde0ef\"], [0.5, \"#f7f7f7\"], [0.6, \"#e6f5d0\"], [0.7, \"#b8e186\"], [0.8, \"#7fbc41\"], [0.9, \"#4d9221\"], [1, \"#276419\"]], \"sequential\": [[0.0, \"#0d0887\"], [0.1111111111111111, \"#46039f\"], [0.2222222222222222, \"#7201a8\"], [0.3333333333333333, \"#9c179e\"], [0.4444444444444444, \"#bd3786\"], [0.5555555555555556, \"#d8576b\"], [0.6666666666666666, \"#ed7953\"], [0.7777777777777778, \"#fb9f3a\"], [0.8888888888888888, \"#fdca26\"], [1.0, \"#f0f921\"]], \"sequentialminus\": [[0.0, \"#0d0887\"], [0.1111111111111111, \"#46039f\"], [0.2222222222222222, \"#7201a8\"], [0.3333333333333333, \"#9c179e\"], [0.4444444444444444, \"#bd3786\"], [0.5555555555555556, \"#d8576b\"], [0.6666666666666666, \"#ed7953\"], [0.7777777777777778, \"#fb9f3a\"], [0.8888888888888888, \"#fdca26\"], [1.0, \"#f0f921\"]]}, \"colorway\": [\"#636efa\", \"#EF553B\", \"#00cc96\", \"#ab63fa\", \"#FFA15A\", \"#19d3f3\", \"#FF6692\", \"#B6E880\", \"#FF97FF\", \"#FECB52\"], \"font\": {\"color\": \"#2a3f5f\"}, \"geo\": {\"bgcolor\": \"white\", \"lakecolor\": \"white\", \"landcolor\": \"#E5ECF6\", \"showlakes\": true, \"showland\": true, \"subunitcolor\": \"white\"}, \"hoverlabel\": {\"align\": \"left\"}, \"hovermode\": \"closest\", \"mapbox\": {\"style\": \"light\"}, \"paper_bgcolor\": \"white\", \"plot_bgcolor\": \"#E5ECF6\", \"polar\": {\"angularaxis\": {\"gridcolor\": \"white\", \"linecolor\": \"white\", \"ticks\": \"\"}, \"bgcolor\": \"#E5ECF6\", \"radialaxis\": {\"gridcolor\": \"white\", \"linecolor\": \"white\", \"ticks\": \"\"}}, \"scene\": {\"xaxis\": {\"backgroundcolor\": \"#E5ECF6\", \"gridcolor\": \"white\", \"gridwidth\": 2, \"linecolor\": \"white\", \"showbackground\": true, \"ticks\": \"\", \"zerolinecolor\": \"white\"}, \"yaxis\": {\"backgroundcolor\": \"#E5ECF6\", \"gridcolor\": \"white\", \"gridwidth\": 2, \"linecolor\": \"white\", \"showbackground\": true, \"ticks\": \"\", \"zerolinecolor\": \"white\"}, \"zaxis\": {\"backgroundcolor\": \"#E5ECF6\", \"gridcolor\": \"white\", \"gridwidth\": 2, \"linecolor\": \"white\", \"showbackground\": true, \"ticks\": \"\", \"zerolinecolor\": \"white\"}}, \"shapedefaults\": {\"line\": {\"color\": \"#2a3f5f\"}}, \"ternary\": {\"aaxis\": {\"gridcolor\": \"white\", \"linecolor\": \"white\", \"ticks\": \"\"}, \"baxis\": {\"gridcolor\": \"white\", \"linecolor\": \"white\", \"ticks\": \"\"}, \"bgcolor\": \"#E5ECF6\", \"caxis\": {\"gridcolor\": \"white\", \"linecolor\": \"white\", \"ticks\": \"\"}}, \"title\": {\"x\": 0.05}, \"xaxis\": {\"automargin\": true, \"gridcolor\": \"white\", \"linecolor\": \"white\", \"ticks\": \"\", \"title\": {\"standoff\": 15}, \"zerolinecolor\": \"white\", \"zerolinewidth\": 2}, \"yaxis\": {\"automargin\": true, \"gridcolor\": \"white\", \"linecolor\": \"white\", \"ticks\": \"\", \"title\": {\"standoff\": 15}, \"zerolinecolor\": \"white\", \"zerolinewidth\": 2}}}, \"title\": {\"text\": \"Portfolio Returns\"}},                        {\"displayModeBar\": false, \"showAxisRangeEntryBoxes\": true, \"responsive\": true}                    ).then(function(){\n",
       "                            \n",
       "var gd = document.getElementById('5698fcaf-5db6-457d-984b-1649478ab1c3');\n",
       "var x = new MutationObserver(function (mutations, observer) {{\n",
       "        var display = window.getComputedStyle(gd).display;\n",
       "        if (!display || display === 'none') {{\n",
       "            console.log([gd, 'removed!']);\n",
       "            Plotly.purge(gd);\n",
       "            observer.disconnect();\n",
       "        }}\n",
       "}});\n",
       "\n",
       "// Listen for the removal of the full notebook cells\n",
       "var notebookContainer = gd.closest('#notebook-container');\n",
       "if (notebookContainer) {{\n",
       "    x.observe(notebookContainer, {childList: true});\n",
       "}}\n",
       "\n",
       "// Listen for the clearing of the current output cell\n",
       "var outputEl = gd.closest('.output');\n",
       "if (outputEl) {{\n",
       "    x.observe(outputEl, {childList: true});\n",
       "}}\n",
       "\n",
       "                        })                };                });            </script>        </div>"
      ]
     },
     "metadata": {},
     "output_type": "display_data"
    }
   ],
   "source": [
    "expected_portfolio_returns = portfolio_returns(df_long, df_short,lookahead_returns,5)\n",
    "plot_returns(expected_portfolio_returns.T.sum(), 'Portfolio Returns')"
   ]
  },
  {
   "cell_type": "code",
   "execution_count": 172,
   "metadata": {},
   "outputs": [
    {
     "name": "stdout",
     "output_type": "stream",
     "text": [
      "    Mean:                         0.0268\n",
      "    Standard Error:               0.0833\n",
      "    Standard Deviation:           0.4560\n",
      "    Annualized Rate of Return:    37.88%\n",
      "    Initilal Invested Amount:     1000000\n",
      "    Total Numer of Trading Done:  30\n",
      "    Total Trading Charge:         600.0\n",
      "    Current Portfolio Amount:     1378192.6986\n",
      "    Total profit Amount:          378192.6986\n"
     ]
    }
   ],
   "source": [
    "calculate_return(expected_portfolio_returns,initial_capital,max_captial_per_trade,trading_charge)"
   ]
  },
  {
   "cell_type": "code",
   "execution_count": 173,
   "metadata": {},
   "outputs": [],
   "source": [
    "expected_portfolio_returns_by_date = expected_portfolio_returns.T.sum().dropna()"
   ]
  },
  {
   "cell_type": "code",
   "execution_count": 174,
   "metadata": {},
   "outputs": [
    {
     "name": "stdout",
     "output_type": "stream",
     "text": [
      "\n",
      "Alpha analysis:\n",
      " t-value:        0.321\n",
      " p-value:        0.375074\n",
      "\n"
     ]
    }
   ],
   "source": [
    "from scipy import stats\n",
    "\n",
    "def analyze_alpha(expected_portfolio_returns_by_date):\n",
    "    \n",
    "    null_hypothesis = 0.0\n",
    "    t_statistic, p_value = stats.ttest_1samp(expected_portfolio_returns_by_date, null_hypothesis)\n",
    "    # divide the p-value by 2 to get 1-sided p-value\n",
    "    p_value = p_value / 2\n",
    "\n",
    "    return t_statistic, p_value\n",
    "t_value, p_value = analyze_alpha(expected_portfolio_returns_by_date)\n",
    "print(\"\"\"\n",
    "Alpha analysis:\n",
    " t-value:        {:.3f}\n",
    " p-value:        {:.6f}\n",
    "\"\"\".format(t_value, p_value))"
   ]
  },
  {
   "cell_type": "markdown",
   "metadata": {},
   "source": [
    " $p > \\alpha$ we canno't reject the null hypothesis\n",
    " \n",
    "The observed p-value is higher than $\\alpha = 0.05$. This means that we cannot reject the null hypothesis. In other words: the probability of observing a mean return equally or higher than the observed one, if the null hypothesis is true, is too high."
   ]
  }
 ],
 "metadata": {
  "kernelspec": {
   "display_name": "Python 3",
   "language": "python",
   "name": "python3"
  },
  "language_info": {
   "codemirror_mode": {
    "name": "ipython",
    "version": 3
   },
   "file_extension": ".py",
   "mimetype": "text/x-python",
   "name": "python",
   "nbconvert_exporter": "python",
   "pygments_lexer": "ipython3",
   "version": "3.8.5"
  }
 },
 "nbformat": 4,
 "nbformat_minor": 4
}
